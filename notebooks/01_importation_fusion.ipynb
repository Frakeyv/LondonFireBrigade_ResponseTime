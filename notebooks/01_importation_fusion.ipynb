{
 "cells": [
  {
   "cell_type": "markdown",
   "id": "8e07cad0-8b82-4156-ba8c-efe1919a114d",
   "metadata": {},
   "source": [
    "### 00 - Importation des librairies"
   ]
  },
  {
   "cell_type": "code",
   "execution_count": 2,
   "id": "6c8d19d5-1fbb-44c0-8307-49378faa2642",
   "metadata": {},
   "outputs": [],
   "source": [
    "import pandas as pd\n",
    "import numpy as np\n",
    "import re\n",
    "\n",
    "from collections import defaultdict\n",
    "from datetime import datetime\n",
    "\n",
    "from utils import racine_projet"
   ]
  },
  {
   "cell_type": "code",
   "execution_count": 11,
   "id": "dfef36c1-42a0-439d-8525-3c7da1093739",
   "metadata": {},
   "outputs": [
    {
     "data": {
      "text/plain": [
       "'/Users/kfranceschi/GitHub/projet-pompiers'"
      ]
     },
     "execution_count": 11,
     "metadata": {},
     "output_type": "execute_result"
    }
   ],
   "source": [
    "racine_projet()"
   ]
  },
  {
   "cell_type": "markdown",
   "id": "bdc6cb6b-7c3e-48cf-9c20-0ff58bebd1ca",
   "metadata": {},
   "source": [
    "### 01 - Importation des tableaux de données Incidents"
   ]
  },
  {
   "cell_type": "code",
   "execution_count": 9,
   "id": "ad51f5f1-1bea-4429-b09c-c7f77afb13a9",
   "metadata": {},
   "outputs": [],
   "source": [
    "# Premier Tableau\n",
    "dtype_dict = {'IncidentNumber': str}\n",
    "incident_9_17 = pd.read_csv(racine_projet()+'/data/raw/Incident/LFB Incident data from 2009 - 2017.csv', dtype=dtype_dict, low_memory=False)"
   ]
  },
  {
   "cell_type": "code",
   "execution_count": 12,
   "id": "1db84dc4-8b91-4992-a87c-434596ae4326",
   "metadata": {},
   "outputs": [],
   "source": [
    "# Deuxième Tableau\n",
    "incident_18_24 = pd.read_excel(racine_projet()+'/data/raw/Incident/LFB Incident data from 2018 onwards.csv.xlsx')"
   ]
  },
  {
   "cell_type": "code",
   "execution_count": 13,
   "id": "c189cc30-c3c2-4380-97bf-6e3b9f28d71b",
   "metadata": {},
   "outputs": [
    {
     "name": "stdout",
     "output_type": "stream",
     "text": [
      "Avant traitement les colonnes différentes sont les suivantes:\n",
      "['DateOfCall', 'UPRN', 'USRN']\n"
     ]
    },
    {
     "name": "stderr",
     "output_type": "stream",
     "text": [
      "/var/folders/rg/8x31xcvn0hddrq5cpz770vhc0000gn/T/ipykernel_8451/664238661.py:20: UserWarning: Could not infer format, so each element will be parsed individually, falling back to `dateutil`. To ensure parsing is consistent and as-expected, please specify a format.\n",
      "  incident_9_17[column] = incident_9_17[column].astype(incident_18_24[column].dtype)\n"
     ]
    },
    {
     "name": "stdout",
     "output_type": "stream",
     "text": [
      "Après traitement les colonnes différentes sont les suivantes:\n",
      "[]\n"
     ]
    }
   ],
   "source": [
    "# Affichage des différences de type de colonnes\n",
    "diff_columns = []\n",
    "for column in incident_9_17.columns:\n",
    "    if column in incident_18_24.columns:\n",
    "        if incident_9_17[column].dtype != incident_18_24[column].dtype:\n",
    "            diff_columns.append(column)\n",
    "print(\"Avant traitement les colonnes différentes sont les suivantes:\")\n",
    "print(diff_columns)\n",
    "\n",
    "# Harmoniser les types de données\n",
    "\n",
    "# Conservation des types de 9_17\n",
    "incident_18_24['UPRN']=incident_18_24['UPRN'].astype(incident_9_17['UPRN'].dtype)\n",
    "incident_18_24['USRN']=incident_18_24['USRN'].astype(incident_9_17['USRN'].dtype)\n",
    "\n",
    "# Conservation des types de 18_24\n",
    "for column in incident_18_24.columns:\n",
    "    if column in incident_9_17.columns:\n",
    "        # Définir le type de données de incident_9_17 en fonction de incident_18_24\n",
    "        incident_9_17[column] = incident_9_17[column].astype(incident_18_24[column].dtype)\n",
    "\n",
    "# Affichage des différences de type de colonnes\n",
    "diff_columns = []\n",
    "for column in incident_9_17.columns:\n",
    "    if column in incident_18_24.columns:\n",
    "        if incident_9_17[column].dtype != incident_18_24[column].dtype:\n",
    "            diff_columns.append(column)\n",
    "print(\"Après traitement les colonnes différentes sont les suivantes:\")\n",
    "print(diff_columns)"
   ]
  },
  {
   "cell_type": "markdown",
   "id": "482fd53c-084f-4eb4-9f7e-3f994502ad0b",
   "metadata": {},
   "source": [
    "### 02 - Concatenation incidents"
   ]
  },
  {
   "cell_type": "code",
   "execution_count": 14,
   "id": "9d8710d9-9710-4183-a079-8c78fd942506",
   "metadata": {},
   "outputs": [],
   "source": [
    "# Concatenation des deux tableaux\n",
    "incidents = pd.concat([incident_9_17, incident_18_24], ignore_index=True)"
   ]
  },
  {
   "cell_type": "markdown",
   "id": "a4dd7801-b36a-436a-b35b-5dcac600a9b2",
   "metadata": {},
   "source": [
    "### 03 - Importation des tableaux de données mobilisation"
   ]
  },
  {
   "cell_type": "code",
   "execution_count": 15,
   "id": "d0f1fb70-4150-45f0-b292-e0e051ba511b",
   "metadata": {},
   "outputs": [],
   "source": [
    "mobilisation_9_14 = pd.read_excel(racine_projet()+'/data/raw/Mobilisation/LFB Mobilisation data from January 2009 - 2014.xlsx')"
   ]
  },
  {
   "cell_type": "code",
   "execution_count": 16,
   "id": "f7fa3bd5-91d7-4e5b-9ad6-bb304203def9",
   "metadata": {},
   "outputs": [],
   "source": [
    "mobilisation_15_20 = pd.read_excel(racine_projet()+'/data/raw/Mobilisation/LFB Mobilisation data from 2015 - 2020.xlsx')"
   ]
  },
  {
   "cell_type": "code",
   "execution_count": 17,
   "id": "d7e8c8ee-a895-4065-b2ce-37e7283b49a7",
   "metadata": {},
   "outputs": [],
   "source": [
    "mobilisation_21_24 = pd.read_excel(racine_projet()+'/data/raw/Mobilisation/LFB Mobilisation data 2021 - 2024.xlsx')"
   ]
  },
  {
   "cell_type": "code",
   "execution_count": 18,
   "id": "5245d399-4c73-4355-9139-6d080962a10d",
   "metadata": {},
   "outputs": [],
   "source": [
    "# Harmoniser les types de données\n",
    "for column in mobilisation_15_20.columns:\n",
    "    if column in mobilisation_9_14.columns:\n",
    "        mobilisation_9_14[column] = mobilisation_9_14[column].astype(mobilisation_15_20[column].dtype)\n",
    "    if column in mobilisation_21_24.columns:\n",
    "        mobilisation_21_24[column] = mobilisation_21_24[column].astype(mobilisation_15_20[column].dtype)\n",
    "        "
   ]
  },
  {
   "cell_type": "markdown",
   "id": "ce3716b5-cfb5-4eec-abbd-f8e1e08e0d47",
   "metadata": {},
   "source": [
    "### 04 - Concatenation des tableaux de données mobilisation"
   ]
  },
  {
   "cell_type": "code",
   "execution_count": 19,
   "id": "9f9300b1-ddb0-454a-a8f5-ebf1eccbd43d",
   "metadata": {},
   "outputs": [],
   "source": [
    "# Concatenation \n",
    "mob = pd.concat([mobilisation_9_14, mobilisation_15_20, mobilisation_21_24 ], ignore_index=True)"
   ]
  },
  {
   "cell_type": "markdown",
   "id": "8626f2cd-b7fa-4c68-b708-3e926c8694ee",
   "metadata": {},
   "source": [
    "### 05 - Merge des tableaux incidents et mobilisation"
   ]
  },
  {
   "cell_type": "markdown",
   "id": "df4e67de-418f-48db-a14d-eed0ed9c8aac",
   "metadata": {},
   "source": [
    "#### SUPRESSION .00 à la fin des incidents number du tableau INCIDENTS"
   ]
  },
  {
   "cell_type": "code",
   "execution_count": 20,
   "id": "25e6302e-b709-4dfa-876e-d2414fee7e18",
   "metadata": {},
   "outputs": [],
   "source": [
    "incidents['IncidentNumber'] = incidents['IncidentNumber'].apply(lambda x: str(x).rstrip('.00') if str(x).endswith('.00') else str(x))"
   ]
  },
  {
   "cell_type": "markdown",
   "id": "cc89908e-0984-4f26-ade7-4edb2520c060",
   "metadata": {},
   "source": [
    "#### TRANSFORMATION du type du numéro en int64"
   ]
  },
  {
   "cell_type": "code",
   "execution_count": 21,
   "id": "f64f18c8-5de9-49bd-b16c-132caf1807b0",
   "metadata": {},
   "outputs": [],
   "source": [
    "def keep_only_digits(value):\n",
    "    return re.sub(r'\\D', '', str(value))\n",
    "\n",
    "incidents['IncidentNumber'] = incidents['IncidentNumber'].apply(keep_only_digits)\n",
    "mob['IncidentNumber'] = mob['IncidentNumber'].apply(keep_only_digits)\n",
    "\n",
    "incidents['IncidentNumber'] = incidents['IncidentNumber'].astype('int64')\n",
    "mob['IncidentNumber'] = mob['IncidentNumber'].astype('int64')\n"
   ]
  },
  {
   "cell_type": "markdown",
   "id": "9850d2f2-9a4b-4295-9fd0-04117744332f",
   "metadata": {},
   "source": [
    "#### SUPPRESSION des valeurs non communes aux deux tableaux (sur la base du incident number)"
   ]
  },
  {
   "cell_type": "code",
   "execution_count": 22,
   "id": "d97c958d-b2a4-43d3-b144-6ad8d5c5e535",
   "metadata": {},
   "outputs": [
    {
     "name": "stdout",
     "output_type": "stream",
     "text": [
      "AVANT TRAITEMENT\n",
      "Nombre de valeurs communes: 1569258\n",
      "Nombre de valeurs non communes: 138822\n",
      "Nombre de valeurs uniques à inter: 132389\n",
      "Nombre de valeurs uniques à mob: 6433\n",
      "APRES TRAITEMENT\n",
      "Nombre de valeurs communes: 1569258\n",
      "Nombre de valeurs non communes: 0\n",
      "Nombre de valeurs uniques à inter: 0\n",
      "Nombre de valeurs uniques à mob: 0\n"
     ]
    }
   ],
   "source": [
    "# Affichages des valeurs communes\n",
    "col1 = incidents['IncidentNumber']\n",
    "col2 = mob['IncidentNumber']\n",
    "set1 = set(col1)\n",
    "set2 = set(col2)\n",
    "\n",
    "common_values = set1.intersection(set2)\n",
    "num_common_values = len(common_values)\n",
    "\n",
    "unique_values = set1.symmetric_difference(set2)\n",
    "\n",
    "unique_to_df1 = set1 - set2\n",
    "unique_to_df2 = set2 - set1\n",
    "\n",
    "print(\"AVANT TRAITEMENT\")\n",
    "print(f\"Nombre de valeurs communes: {num_common_values}\")\n",
    "print(f\"Nombre de valeurs non communes: {len(unique_values)}\")\n",
    "print(f\"Nombre de valeurs uniques à inter: {len(unique_to_df1)}\")\n",
    "print(f\"Nombre de valeurs uniques à mob: {len(unique_to_df2)}\")\n",
    "\n",
    "# Suppression des valeurs communes\n",
    "incidents = incidents[incidents['IncidentNumber'].isin(common_values)]\n",
    "mob = mob[mob['IncidentNumber'].isin(common_values)]\n",
    "\n",
    "col1 = incidents['IncidentNumber']\n",
    "col2 = mob['IncidentNumber']\n",
    "set1 = set(col1)\n",
    "set2 = set(col2)\n",
    "\n",
    "common_values = set1.intersection(set2)\n",
    "num_common_values = len(common_values)\n",
    "\n",
    "unique_values = set1.symmetric_difference(set2)\n",
    "\n",
    "# Affichages des valeurs communes\n",
    "unique_to_df1 = set1 - set2\n",
    "unique_to_df2 = set2 - set1\n",
    "print(\"APRES TRAITEMENT\")\n",
    "print(f\"Nombre de valeurs communes: {num_common_values}\")\n",
    "print(f\"Nombre de valeurs non communes: {len(unique_values)}\")\n",
    "print(f\"Nombre de valeurs uniques à inter: {len(unique_to_df1)}\")\n",
    "print(f\"Nombre de valeurs uniques à mob: {len(unique_to_df2)}\")"
   ]
  },
  {
   "cell_type": "markdown",
   "id": "39ad4ae2-059d-475a-a970-6fd13a371107",
   "metadata": {},
   "source": [
    "#### FUSION des 2 TABLEAUX"
   ]
  },
  {
   "cell_type": "code",
   "execution_count": 23,
   "id": "0867a346-00f1-4432-9c03-9068e58cd800",
   "metadata": {},
   "outputs": [],
   "source": [
    "merged_df = pd.merge(mob, incidents, on='IncidentNumber', how='inner')"
   ]
  },
  {
   "cell_type": "markdown",
   "id": "8d422adf-cc99-432e-acb5-d86c0eb6e342",
   "metadata": {},
   "source": [
    "#### SUPPRESSION DES DOUBLONS IMMEDIATS"
   ]
  },
  {
   "cell_type": "code",
   "execution_count": 24,
   "id": "e32d7fc8-455d-4c96-a1ce-a34fb2afa120",
   "metadata": {},
   "outputs": [
    {
     "name": "stdout",
     "output_type": "stream",
     "text": [
      "0    2365940\n",
      "Name: count, dtype: int64\n",
      "0    2365940\n",
      "Name: count, dtype: int64\n"
     ]
    }
   ],
   "source": [
    "# On vérifie que les colonnes présentes dans les deux tableaux sont bien des doublons\n",
    "dif1 = merged_df['CalYear_y']-merged_df['CalYear_x']\n",
    "dif2 = merged_df['HourOfCall_y']-merged_df['HourOfCall_x']\n",
    "print(dif1.value_counts())\n",
    "print(dif2.value_counts())"
   ]
  },
  {
   "cell_type": "code",
   "execution_count": 25,
   "id": "7d9b4139-384b-4089-9059-0cc4627bcab8",
   "metadata": {},
   "outputs": [],
   "source": [
    "# On peut supprimer les colonnes doublons\n",
    "merged_df = merged_df.drop(labels = ['CalYear_x','HourOfCall_x'], axis = 1)\n",
    "merged_df = merged_df.rename(columns = {'CalYear_y':'CalYear','HourOfCall_y':'HourOfCall'})"
   ]
  },
  {
   "cell_type": "markdown",
   "id": "a5686129-39f2-47d1-a901-4d1f18045ff2",
   "metadata": {},
   "source": [
    "### 06 - Enregistrement du tableau Master"
   ]
  },
  {
   "cell_type": "code",
   "execution_count": 26,
   "id": "cb8f6865-db62-4940-a0a6-0d0d15a1010f",
   "metadata": {},
   "outputs": [],
   "source": [
    "# Export du nouveau tableau sous format csv\n",
    "merged_df.to_csv(racine_projet()+'/data/raw/merged_data.csv', index=False)"
   ]
  }
 ],
 "metadata": {
  "kernelspec": {
   "display_name": "Python 3 (ipykernel)",
   "language": "python",
   "name": "python3"
  },
  "language_info": {
   "codemirror_mode": {
    "name": "ipython",
    "version": 3
   },
   "file_extension": ".py",
   "mimetype": "text/x-python",
   "name": "python",
   "nbconvert_exporter": "python",
   "pygments_lexer": "ipython3",
   "version": "3.11.9"
  }
 },
 "nbformat": 4,
 "nbformat_minor": 5
}
