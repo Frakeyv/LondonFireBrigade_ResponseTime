{
 "cells": [
  {
   "cell_type": "code",
   "execution_count": 4,
   "id": "855b92db-8a40-4338-8e4b-4d8353ac3aaa",
   "metadata": {},
   "outputs": [],
   "source": [
    "import openmeteo_requests\n",
    "import requests_cache\n",
    "import pandas as pd\n",
    "\n",
    "from retry_requests import retry\n",
    "from utils import dataframe_info, racine_projet"
   ]
  },
  {
   "cell_type": "code",
   "execution_count": 2,
   "id": "43112a37-aa53-440b-9209-98d88e532606",
   "metadata": {},
   "outputs": [
    {
     "data": {
      "text/plain": [
       "'/Users/kfranceschi/GitHub/projet-pompiers'"
      ]
     },
     "execution_count": 2,
     "metadata": {},
     "output_type": "execute_result"
    }
   ],
   "source": [
    "racine_projet()"
   ]
  },
  {
   "cell_type": "markdown",
   "id": "c9e04bab-40e7-497b-afaa-33af2943b32f",
   "metadata": {},
   "source": [
    "### Code API pour l'import importé de  : https://open-meteo.com/en/docs"
   ]
  },
  {
   "cell_type": "code",
   "execution_count": 4,
   "id": "ab7918ca-9f5c-4029-ab3d-858361c011b0",
   "metadata": {},
   "outputs": [
    {
     "name": "stdout",
     "output_type": "stream",
     "text": [
      "Coordinates 51.49384689331055°N -0.16302490234375°E\n",
      "Elevation 23.0 m asl\n",
      "Timezone None None\n",
      "Timezone difference to GMT+0 0 s\n"
     ]
    }
   ],
   "source": [
    "# Setup the Open-Meteo API client with cache and retry on error\n",
    "cache_session = requests_cache.CachedSession('.cache', expire_after = -1)\n",
    "retry_session = retry(cache_session, retries = 5, backoff_factor = 0.2)\n",
    "openmeteo = openmeteo_requests.Client(session = retry_session)\n",
    "\n",
    "# Make sure all required weather variables are listed here\n",
    "# The order of variables in hourly or daily is important to assign them correctly below\n",
    "url = \"https://archive-api.open-meteo.com/v1/archive\"\n",
    "params = {\n",
    "\t\"latitude\": 51.5085,\n",
    "\t\"longitude\": -0.1257,\n",
    "\t\"start_date\": \"2009-01-01\",\n",
    "\t\"end_date\": \"2024-05-30\",\n",
    "\t\"hourly\": [\"temperature_2m\", \"relative_humidity_2m\", \"precipitation\", \"rain\", \"weather_code\", \"wind_speed_10m\", \"wind_direction_10m\", \"wind_gusts_10m\"]\n",
    "}\n",
    "responses = openmeteo.weather_api(url, params=params)\n",
    "\n",
    "# Process first location. Add a for-loop for multiple locations or weather models\n",
    "response = responses[0]\n",
    "print(f\"Coordinates {response.Latitude()}°N {response.Longitude()}°E\")\n",
    "print(f\"Elevation {response.Elevation()} m asl\")\n",
    "print(f\"Timezone {response.Timezone()} {response.TimezoneAbbreviation()}\")\n",
    "print(f\"Timezone difference to GMT+0 {response.UtcOffsetSeconds()} s\")\n",
    "\n",
    "# Process hourly data. The order of variables needs to be the same as requested.\n",
    "hourly = response.Hourly()\n",
    "hourly_temperature_2m = hourly.Variables(0).ValuesAsNumpy()\n",
    "hourly_relative_humidity_2m = hourly.Variables(1).ValuesAsNumpy()\n",
    "#hourly_precipitation = hourly.Variables(2).ValuesAsNumpy()\n",
    "hourly_rain = hourly.Variables(3).ValuesAsNumpy()\n",
    "hourly_weather_code = hourly.Variables(4).ValuesAsNumpy()\n",
    "hourly_wind_speed_10m = hourly.Variables(5).ValuesAsNumpy()\n",
    "#hourly_wind_direction_10m = hourly.Variables(6).ValuesAsNumpy()\n",
    "hourly_wind_gusts_10m = hourly.Variables(7).ValuesAsNumpy()\n",
    "\n",
    "hourly_data = {\"date\": pd.date_range(\n",
    "\tstart = pd.to_datetime(hourly.Time(), unit = \"s\", utc = True),\n",
    "\tend = pd.to_datetime(hourly.TimeEnd(), unit = \"s\", utc = True),\n",
    "\tfreq = pd.Timedelta(seconds = hourly.Interval()),\n",
    "\tinclusive = \"left\"\n",
    ")}\n",
    "hourly_data[\"temperature_2m\"] = hourly_temperature_2m\n",
    "hourly_data[\"relative_humidity_2m\"] = hourly_relative_humidity_2m\n",
    "#hourly_data[\"precipitation\"] = hourly_precipitation\n",
    "hourly_data[\"rain\"] = hourly_rain\n",
    "hourly_data[\"weather_code\"] = hourly_weather_code\n",
    "hourly_data[\"wind_speed_10m\"] = hourly_wind_speed_10m\n",
    "#hourly_data[\"wind_direction_10m\"] = hourly_wind_direction_10m\n",
    "hourly_data[\"wind_gusts_10m\"] = hourly_wind_gusts_10m\n",
    "\n",
    "hourly_dataframe = pd.DataFrame(data = hourly_data)"
   ]
  },
  {
   "cell_type": "markdown",
   "id": "07939641-d4fd-4184-a115-34aae6509409",
   "metadata": {},
   "source": [
    "### Infos sur le dataframe créé et export sous format csv"
   ]
  },
  {
   "cell_type": "code",
   "execution_count": 5,
   "id": "52787676-a769-4b25-bc1e-770b11f42339",
   "metadata": {},
   "outputs": [
    {
     "data": {
      "text/html": [
       "<div>\n",
       "<style scoped>\n",
       "    .dataframe tbody tr th:only-of-type {\n",
       "        vertical-align: middle;\n",
       "    }\n",
       "\n",
       "    .dataframe tbody tr th {\n",
       "        vertical-align: top;\n",
       "    }\n",
       "\n",
       "    .dataframe thead th {\n",
       "        text-align: right;\n",
       "    }\n",
       "</style>\n",
       "<table border=\"1\" class=\"dataframe\">\n",
       "  <thead>\n",
       "    <tr style=\"text-align: right;\">\n",
       "      <th></th>\n",
       "      <th>Column</th>\n",
       "      <th>Non-Null Count</th>\n",
       "      <th>NaN Count</th>\n",
       "      <th>NaN Percentage</th>\n",
       "      <th>Dtype</th>\n",
       "      <th>Example Value</th>\n",
       "    </tr>\n",
       "  </thead>\n",
       "  <tbody>\n",
       "    <tr>\n",
       "      <th>0</th>\n",
       "      <td>date</td>\n",
       "      <td>135096</td>\n",
       "      <td>0</td>\n",
       "      <td>0.0</td>\n",
       "      <td>datetime64[ns, UTC]</td>\n",
       "      <td>2009-01-01 00:00:00+00:00</td>\n",
       "    </tr>\n",
       "    <tr>\n",
       "      <th>1</th>\n",
       "      <td>temperature_2m</td>\n",
       "      <td>135096</td>\n",
       "      <td>0</td>\n",
       "      <td>0.0</td>\n",
       "      <td>float32</td>\n",
       "      <td>-0.3</td>\n",
       "    </tr>\n",
       "    <tr>\n",
       "      <th>2</th>\n",
       "      <td>relative_humidity_2m</td>\n",
       "      <td>135096</td>\n",
       "      <td>0</td>\n",
       "      <td>0.0</td>\n",
       "      <td>float32</td>\n",
       "      <td>96.071747</td>\n",
       "    </tr>\n",
       "    <tr>\n",
       "      <th>3</th>\n",
       "      <td>rain</td>\n",
       "      <td>135096</td>\n",
       "      <td>0</td>\n",
       "      <td>0.0</td>\n",
       "      <td>float32</td>\n",
       "      <td>0.0</td>\n",
       "    </tr>\n",
       "    <tr>\n",
       "      <th>4</th>\n",
       "      <td>weather_code</td>\n",
       "      <td>135096</td>\n",
       "      <td>0</td>\n",
       "      <td>0.0</td>\n",
       "      <td>float32</td>\n",
       "      <td>2.0</td>\n",
       "    </tr>\n",
       "    <tr>\n",
       "      <th>5</th>\n",
       "      <td>wind_speed_10m</td>\n",
       "      <td>135096</td>\n",
       "      <td>0</td>\n",
       "      <td>0.0</td>\n",
       "      <td>float32</td>\n",
       "      <td>6.489992</td>\n",
       "    </tr>\n",
       "    <tr>\n",
       "      <th>6</th>\n",
       "      <td>wind_gusts_10m</td>\n",
       "      <td>135096</td>\n",
       "      <td>0</td>\n",
       "      <td>0.0</td>\n",
       "      <td>float32</td>\n",
       "      <td>12.959999</td>\n",
       "    </tr>\n",
       "  </tbody>\n",
       "</table>\n",
       "</div>"
      ],
      "text/plain": [
       "                 Column  Non-Null Count  NaN Count  NaN Percentage  \\\n",
       "0                  date          135096          0             0.0   \n",
       "1        temperature_2m          135096          0             0.0   \n",
       "2  relative_humidity_2m          135096          0             0.0   \n",
       "3                  rain          135096          0             0.0   \n",
       "4          weather_code          135096          0             0.0   \n",
       "5        wind_speed_10m          135096          0             0.0   \n",
       "6        wind_gusts_10m          135096          0             0.0   \n",
       "\n",
       "                 Dtype              Example Value  \n",
       "0  datetime64[ns, UTC]  2009-01-01 00:00:00+00:00  \n",
       "1              float32                       -0.3  \n",
       "2              float32                  96.071747  \n",
       "3              float32                        0.0  \n",
       "4              float32                        2.0  \n",
       "5              float32                   6.489992  \n",
       "6              float32                  12.959999  "
      ]
     },
     "execution_count": 5,
     "metadata": {},
     "output_type": "execute_result"
    }
   ],
   "source": [
    "dataframe_info(hourly_dataframe)"
   ]
  },
  {
   "cell_type": "code",
   "execution_count": 7,
   "id": "0dc06e25-a586-4d3c-beb8-061d8cd5605b",
   "metadata": {},
   "outputs": [],
   "source": [
    "hourly_dataframe.to_csv(racine_projet()+'/data/external/weather.csv', index=False)"
   ]
  }
 ],
 "metadata": {
  "kernelspec": {
   "display_name": "Python 3 (ipykernel)",
   "language": "python",
   "name": "python3"
  },
  "language_info": {
   "codemirror_mode": {
    "name": "ipython",
    "version": 3
   },
   "file_extension": ".py",
   "mimetype": "text/x-python",
   "name": "python",
   "nbconvert_exporter": "python",
   "pygments_lexer": "ipython3",
   "version": "3.11.9"
  }
 },
 "nbformat": 4,
 "nbformat_minor": 5
}
