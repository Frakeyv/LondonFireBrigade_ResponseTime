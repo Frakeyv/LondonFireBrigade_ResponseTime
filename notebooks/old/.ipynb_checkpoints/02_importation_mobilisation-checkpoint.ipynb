{
 "cells": [
  {
   "cell_type": "markdown",
   "id": "d6a5cc95-8013-446c-b3a8-d582cc2e5a8e",
   "metadata": {
    "jp-MarkdownHeadingCollapsed": true
   },
   "source": [
    "### Importation des librairies"
   ]
  },
  {
   "cell_type": "code",
   "execution_count": 7,
   "id": "8e564d4d-33c6-4db5-bc92-9586728931fc",
   "metadata": {},
   "outputs": [],
   "source": [
    "import pandas as pd\n",
    "import numpy as np"
   ]
  },
  {
   "cell_type": "markdown",
   "id": "208c72df-3123-4ab9-ab1b-7371764336dd",
   "metadata": {
    "jp-MarkdownHeadingCollapsed": true
   },
   "source": [
    "### Importation des tableaux"
   ]
  },
  {
   "cell_type": "code",
   "execution_count": 4,
   "id": "ead5432e-7965-441d-8447-797185b98040",
   "metadata": {},
   "outputs": [],
   "source": [
    "mobilisation_9_14 = pd.read_excel(\"./raw/Mobilisation/LFB Mobilisation data from January 2009 - 2014.xlsx\")"
   ]
  },
  {
   "cell_type": "code",
   "execution_count": 5,
   "id": "8188538e-38a1-4e5f-9a33-69d25aad3061",
   "metadata": {},
   "outputs": [],
   "source": [
    "mobilisation_15_20 = pd.read_excel(\"./raw/Mobilisation/LFB Mobilisation data from 2015 - 2020.xlsx\")"
   ]
  },
  {
   "cell_type": "code",
   "execution_count": 6,
   "id": "56766914-ce57-4f2d-bb55-7b1dbd91744d",
   "metadata": {},
   "outputs": [],
   "source": [
    "mobilisation_21_24 = pd.read_excel(\"./raw/Mobilisation/LFB Mobilisation data 2021 - 2024.xlsx\")"
   ]
  },
  {
   "cell_type": "code",
   "execution_count": 8,
   "id": "acf2251a-8b58-4596-bf05-4142b23d1741",
   "metadata": {},
   "outputs": [
    {
     "name": "stdout",
     "output_type": "stream",
     "text": [
      "<class 'pandas.core.frame.DataFrame'>\n",
      "RangeIndex: 901788 entries, 0 to 901787\n",
      "Data columns (total 22 columns):\n",
      " #   Column                    Non-Null Count   Dtype         \n",
      "---  ------                    --------------   -----         \n",
      " 0   IncidentNumber            901788 non-null  int64         \n",
      " 1   CalYear                   901788 non-null  int64         \n",
      " 2   HourOfCall                901788 non-null  int64         \n",
      " 3   ResourceMobilisationId    901788 non-null  int64         \n",
      " 4   Resource_Code             901788 non-null  object        \n",
      " 5   PerformanceReporting      901788 non-null  object        \n",
      " 6   DateAndTimeMobilised      901788 non-null  datetime64[ns]\n",
      " 7   DateAndTimeMobile         883728 non-null  datetime64[ns]\n",
      " 8   DateAndTimeArrived        901788 non-null  datetime64[ns]\n",
      " 9   TurnoutTimeSeconds        883636 non-null  float64       \n",
      " 10  TravelTimeSeconds         883631 non-null  float64       \n",
      " 11  AttendanceTimeSeconds     901788 non-null  int64         \n",
      " 12  DateAndTimeLeft           856625 non-null  datetime64[ns]\n",
      " 13  DateAndTimeReturned       877430 non-null  datetime64[ns]\n",
      " 14  DeployedFromStation_Code  901786 non-null  object        \n",
      " 15  DeployedFromStation_Name  901786 non-null  object        \n",
      " 16  DeployedFromLocation      901744 non-null  object        \n",
      " 17  PumpOrder                 901788 non-null  int64         \n",
      " 18  PlusCode_Code             901788 non-null  object        \n",
      " 19  PlusCode_Description      901788 non-null  object        \n",
      " 20  DelayCodeId               228294 non-null  float64       \n",
      " 21  DelayCode_Description     228294 non-null  object        \n",
      "dtypes: datetime64[ns](5), float64(3), int64(6), object(8)\n",
      "memory usage: 151.4+ MB\n",
      "<class 'pandas.core.frame.DataFrame'>\n",
      "RangeIndex: 883641 entries, 0 to 883640\n",
      "Data columns (total 22 columns):\n",
      " #   Column                    Non-Null Count   Dtype         \n",
      "---  ------                    --------------   -----         \n",
      " 0   IncidentNumber            883641 non-null  object        \n",
      " 1   CalYear                   883641 non-null  int64         \n",
      " 2   HourOfCall                883641 non-null  int64         \n",
      " 3   ResourceMobilisationId    883641 non-null  int64         \n",
      " 4   Resource_Code             883641 non-null  object        \n",
      " 5   PerformanceReporting      883641 non-null  object        \n",
      " 6   DateAndTimeMobilised      883641 non-null  datetime64[ns]\n",
      " 7   DateAndTimeMobile         876365 non-null  datetime64[ns]\n",
      " 8   DateAndTimeArrived        883641 non-null  datetime64[ns]\n",
      " 9   TurnoutTimeSeconds        876339 non-null  float64       \n",
      " 10  TravelTimeSeconds         876254 non-null  float64       \n",
      " 11  AttendanceTimeSeconds     883641 non-null  int64         \n",
      " 12  DateAndTimeLeft           882620 non-null  datetime64[ns]\n",
      " 13  DateAndTimeReturned       95728 non-null   datetime64[ns]\n",
      " 14  DeployedFromStation_Code  883620 non-null  object        \n",
      " 15  DeployedFromStation_Name  883620 non-null  object        \n",
      " 16  DeployedFromLocation      882957 non-null  object        \n",
      " 17  PumpOrder                 883641 non-null  int64         \n",
      " 18  PlusCode_Code             883641 non-null  object        \n",
      " 19  PlusCode_Description      883641 non-null  object        \n",
      " 20  DelayCodeId               215751 non-null  float64       \n",
      " 21  DelayCode_Description     215751 non-null  object        \n",
      "dtypes: datetime64[ns](5), float64(3), int64(5), object(9)\n",
      "memory usage: 148.3+ MB\n",
      "<class 'pandas.core.frame.DataFrame'>\n",
      "RangeIndex: 587919 entries, 0 to 587918\n",
      "Data columns (total 22 columns):\n",
      " #   Column                    Non-Null Count   Dtype         \n",
      "---  ------                    --------------   -----         \n",
      " 0   IncidentNumber            587919 non-null  object        \n",
      " 1   CalYear                   587919 non-null  int64         \n",
      " 2   HourOfCall                587919 non-null  int64         \n",
      " 3   ResourceMobilisationId    587919 non-null  int64         \n",
      " 4   Resource_Code             587919 non-null  object        \n",
      " 5   PerformanceReporting      587919 non-null  object        \n",
      " 6   DateAndTimeMobilised      587919 non-null  datetime64[ns]\n",
      " 7   DateAndTimeMobile         585390 non-null  datetime64[ns]\n",
      " 8   DateAndTimeArrived        587919 non-null  datetime64[ns]\n",
      " 9   TurnoutTimeSeconds        585372 non-null  float64       \n",
      " 10  TravelTimeSeconds         585374 non-null  float64       \n",
      " 11  AttendanceTimeSeconds     587919 non-null  int64         \n",
      " 12  DateAndTimeLeft           587696 non-null  datetime64[ns]\n",
      " 13  DateAndTimeReturned       0 non-null       float64       \n",
      " 14  DeployedFromStation_Code  587915 non-null  object        \n",
      " 15  DeployedFromStation_Name  587915 non-null  object        \n",
      " 16  DeployedFromLocation      587476 non-null  object        \n",
      " 17  PumpOrder                 587919 non-null  int64         \n",
      " 18  PlusCode_Code             587919 non-null  object        \n",
      " 19  PlusCode_Description      587919 non-null  object        \n",
      " 20  DelayCodeId               145365 non-null  float64       \n",
      " 21  DelayCode_Description     145365 non-null  object        \n",
      "dtypes: datetime64[ns](4), float64(4), int64(5), object(9)\n",
      "memory usage: 98.7+ MB\n"
     ]
    }
   ],
   "source": [
    "mobilisation_9_14.info()\n",
    "mobilisation_15_20.info()\n",
    "mobilisation_21_24.info()"
   ]
  },
  {
   "cell_type": "code",
   "execution_count": 9,
   "id": "ed5543a3-1c78-4548-9c13-c4ec1d69e974",
   "metadata": {},
   "outputs": [],
   "source": [
    "# Harmoniser les types de données\n",
    "for column in mobilisation_15_20.columns:\n",
    "    if column in mobilisation_9_14.columns:\n",
    "        mobilisation_9_14[column] = mobilisation_9_14[column].astype(mobilisation_15_20[column].dtype)\n",
    "    if column in mobilisation_21_24.columns:\n",
    "        mobilisation_21_24[column] = mobilisation_21_24[column].astype(mobilisation_15_20[column].dtype)\n",
    "        "
   ]
  },
  {
   "cell_type": "markdown",
   "id": "cb219b72-7618-423d-b627-738a7cb63946",
   "metadata": {
    "jp-MarkdownHeadingCollapsed": true
   },
   "source": [
    "### Concatenation"
   ]
  },
  {
   "cell_type": "code",
   "execution_count": 10,
   "id": "7719700e-de2b-4abb-bef3-6898eba24efb",
   "metadata": {},
   "outputs": [],
   "source": [
    "# Concatenation \n",
    "mobilisations = pd.concat([mobilisation_9_14, mobilisation_15_20, mobilisation_21_24 ], ignore_index=True)"
   ]
  },
  {
   "cell_type": "code",
   "execution_count": 15,
   "id": "e48be97b-48f1-4c08-87c5-875be0fe1543",
   "metadata": {},
   "outputs": [
    {
     "name": "stdout",
     "output_type": "stream",
     "text": [
      "  IncidentNumber  CalYear  HourOfCall  ResourceMobilisationId Resource_Code  \\\n",
      "0      235138081     2009           0                   38426          H271   \n",
      "1      235138081     2009           0                   38427          H212   \n",
      "2           2091     2009           0                   38429          A341   \n",
      "3           3091     2009           0                   38430          G232   \n",
      "4           5091     2009           0                   38432          A311   \n",
      "\n",
      "  PerformanceReporting DateAndTimeMobilised   DateAndTimeMobile  \\\n",
      "0                    1  2009-01-01 00:02:27                 NaT   \n",
      "1                    2  2009-01-01 00:02:27 2009-01-01 00:06:40   \n",
      "2                    1  2009-01-01 00:04:09 2009-01-01 00:06:40   \n",
      "3                    1  2009-01-01 00:04:57 2009-01-01 00:06:45   \n",
      "4                    1  2009-01-01 00:06:04 2009-01-01 00:07:58   \n",
      "\n",
      "   DateAndTimeArrived  TurnoutTimeSeconds  ...     DateAndTimeLeft  \\\n",
      "0 2009-01-01 00:07:46                 NaN  ... 2009-01-01 00:16:46   \n",
      "1 2009-01-01 00:08:09               253.0  ... 2009-01-01 00:12:17   \n",
      "2 2009-01-01 00:09:17               151.0  ... 2009-01-01 00:16:33   \n",
      "3 2009-01-01 00:08:27               108.0  ... 2009-01-01 00:20:38   \n",
      "4 2009-01-01 00:09:57               114.0  ... 2009-01-01 00:11:58   \n",
      "\n",
      "   DateAndTimeReturned DeployedFromStation_Code DeployedFromStation_Name  \\\n",
      "0  2009-01-01 00:23:55                      H27                Battersea   \n",
      "1  2009-01-01 00:12:17                      H21                  Clapham   \n",
      "2  2009-01-01 00:17:48                      A34                 Edmonton   \n",
      "3  2009-01-01 00:20:38                      G23               Hillingdon   \n",
      "4  2009-01-01 00:22:29                      A31                 Holloway   \n",
      "\n",
      "  DeployedFromLocation PumpOrder PlusCode_Code  PlusCode_Description  \\\n",
      "0         Home Station         1       Initial  Initial Mobilisation   \n",
      "1         Home Station         2       Initial  Initial Mobilisation   \n",
      "2         Home Station         1       Initial  Initial Mobilisation   \n",
      "3         Home Station         1       Initial  Initial Mobilisation   \n",
      "4         Home Station         1       Initial  Initial Mobilisation   \n",
      "\n",
      "  DelayCodeId DelayCode_Description  \n",
      "0         NaN                   NaN  \n",
      "1         NaN                   NaN  \n",
      "2         NaN                   NaN  \n",
      "3         NaN                   NaN  \n",
      "4         NaN                   NaN  \n",
      "\n",
      "[5 rows x 22 columns]\n",
      "<class 'pandas.core.frame.DataFrame'>\n",
      "RangeIndex: 2373348 entries, 0 to 2373347\n",
      "Data columns (total 22 columns):\n",
      " #   Column                    Dtype         \n",
      "---  ------                    -----         \n",
      " 0   IncidentNumber            object        \n",
      " 1   CalYear                   int64         \n",
      " 2   HourOfCall                int64         \n",
      " 3   ResourceMobilisationId    int64         \n",
      " 4   Resource_Code             object        \n",
      " 5   PerformanceReporting      object        \n",
      " 6   DateAndTimeMobilised      datetime64[ns]\n",
      " 7   DateAndTimeMobile         datetime64[ns]\n",
      " 8   DateAndTimeArrived        datetime64[ns]\n",
      " 9   TurnoutTimeSeconds        float64       \n",
      " 10  TravelTimeSeconds         float64       \n",
      " 11  AttendanceTimeSeconds     int64         \n",
      " 12  DateAndTimeLeft           datetime64[ns]\n",
      " 13  DateAndTimeReturned       datetime64[ns]\n",
      " 14  DeployedFromStation_Code  object        \n",
      " 15  DeployedFromStation_Name  object        \n",
      " 16  DeployedFromLocation      object        \n",
      " 17  PumpOrder                 int64         \n",
      " 18  PlusCode_Code             object        \n",
      " 19  PlusCode_Description      object        \n",
      " 20  DelayCodeId               float64       \n",
      " 21  DelayCode_Description     object        \n",
      "dtypes: datetime64[ns](5), float64(3), int64(5), object(9)\n",
      "memory usage: 398.4+ MB\n",
      "None\n"
     ]
    }
   ],
   "source": [
    "print(mobilisations.head(5))\n",
    "print(mobilisations.info())"
   ]
  },
  {
   "cell_type": "code",
   "execution_count": 34,
   "id": "bf4615cc-b82d-42c6-ab5a-6fc498e5a6f2",
   "metadata": {},
   "outputs": [],
   "source": [
    "# Export du nouveau tableau sous format excel\n",
    "mobilisations.to_csv('./comp/LFB_mobilisations_data_combined.csv', index=False)"
   ]
  }
 ],
 "metadata": {
  "kernelspec": {
   "display_name": "Python 3 (ipykernel)",
   "language": "python",
   "name": "python3"
  },
  "language_info": {
   "codemirror_mode": {
    "name": "ipython",
    "version": 3
   },
   "file_extension": ".py",
   "mimetype": "text/x-python",
   "name": "python",
   "nbconvert_exporter": "python",
   "pygments_lexer": "ipython3",
   "version": "3.11.7"
  }
 },
 "nbformat": 4,
 "nbformat_minor": 5
}
