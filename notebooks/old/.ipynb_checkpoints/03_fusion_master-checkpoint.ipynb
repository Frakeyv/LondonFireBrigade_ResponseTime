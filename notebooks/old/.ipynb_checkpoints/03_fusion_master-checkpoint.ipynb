{
 "cells": [
  {
   "cell_type": "markdown",
   "id": "c3d18b6e-42da-4cda-9bab-57da32592bb7",
   "metadata": {
    "jp-MarkdownHeadingCollapsed": true
   },
   "source": [
    "### Importation des librairies"
   ]
  },
  {
   "cell_type": "code",
   "execution_count": 1,
   "id": "3a91e6b0-db0b-490a-9a58-e47b6c58fe9a",
   "metadata": {},
   "outputs": [],
   "source": [
    "import pandas as pd\n",
    "import numpy as np\n",
    "import re\n",
    "from collections import defaultdict\n",
    "from datetime import datetime"
   ]
  },
  {
   "cell_type": "markdown",
   "id": "acc9dda3-ca39-47ea-a189-056efd16390c",
   "metadata": {
    "jp-MarkdownHeadingCollapsed": true
   },
   "source": [
    "### Importation des deux tableaux INCIDENTS et MOBILISATION"
   ]
  },
  {
   "cell_type": "code",
   "execution_count": 2,
   "id": "323b0376-03e8-4386-b168-092eb7dc4bd1",
   "metadata": {},
   "outputs": [],
   "source": [
    "inter = pd.read_csv(\"./comp/LFB_incidents_data_combined.csv\", low_memory = False)"
   ]
  },
  {
   "cell_type": "code",
   "execution_count": 3,
   "id": "a25e508a-870c-4a39-92b0-726b9319a148",
   "metadata": {},
   "outputs": [],
   "source": [
    "mob = pd.read_csv(\"./comp/LFB_mobilisations_data_combined.csv\", low_memory = False)"
   ]
  },
  {
   "cell_type": "markdown",
   "id": "10386db5-8251-47df-b351-a970d9b516ea",
   "metadata": {},
   "source": [
    "#### SUPRESSION .00 à la fin des incidents number du tableau INCIDENTS"
   ]
  },
  {
   "cell_type": "code",
   "execution_count": 4,
   "id": "a8860333-48f1-4ac8-95d9-2ff8357fc33f",
   "metadata": {},
   "outputs": [],
   "source": [
    "inter['IncidentNumber'] = inter['IncidentNumber'].apply(lambda x: str(x).rstrip('.00') if str(x).endswith('.00') else str(x))"
   ]
  },
  {
   "cell_type": "markdown",
   "id": "417dd223-f2cf-4ac2-95e4-479196da11a6",
   "metadata": {},
   "source": [
    "#### TRANSFORMATION du type du numéro en int64 (réduction de l'espace mémoire occupé)"
   ]
  },
  {
   "cell_type": "code",
   "execution_count": 6,
   "id": "04380ec8-5303-4a10-a999-e59b3cb6462e",
   "metadata": {},
   "outputs": [],
   "source": [
    "def keep_only_digits(value):\n",
    "    return re.sub(r'\\D', '', str(value))\n",
    "\n",
    "inter['IncidentNumber'] = inter['IncidentNumber'].apply(keep_only_digits)\n",
    "mob['IncidentNumber'] = mob['IncidentNumber'].apply(keep_only_digits)\n",
    "\n",
    "inter['IncidentNumber'] = inter['IncidentNumber'].astype('int64')\n",
    "mob['IncidentNumber'] = mob['IncidentNumber'].astype('int64')\n"
   ]
  },
  {
   "cell_type": "markdown",
   "id": "2528d971-2545-45d3-a739-ddd9f9058044",
   "metadata": {},
   "source": [
    "#### SUPPRESSION des valeurs non communes aux deux tableaux (sur la base du incident number)"
   ]
  },
  {
   "cell_type": "code",
   "execution_count": 7,
   "id": "835262b1-287b-46d9-b352-55422d093309",
   "metadata": {},
   "outputs": [
    {
     "name": "stdout",
     "output_type": "stream",
     "text": [
      "AVANT TRAITEMENT\n",
      "Nombre de valeurs communes: 1569258\n",
      "Nombre de valeurs non communes: 138822\n",
      "Nombre de valeurs uniques à inter: 132389\n",
      "Nombre de valeurs uniques à mob: 6433\n",
      "APRES TRAITEMENT\n",
      "Nombre de valeurs communes: 1569258\n",
      "Nombre de valeurs non communes: 0\n",
      "Nombre de valeurs uniques à inter: 0\n",
      "Nombre de valeurs uniques à mob: 0\n"
     ]
    }
   ],
   "source": [
    "# Affichages des valeurs communes\n",
    "col1 = inter['IncidentNumber']\n",
    "col2 = mob['IncidentNumber']\n",
    "set1 = set(col1)\n",
    "set2 = set(col2)\n",
    "\n",
    "common_values = set1.intersection(set2)\n",
    "num_common_values = len(common_values)\n",
    "\n",
    "unique_values = set1.symmetric_difference(set2)\n",
    "\n",
    "unique_to_df1 = set1 - set2\n",
    "unique_to_df2 = set2 - set1\n",
    "\n",
    "print(\"AVANT TRAITEMENT\")\n",
    "print(f\"Nombre de valeurs communes: {num_common_values}\")\n",
    "print(f\"Nombre de valeurs non communes: {len(unique_values)}\")\n",
    "print(f\"Nombre de valeurs uniques à inter: {len(unique_to_df1)}\")\n",
    "print(f\"Nombre de valeurs uniques à mob: {len(unique_to_df2)}\")\n",
    "\n",
    "# Suppression des valeurs communes\n",
    "inter = inter[inter['IncidentNumber'].isin(common_values)]\n",
    "mob = mob[mob['IncidentNumber'].isin(common_values)]\n",
    "\n",
    "col1 = inter['IncidentNumber']\n",
    "col2 = mob['IncidentNumber']\n",
    "set1 = set(col1)\n",
    "set2 = set(col2)\n",
    "\n",
    "common_values = set1.intersection(set2)\n",
    "num_common_values = len(common_values)\n",
    "\n",
    "unique_values = set1.symmetric_difference(set2)\n",
    "\n",
    "# Affichages des valeurs communes\n",
    "unique_to_df1 = set1 - set2\n",
    "unique_to_df2 = set2 - set1\n",
    "print(\"APRES TRAITEMENT\")\n",
    "print(f\"Nombre de valeurs communes: {num_common_values}\")\n",
    "print(f\"Nombre de valeurs non communes: {len(unique_values)}\")\n",
    "print(f\"Nombre de valeurs uniques à inter: {len(unique_to_df1)}\")\n",
    "print(f\"Nombre de valeurs uniques à mob: {len(unique_to_df2)}\")"
   ]
  },
  {
   "cell_type": "markdown",
   "id": "20eab798-0ae5-46ff-b64d-39e8c73b7327",
   "metadata": {
    "jp-MarkdownHeadingCollapsed": true
   },
   "source": [
    "### FUSION des 2 TABLEAUX"
   ]
  },
  {
   "cell_type": "code",
   "execution_count": 8,
   "id": "ba6db413-5d5c-4823-81d0-8e7ce73ad2f9",
   "metadata": {},
   "outputs": [],
   "source": [
    "merged_df = pd.merge(mob, inter, on='IncidentNumber', how='inner')"
   ]
  },
  {
   "cell_type": "markdown",
   "id": "bcbc9d01-fd2b-4141-a9ab-1c188588ccb5",
   "metadata": {},
   "source": [
    "#### SUPPRESSION DES DOUBLONS IMMEDIATS"
   ]
  },
  {
   "cell_type": "code",
   "execution_count": 9,
   "id": "3df11dd9-883d-4edf-aab2-d012c00954f4",
   "metadata": {},
   "outputs": [],
   "source": [
    "# On vérifie que les colonnes présentes dans les deux tableaux sont bien des doublons\n",
    "dif1 = merged_df['CalYear_y']-merged_df['CalYear_x']\n",
    "dif2 = merged_df['HourOfCall_y']-merged_df['HourOfCall_x']"
   ]
  },
  {
   "cell_type": "code",
   "execution_count": 10,
   "id": "af9de9f0-dbea-452e-b092-8f5ee35d807a",
   "metadata": {},
   "outputs": [],
   "source": [
    "# On peut supprimer les colonnes doublons\n",
    "merged_df = merged_df.drop(labels = ['CalYear_x','HourOfCall_x'], axis = 1)\n",
    "merged_df = merged_df.rename(columns = {'CalYear_y':'CalYear','HourOfCall_y':'HourOfCall'})"
   ]
  },
  {
   "cell_type": "markdown",
   "id": "a54dd405-f03f-4f80-8d71-f53fc3373610",
   "metadata": {},
   "source": [
    "### EXPORT du tableau Master"
   ]
  },
  {
   "cell_type": "code",
   "execution_count": 11,
   "id": "dd73a8cb-5dcf-421c-93fa-f62acca5375d",
   "metadata": {},
   "outputs": [],
   "source": [
    "# Export du nouveau tableau sous format csv\n",
    "merged_df.to_csv('./merged/heavy_data_merged.csv', index=False)"
   ]
  }
 ],
 "metadata": {
  "kernelspec": {
   "display_name": "Python 3 (ipykernel)",
   "language": "python",
   "name": "python3"
  },
  "language_info": {
   "codemirror_mode": {
    "name": "ipython",
    "version": 3
   },
   "file_extension": ".py",
   "mimetype": "text/x-python",
   "name": "python",
   "nbconvert_exporter": "python",
   "pygments_lexer": "ipython3",
   "version": "3.11.7"
  }
 },
 "nbformat": 4,
 "nbformat_minor": 5
}
