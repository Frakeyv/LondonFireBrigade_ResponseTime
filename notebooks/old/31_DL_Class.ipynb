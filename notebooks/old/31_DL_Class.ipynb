{
 "cells": [
  {
   "cell_type": "markdown",
   "id": "4b7b8cbe-5680-4fcc-b1db-1fe1f123dab5",
   "metadata": {
    "jp-MarkdownHeadingCollapsed": true
   },
   "source": [
    "## 0 - import"
   ]
  },
  {
   "cell_type": "code",
   "execution_count": 1,
   "id": "b0431c44-fe68-4f6d-99e0-f2e0556fde11",
   "metadata": {},
   "outputs": [],
   "source": [
    "import pandas as pd\n",
    "import numpy as np\n",
    "import matplotlib.pyplot as plt\n",
    "import seaborn as sns\n",
    "\n",
    "from sklearn.preprocessing import MinMaxScaler, StandardScaler, LabelEncoder\n",
    "from sklearn.model_selection import GridSearchCV, train_test_split, cross_val_score\n",
    "\n",
    "from utils import dataframe_info"
   ]
  },
  {
   "cell_type": "code",
   "execution_count": 3,
   "id": "38dd61fd-6699-4491-9290-7d2da3584a3c",
   "metadata": {},
   "outputs": [],
   "source": [
    "df = pd.read_csv('./ML/ML_data.csv', low_memory = False)"
   ]
  },
  {
   "cell_type": "code",
   "execution_count": 4,
   "id": "920b0e19-32ff-4f74-aa05-97448eb754eb",
   "metadata": {},
   "outputs": [
    {
     "data": {
      "text/html": [
       "<div>\n",
       "<style scoped>\n",
       "    .dataframe tbody tr th:only-of-type {\n",
       "        vertical-align: middle;\n",
       "    }\n",
       "\n",
       "    .dataframe tbody tr th {\n",
       "        vertical-align: top;\n",
       "    }\n",
       "\n",
       "    .dataframe thead th {\n",
       "        text-align: right;\n",
       "    }\n",
       "</style>\n",
       "<table border=\"1\" class=\"dataframe\">\n",
       "  <thead>\n",
       "    <tr style=\"text-align: right;\">\n",
       "      <th></th>\n",
       "      <th>Column</th>\n",
       "      <th>Non-Null Count</th>\n",
       "      <th>NaN Count</th>\n",
       "      <th>NaN Percentage</th>\n",
       "      <th>Dtype</th>\n",
       "      <th>Example Value</th>\n",
       "    </tr>\n",
       "  </thead>\n",
       "  <tbody>\n",
       "    <tr>\n",
       "      <th>0</th>\n",
       "      <td>DeployedFromStation_Name</td>\n",
       "      <td>2363411</td>\n",
       "      <td>0</td>\n",
       "      <td>0.0</td>\n",
       "      <td>object</td>\n",
       "      <td>Battersea</td>\n",
       "    </tr>\n",
       "    <tr>\n",
       "      <th>1</th>\n",
       "      <td>DeployedFromLocation</td>\n",
       "      <td>2363411</td>\n",
       "      <td>0</td>\n",
       "      <td>0.0</td>\n",
       "      <td>object</td>\n",
       "      <td>Home Station</td>\n",
       "    </tr>\n",
       "    <tr>\n",
       "      <th>2</th>\n",
       "      <td>PumpOrder</td>\n",
       "      <td>2363411</td>\n",
       "      <td>0</td>\n",
       "      <td>0.0</td>\n",
       "      <td>int64</td>\n",
       "      <td>1</td>\n",
       "    </tr>\n",
       "    <tr>\n",
       "      <th>3</th>\n",
       "      <td>PlusCode_Description</td>\n",
       "      <td>2363411</td>\n",
       "      <td>0</td>\n",
       "      <td>0.0</td>\n",
       "      <td>object</td>\n",
       "      <td>Initial Mobilisation</td>\n",
       "    </tr>\n",
       "    <tr>\n",
       "      <th>4</th>\n",
       "      <td>PropertyCategory</td>\n",
       "      <td>2363411</td>\n",
       "      <td>0</td>\n",
       "      <td>0.0</td>\n",
       "      <td>object</td>\n",
       "      <td>Road Vehicle</td>\n",
       "    </tr>\n",
       "    <tr>\n",
       "      <th>5</th>\n",
       "      <td>AddressQualifier</td>\n",
       "      <td>2363411</td>\n",
       "      <td>0</td>\n",
       "      <td>0.0</td>\n",
       "      <td>object</td>\n",
       "      <td>In street close to gazetteer location</td>\n",
       "    </tr>\n",
       "    <tr>\n",
       "      <th>6</th>\n",
       "      <td>Easting_rounded</td>\n",
       "      <td>2363411</td>\n",
       "      <td>0</td>\n",
       "      <td>0.0</td>\n",
       "      <td>int64</td>\n",
       "      <td>528650</td>\n",
       "    </tr>\n",
       "    <tr>\n",
       "      <th>7</th>\n",
       "      <td>Northing_rounded</td>\n",
       "      <td>2363411</td>\n",
       "      <td>0</td>\n",
       "      <td>0.0</td>\n",
       "      <td>int64</td>\n",
       "      <td>176850</td>\n",
       "    </tr>\n",
       "    <tr>\n",
       "      <th>8</th>\n",
       "      <td>NumStationsWithPumpsAttending</td>\n",
       "      <td>2363411</td>\n",
       "      <td>0</td>\n",
       "      <td>0.0</td>\n",
       "      <td>float64</td>\n",
       "      <td>2.0</td>\n",
       "    </tr>\n",
       "    <tr>\n",
       "      <th>9</th>\n",
       "      <td>NumPumpsAttending</td>\n",
       "      <td>2363411</td>\n",
       "      <td>0</td>\n",
       "      <td>0.0</td>\n",
       "      <td>float64</td>\n",
       "      <td>2.0</td>\n",
       "    </tr>\n",
       "    <tr>\n",
       "      <th>10</th>\n",
       "      <td>NumCalls</td>\n",
       "      <td>2363411</td>\n",
       "      <td>0</td>\n",
       "      <td>0.0</td>\n",
       "      <td>float64</td>\n",
       "      <td>1.0</td>\n",
       "    </tr>\n",
       "    <tr>\n",
       "      <th>11</th>\n",
       "      <td>ResponseDuration</td>\n",
       "      <td>2363411</td>\n",
       "      <td>0</td>\n",
       "      <td>0.0</td>\n",
       "      <td>int64</td>\n",
       "      <td>319</td>\n",
       "    </tr>\n",
       "    <tr>\n",
       "      <th>12</th>\n",
       "      <td>IncidentType</td>\n",
       "      <td>2363411</td>\n",
       "      <td>0</td>\n",
       "      <td>0.0</td>\n",
       "      <td>object</td>\n",
       "      <td>RTC</td>\n",
       "    </tr>\n",
       "    <tr>\n",
       "      <th>13</th>\n",
       "      <td>temperature_2m</td>\n",
       "      <td>2363411</td>\n",
       "      <td>0</td>\n",
       "      <td>0.0</td>\n",
       "      <td>float64</td>\n",
       "      <td>-0.3</td>\n",
       "    </tr>\n",
       "    <tr>\n",
       "      <th>14</th>\n",
       "      <td>relative_humidity_2m</td>\n",
       "      <td>2363411</td>\n",
       "      <td>0</td>\n",
       "      <td>0.0</td>\n",
       "      <td>float64</td>\n",
       "      <td>96.07175</td>\n",
       "    </tr>\n",
       "    <tr>\n",
       "      <th>15</th>\n",
       "      <td>rain</td>\n",
       "      <td>2363411</td>\n",
       "      <td>0</td>\n",
       "      <td>0.0</td>\n",
       "      <td>float64</td>\n",
       "      <td>0.0</td>\n",
       "    </tr>\n",
       "    <tr>\n",
       "      <th>16</th>\n",
       "      <td>weather_code</td>\n",
       "      <td>2363411</td>\n",
       "      <td>0</td>\n",
       "      <td>0.0</td>\n",
       "      <td>float64</td>\n",
       "      <td>2.0</td>\n",
       "    </tr>\n",
       "    <tr>\n",
       "      <th>17</th>\n",
       "      <td>wind_speed_10m</td>\n",
       "      <td>2363411</td>\n",
       "      <td>0</td>\n",
       "      <td>0.0</td>\n",
       "      <td>float64</td>\n",
       "      <td>6.489992</td>\n",
       "    </tr>\n",
       "    <tr>\n",
       "      <th>18</th>\n",
       "      <td>wind_gusts_10m</td>\n",
       "      <td>2363411</td>\n",
       "      <td>0</td>\n",
       "      <td>0.0</td>\n",
       "      <td>float64</td>\n",
       "      <td>12.959999</td>\n",
       "    </tr>\n",
       "    <tr>\n",
       "      <th>19</th>\n",
       "      <td>year</td>\n",
       "      <td>2363411</td>\n",
       "      <td>0</td>\n",
       "      <td>0.0</td>\n",
       "      <td>int64</td>\n",
       "      <td>2009</td>\n",
       "    </tr>\n",
       "    <tr>\n",
       "      <th>20</th>\n",
       "      <td>hour_sin</td>\n",
       "      <td>2363411</td>\n",
       "      <td>0</td>\n",
       "      <td>0.0</td>\n",
       "      <td>float64</td>\n",
       "      <td>0.0</td>\n",
       "    </tr>\n",
       "    <tr>\n",
       "      <th>21</th>\n",
       "      <td>hour_cos</td>\n",
       "      <td>2363411</td>\n",
       "      <td>0</td>\n",
       "      <td>0.0</td>\n",
       "      <td>float64</td>\n",
       "      <td>1.0</td>\n",
       "    </tr>\n",
       "    <tr>\n",
       "      <th>22</th>\n",
       "      <td>weekday_sin</td>\n",
       "      <td>2363411</td>\n",
       "      <td>0</td>\n",
       "      <td>0.0</td>\n",
       "      <td>float64</td>\n",
       "      <td>0.433884</td>\n",
       "    </tr>\n",
       "    <tr>\n",
       "      <th>23</th>\n",
       "      <td>weekday_cos</td>\n",
       "      <td>2363411</td>\n",
       "      <td>0</td>\n",
       "      <td>0.0</td>\n",
       "      <td>float64</td>\n",
       "      <td>-0.900969</td>\n",
       "    </tr>\n",
       "    <tr>\n",
       "      <th>24</th>\n",
       "      <td>month_sin</td>\n",
       "      <td>2363411</td>\n",
       "      <td>0</td>\n",
       "      <td>0.0</td>\n",
       "      <td>float64</td>\n",
       "      <td>0.5</td>\n",
       "    </tr>\n",
       "    <tr>\n",
       "      <th>25</th>\n",
       "      <td>month_cos</td>\n",
       "      <td>2363411</td>\n",
       "      <td>0</td>\n",
       "      <td>0.0</td>\n",
       "      <td>float64</td>\n",
       "      <td>0.866025</td>\n",
       "    </tr>\n",
       "  </tbody>\n",
       "</table>\n",
       "</div>"
      ],
      "text/plain": [
       "                           Column  Non-Null Count  NaN Count  NaN Percentage  \\\n",
       "0        DeployedFromStation_Name         2363411          0             0.0   \n",
       "1            DeployedFromLocation         2363411          0             0.0   \n",
       "2                       PumpOrder         2363411          0             0.0   \n",
       "3            PlusCode_Description         2363411          0             0.0   \n",
       "4                PropertyCategory         2363411          0             0.0   \n",
       "5                AddressQualifier         2363411          0             0.0   \n",
       "6                 Easting_rounded         2363411          0             0.0   \n",
       "7                Northing_rounded         2363411          0             0.0   \n",
       "8   NumStationsWithPumpsAttending         2363411          0             0.0   \n",
       "9               NumPumpsAttending         2363411          0             0.0   \n",
       "10                       NumCalls         2363411          0             0.0   \n",
       "11               ResponseDuration         2363411          0             0.0   \n",
       "12                   IncidentType         2363411          0             0.0   \n",
       "13                 temperature_2m         2363411          0             0.0   \n",
       "14           relative_humidity_2m         2363411          0             0.0   \n",
       "15                           rain         2363411          0             0.0   \n",
       "16                   weather_code         2363411          0             0.0   \n",
       "17                 wind_speed_10m         2363411          0             0.0   \n",
       "18                 wind_gusts_10m         2363411          0             0.0   \n",
       "19                           year         2363411          0             0.0   \n",
       "20                       hour_sin         2363411          0             0.0   \n",
       "21                       hour_cos         2363411          0             0.0   \n",
       "22                    weekday_sin         2363411          0             0.0   \n",
       "23                    weekday_cos         2363411          0             0.0   \n",
       "24                      month_sin         2363411          0             0.0   \n",
       "25                      month_cos         2363411          0             0.0   \n",
       "\n",
       "      Dtype                          Example Value  \n",
       "0    object                              Battersea  \n",
       "1    object                           Home Station  \n",
       "2     int64                                      1  \n",
       "3    object                   Initial Mobilisation  \n",
       "4    object                           Road Vehicle  \n",
       "5    object  In street close to gazetteer location  \n",
       "6     int64                                 528650  \n",
       "7     int64                                 176850  \n",
       "8   float64                                    2.0  \n",
       "9   float64                                    2.0  \n",
       "10  float64                                    1.0  \n",
       "11    int64                                    319  \n",
       "12   object                                    RTC  \n",
       "13  float64                                   -0.3  \n",
       "14  float64                               96.07175  \n",
       "15  float64                                    0.0  \n",
       "16  float64                                    2.0  \n",
       "17  float64                               6.489992  \n",
       "18  float64                              12.959999  \n",
       "19    int64                                   2009  \n",
       "20  float64                                    0.0  \n",
       "21  float64                                    1.0  \n",
       "22  float64                               0.433884  \n",
       "23  float64                              -0.900969  \n",
       "24  float64                                    0.5  \n",
       "25  float64                               0.866025  "
      ]
     },
     "execution_count": 4,
     "metadata": {},
     "output_type": "execute_result"
    }
   ],
   "source": [
    "dataframe_info(df)"
   ]
  },
  {
   "cell_type": "markdown",
   "id": "31061414-4527-4a16-a8ba-9c4a964f1a22",
   "metadata": {
    "jp-MarkdownHeadingCollapsed": true
   },
   "source": [
    "## 1 - filtre rajoutés"
   ]
  },
  {
   "cell_type": "code",
   "execution_count": 6,
   "id": "875a055d-867c-4bea-9fdf-840e13d7c207",
   "metadata": {},
   "outputs": [],
   "source": [
    "#df= df[df['ResponseDuration'] >= 1]"
   ]
  },
  {
   "cell_type": "code",
   "execution_count": 5,
   "id": "e22e6c0c-f5bd-4cc0-9f9f-08c1a404040d",
   "metadata": {},
   "outputs": [],
   "source": [
    "df = df.drop(columns = [\"DeployedFromStation_Name\"])"
   ]
  },
  {
   "cell_type": "markdown",
   "id": "4eb27171-b21b-4db2-972d-6bf6c1524e07",
   "metadata": {
    "jp-MarkdownHeadingCollapsed": true
   },
   "source": [
    "## 2 - encodage"
   ]
  },
  {
   "cell_type": "code",
   "execution_count": 12,
   "id": "a895d47f-776b-4b46-a9ab-cfd35590bd86",
   "metadata": {},
   "outputs": [],
   "source": [
    "df_encoded = df"
   ]
  },
  {
   "cell_type": "code",
   "execution_count": 13,
   "id": "d63a3d87-9eb3-4fd2-90bd-402d84ceb019",
   "metadata": {},
   "outputs": [],
   "source": [
    "# Encodage binaire : DeployedFromLocation\n",
    "encoder = LabelEncoder()\n",
    "df_encoded['DeployedFromLocation'] = encoder.fit_transform(df_encoded['DeployedFromLocation'])\n",
    "\n",
    "# Encodage getdummies : \"PlusCode_Description\", \"PropertyCategory\",\"AddressQualifier\",\"IncidentType\"\n",
    "cols_to_encode = cols_to_encode = df_encoded.select_dtypes(include=['object']).columns \n",
    "df_encoded = pd.get_dummies(df_encoded, columns=cols_to_encode)"
   ]
  },
  {
   "cell_type": "markdown",
   "id": "d9c0c4e1-c717-4cbb-90b0-ce5283720667",
   "metadata": {
    "jp-MarkdownHeadingCollapsed": true
   },
   "source": [
    "## 3 - train_test_split"
   ]
  },
  {
   "cell_type": "code",
   "execution_count": 14,
   "id": "24eae26d-d52f-4678-8658-8488b31feaaa",
   "metadata": {},
   "outputs": [
    {
     "data": {
      "image/png": "[encoded data removed]",
      "text/plain": [
       "<Figure size 800x600 with 1 Axes>"
      ]
     },
     "metadata": {},
     "output_type": "display_data"
    }
   ],
   "source": [
    "plt.figure(figsize=(8, 6))\n",
    "sns.kdeplot(df_encoded['ResponseDuration'], fill = True, color='blue')\n",
    "\n",
    "plt.title('Distribution de <ResponseDuration>')\n",
    "plt.xlabel('Temps (secondes)')\n",
    "plt.ylabel('Densité');"
   ]
  },
  {
   "cell_type": "code",
   "execution_count": 15,
   "id": "fa6af431-c836-4545-8017-357b07795487",
   "metadata": {},
   "outputs": [],
   "source": [
    "bins = [df_encoded['ResponseDuration'].min(), 251, 325, 421, df_encoded['ResponseDuration'].max()]\n",
    "labels = [0,1,2,3]\n",
    "\n",
    "df_encoded['ResponseCat'] = pd.cut(df_encoded.ResponseDuration, bins=bins, labels= labels, include_lowest=True)"
   ]
  },
  {
   "cell_type": "code",
   "execution_count": 16,
   "id": "c98dd5e4-ee02-4e18-b7d0-f188f0f47852",
   "metadata": {},
   "outputs": [],
   "source": [
    "target = df_encoded['ResponseCat']\n",
    "df_encoded = df_encoded.drop(columns = ['ResponseDuration'])"
   ]
  },
  {
   "cell_type": "code",
   "execution_count": 17,
   "id": "91ab5722-22a3-4801-b176-de6ef96b6ee3",
   "metadata": {},
   "outputs": [
    {
     "data": {
      "image/png": "[encoded data removed]",
      "text/plain": [
       "<Figure size 1000x600 with 1 Axes>"
      ]
     },
     "metadata": {},
     "output_type": "display_data"
    }
   ],
   "source": [
    "# Affichage de la distribution de la target catégorisée\n",
    "plt.figure(figsize=(10, 6))\n",
    "sns.countplot(x=target)\n",
    "plt.title('Distribution de la variable cible (catégorielle)')\n",
    "plt.xlabel('Classes de la cible')\n",
    "plt.ylabel('Nombre d\\'échantillons')\n",
    "plt.show()"
   ]
  },
  {
   "cell_type": "code",
   "execution_count": 18,
   "id": "078b58f0-0a94-4a95-8fb6-f920b9f1654a",
   "metadata": {},
   "outputs": [],
   "source": [
    "X = df_encoded.drop(labels = [\"ResponseCat\"], axis = 1)\n",
    "\n",
    "X_train, X_test, y_train, y_test = train_test_split(X,target, test_size=0.2, random_state=42)"
   ]
  },
  {
   "cell_type": "markdown",
   "id": "3bb3664a-6733-401b-bf06-e5b6c2f38283",
   "metadata": {},
   "source": [
    "### Undersampling"
   ]
  },
  {
   "cell_type": "code",
   "execution_count": 20,
   "id": "8afb8603-221b-4d6c-aca9-6c51e6b59914",
   "metadata": {},
   "outputs": [
    {
     "name": "stdout",
     "output_type": "stream",
     "text": [
      "Resampled dataset shape 200000\n"
     ]
    }
   ],
   "source": [
    "from imblearn.under_sampling import RandomUnderSampler\n",
    "\n",
    "sampling_strategy = {0: 50000, 1: 50000, 2: 50000, 3: 50000}\n",
    "\n",
    "rus = RandomUnderSampler(sampling_strategy = sampling_strategy, random_state=42)\n",
    "X_train_resampled, y_train_resampled = rus.fit_resample(X_train, y_train)\n",
    "\n",
    "print('Resampled dataset shape %s' % y_train_resampled.shape)"
   ]
  },
  {
   "cell_type": "code",
   "execution_count": 21,
   "id": "04004599-6cd8-4bf5-93d1-6df4bd6f4bba",
   "metadata": {},
   "outputs": [
    {
     "data": {
      "image/png": "[encoded data removed]",
      "text/plain": [
       "<Figure size 1000x600 with 1 Axes>"
      ]
     },
     "metadata": {},
     "output_type": "display_data"
    }
   ],
   "source": [
    "# Affichage de la distribution de la target catégorisée\n",
    "plt.figure(figsize=(10, 6))\n",
    "sns.countplot(x=y_train_resampled)\n",
    "plt.title('Distribution de la variable cible (catégorielle)')\n",
    "plt.xlabel('Classes de la cible')\n",
    "plt.ylabel('Nombre d\\'échantillons')\n",
    "plt.show()"
   ]
  },
  {
   "cell_type": "markdown",
   "id": "9cfa147f-6296-4612-9835-17e6c1d0669e",
   "metadata": {
    "jp-MarkdownHeadingCollapsed": true
   },
   "source": [
    "## 4 - Normalisation (Standard & Minmax)"
   ]
  },
  {
   "cell_type": "code",
   "execution_count": 22,
   "id": "7bffe45b-af31-4584-acd3-60924966aaed",
   "metadata": {},
   "outputs": [],
   "source": [
    "X_train = X_train_resampled\n",
    "y_train = y_train_resampled"
   ]
  },
  {
   "cell_type": "code",
   "execution_count": 23,
   "id": "0f364158-ff45-4b35-a42e-e35cd07acf01",
   "metadata": {},
   "outputs": [],
   "source": [
    "# Standard OU minmax\n",
    "# \"Northing_rounded\",\"Easting_rounded\", \"PumpOrder\", \"NumStationsWithPumpsAttending\", \"NumPumpsAttending\", \"NumCalls\", \"year\"\n",
    "columns_for_scaling = [\"Northing_rounded\",\n",
    "                       \"Easting_rounded\",\n",
    "                       \"PumpOrder\",\n",
    "                       \"NumStationsWithPumpsAttending\",\n",
    "                       \"NumPumpsAttending\",\n",
    "                       \"NumCalls\",\n",
    "                       \"year\",\n",
    "                       \"rain\", # rajoutée\n",
    "                       \"temperature_2m\",  # rajoutée\n",
    "                       \"relative_humidity_2m\", # rajoutée\n",
    "                       \"weather_code\", # rajoutée\n",
    "                       \"wind_speed_10m\", # rajoutée\n",
    "                       \"wind_gusts_10m\"] # rajoutée\n",
    "scaler = StandardScaler()\n",
    "#scaler = MinMaxScaler()\n",
    "\n",
    "X_train[columns_for_scaling]= scaler.fit_transform(X_train[columns_for_scaling])\n",
    "X_test[columns_for_scaling] = scaler.transform(X_test[columns_for_scaling])"
   ]
  },
  {
   "cell_type": "code",
   "execution_count": 24,
   "id": "2a38d425-3176-4754-b081-7eb18e693b20",
   "metadata": {},
   "outputs": [
    {
     "data": {
      "text/html": [
       "<div>\n",
       "<style scoped>\n",
       "    .dataframe tbody tr th:only-of-type {\n",
       "        vertical-align: middle;\n",
       "    }\n",
       "\n",
       "    .dataframe tbody tr th {\n",
       "        vertical-align: top;\n",
       "    }\n",
       "\n",
       "    .dataframe thead th {\n",
       "        text-align: right;\n",
       "    }\n",
       "</style>\n",
       "<table border=\"1\" class=\"dataframe\">\n",
       "  <thead>\n",
       "    <tr style=\"text-align: right;\">\n",
       "      <th></th>\n",
       "      <th>Column</th>\n",
       "      <th>Non-Null Count</th>\n",
       "      <th>NaN Count</th>\n",
       "      <th>NaN Percentage</th>\n",
       "      <th>Dtype</th>\n",
       "      <th>Example Value</th>\n",
       "    </tr>\n",
       "  </thead>\n",
       "  <tbody>\n",
       "    <tr>\n",
       "      <th>0</th>\n",
       "      <td>DeployedFromLocation</td>\n",
       "      <td>200000</td>\n",
       "      <td>0</td>\n",
       "      <td>0.0</td>\n",
       "      <td>int64</td>\n",
       "      <td>0</td>\n",
       "    </tr>\n",
       "    <tr>\n",
       "      <th>1</th>\n",
       "      <td>PumpOrder</td>\n",
       "      <td>200000</td>\n",
       "      <td>0</td>\n",
       "      <td>0.0</td>\n",
       "      <td>float64</td>\n",
       "      <td>-0.595599</td>\n",
       "    </tr>\n",
       "    <tr>\n",
       "      <th>2</th>\n",
       "      <td>Easting_rounded</td>\n",
       "      <td>200000</td>\n",
       "      <td>0</td>\n",
       "      <td>0.0</td>\n",
       "      <td>float64</td>\n",
       "      <td>-1.887522</td>\n",
       "    </tr>\n",
       "    <tr>\n",
       "      <th>3</th>\n",
       "      <td>Northing_rounded</td>\n",
       "      <td>200000</td>\n",
       "      <td>0</td>\n",
       "      <td>0.0</td>\n",
       "      <td>float64</td>\n",
       "      <td>1.175974</td>\n",
       "    </tr>\n",
       "    <tr>\n",
       "      <th>4</th>\n",
       "      <td>NumStationsWithPumpsAttending</td>\n",
       "      <td>200000</td>\n",
       "      <td>0</td>\n",
       "      <td>0.0</td>\n",
       "      <td>float64</td>\n",
       "      <td>0.349341</td>\n",
       "    </tr>\n",
       "    <tr>\n",
       "      <th>...</th>\n",
       "      <td>...</td>\n",
       "      <td>...</td>\n",
       "      <td>...</td>\n",
       "      <td>...</td>\n",
       "      <td>...</td>\n",
       "      <td>...</td>\n",
       "    </tr>\n",
       "    <tr>\n",
       "      <th>67</th>\n",
       "      <td>IncidentType_Spills and Leaks (not RTC)</td>\n",
       "      <td>200000</td>\n",
       "      <td>0</td>\n",
       "      <td>0.0</td>\n",
       "      <td>bool</td>\n",
       "      <td>False</td>\n",
       "    </tr>\n",
       "    <tr>\n",
       "      <th>68</th>\n",
       "      <td>IncidentType_Stand By</td>\n",
       "      <td>200000</td>\n",
       "      <td>0</td>\n",
       "      <td>0.0</td>\n",
       "      <td>bool</td>\n",
       "      <td>False</td>\n",
       "    </tr>\n",
       "    <tr>\n",
       "      <th>69</th>\n",
       "      <td>IncidentType_Suicide/attempts</td>\n",
       "      <td>200000</td>\n",
       "      <td>0</td>\n",
       "      <td>0.0</td>\n",
       "      <td>bool</td>\n",
       "      <td>False</td>\n",
       "    </tr>\n",
       "    <tr>\n",
       "      <th>70</th>\n",
       "      <td>IncidentType_Use of Special Operations Room</td>\n",
       "      <td>200000</td>\n",
       "      <td>0</td>\n",
       "      <td>0.0</td>\n",
       "      <td>bool</td>\n",
       "      <td>False</td>\n",
       "    </tr>\n",
       "    <tr>\n",
       "      <th>71</th>\n",
       "      <td>IncidentType_Water provision</td>\n",
       "      <td>200000</td>\n",
       "      <td>0</td>\n",
       "      <td>0.0</td>\n",
       "      <td>bool</td>\n",
       "      <td>False</td>\n",
       "    </tr>\n",
       "  </tbody>\n",
       "</table>\n",
       "<p>72 rows × 6 columns</p>\n",
       "</div>"
      ],
      "text/plain": [
       "                                         Column  Non-Null Count  NaN Count  \\\n",
       "0                          DeployedFromLocation          200000          0   \n",
       "1                                     PumpOrder          200000          0   \n",
       "2                               Easting_rounded          200000          0   \n",
       "3                              Northing_rounded          200000          0   \n",
       "4                 NumStationsWithPumpsAttending          200000          0   \n",
       "..                                          ...             ...        ...   \n",
       "67      IncidentType_Spills and Leaks (not RTC)          200000          0   \n",
       "68                        IncidentType_Stand By          200000          0   \n",
       "69                IncidentType_Suicide/attempts          200000          0   \n",
       "70  IncidentType_Use of Special Operations Room          200000          0   \n",
       "71                 IncidentType_Water provision          200000          0   \n",
       "\n",
       "    NaN Percentage    Dtype Example Value  \n",
       "0              0.0    int64             0  \n",
       "1              0.0  float64     -0.595599  \n",
       "2              0.0  float64     -1.887522  \n",
       "3              0.0  float64      1.175974  \n",
       "4              0.0  float64      0.349341  \n",
       "..             ...      ...           ...  \n",
       "67             0.0     bool         False  \n",
       "68             0.0     bool         False  \n",
       "69             0.0     bool         False  \n",
       "70             0.0     bool         False  \n",
       "71             0.0     bool         False  \n",
       "\n",
       "[72 rows x 6 columns]"
      ]
     },
     "execution_count": 24,
     "metadata": {},
     "output_type": "execute_result"
    }
   ],
   "source": [
    "dataframe_info(pd.DataFrame(X_train))"
   ]
  },
  {
   "cell_type": "markdown",
   "id": "e7d25485-99cb-4c99-b28c-de4c1e597220",
   "metadata": {
    "jp-MarkdownHeadingCollapsed": true
   },
   "source": [
    "## 5 - Réduction de dimension"
   ]
  },
  {
   "cell_type": "code",
   "execution_count": 25,
   "id": "576488aa-c96c-43d9-b325-049c0c1cd752",
   "metadata": {},
   "outputs": [],
   "source": [
    "from sklearn.feature_selection import VarianceThreshold, SelectKBest, SelectFromModel, f_regression, mutual_info_regression, RFE, RFECV\n",
    "from sklearn.model_selection import train_test_split, KFold, GridSearchCV\n",
    "from sklearn.linear_model import LinearRegression, Lasso\n",
    "\n",
    "from sklearn.decomposition import PCA\n",
    "from sklearn.ensemble import RandomForestClassifier"
   ]
  },
  {
   "cell_type": "raw",
   "id": "9e5048b3-9dea-46ac-8e9b-26b4137c0663",
   "metadata": {},
   "source": [
    "## PCA\n",
    "pca = PCA()\n",
    "\n",
    "pca.fit(X_train)\n",
    "\n",
    "plt.figure()\n",
    "plt.xlim(0,72)\n",
    "plt.plot(pca.explained_variance_ratio_);\n",
    "\n",
    "plt.figure()\n",
    "plt.xlim(0,72)\n",
    "plt.xlabel('Nombre de composantes')\n",
    "plt.ylabel('Part de variance expliquée')\n",
    "plt.axhline(y = 0.95, color ='r', linestyle = '--')\n",
    "plt.plot(pca.explained_variance_ratio_.cumsum());\n",
    "\n",
    "\n",
    "pca = PCA(n_components = 0.95)\n",
    "X_train_pca = pca.fit_transform(X_train)\n",
    "X_test_pca = pca.transform(X_test)\n",
    "\n",
    "X_train = X_train_pca\n",
    "X_test = X_test_pca\n",
    "\n",
    "print(pca.n_components_)"
   ]
  },
  {
   "cell_type": "markdown",
   "id": "69166d79-2a30-45f7-be21-fec6248443f2",
   "metadata": {},
   "source": [
    "## 6 - Deep Learning"
   ]
  },
  {
   "cell_type": "code",
   "execution_count": 26,
   "id": "f4c62e3d-be04-4e16-95b4-604fa33719a4",
   "metadata": {},
   "outputs": [],
   "source": [
    "y_train = y_train.astype(int)\n",
    "y_test = y_test.astype(int)"
   ]
  },
  {
   "cell_type": "code",
   "execution_count": 27,
   "id": "9c576d5f-fb92-4a31-8e1e-8d8a5d0e2a1f",
   "metadata": {},
   "outputs": [
    {
     "name": "stderr",
     "output_type": "stream",
     "text": [
      "2024-07-21 23:37:41.052788: I tensorflow/core/platform/cpu_feature_guard.cc:210] This TensorFlow binary is optimized to use available CPU instructions in performance-critical operations.\n",
      "To enable the following instructions: AVX2 FMA, in other operations, rebuild TensorFlow with the appropriate compiler flags.\n"
     ]
    }
   ],
   "source": [
    "from tensorflow.keras.models import Sequential\n",
    "from tensorflow.keras.layers import Dense, Dropout\n",
    "from tensorflow.keras.optimizers import Adam\n",
    "from tensorflow.keras.callbacks import EarlyStopping\n",
    "from tensorflow.keras.utils import to_categorical\n",
    "from tensorflow.keras.layers import Input, Dense\n",
    "from tensorflow.keras.models import Model\n",
    "from tensorflow.keras.losses import CategoricalCrossentropy\n",
    "from tensorflow.keras.layers import BatchNormalization\n"
   ]
  },
  {
   "cell_type": "code",
   "execution_count": 37,
   "id": "60394407-a4cc-47b1-ab65-2a9bc8d9e01d",
   "metadata": {},
   "outputs": [],
   "source": [
    "from sklearn.metrics import classification_report\n",
    "from sklearn.metrics import confusion_matrix"
   ]
  },
  {
   "cell_type": "markdown",
   "id": "97e0e716-1451-4698-98e6-a6393d415a98",
   "metadata": {},
   "source": [
    "### Modèle 1"
   ]
  },
  {
   "cell_type": "code",
   "execution_count": 28,
   "id": "bc39e8d4-aea7-4d34-8a36-00a3ecd572b6",
   "metadata": {},
   "outputs": [],
   "source": [
    "num_features = X_train.shape[1]\n",
    "num_classes = 4\n",
    "\n",
    "inputs = Input(shape = (num_features,), name = \"Input\")\n",
    "\n",
    "dense1 = Dense(units = 32, activation = \"tanh\", name = 'dense_1')\n",
    "dense2 = Dense(units = 16, activation = \"tanh\", name = 'dense_2')\n",
    "dense3 = Dense(units = 8, activation = \"tanh\", name = 'dense_3')\n",
    "dense4 = Dense(units = num_classes, activation = \"softmax\", name = 'dense_4')\n",
    "\n",
    "x = dense1(inputs)\n",
    "x = dense2(x)\n",
    "x = dense3(x)\n",
    "outputs = dense4(x)\n",
    "\n",
    "model1 = Model(inputs = inputs, outputs = outputs)\n"
   ]
  },
  {
   "cell_type": "code",
   "execution_count": 29,
   "id": "7bad4c69-e29b-400a-80db-2e48371908bb",
   "metadata": {},
   "outputs": [],
   "source": [
    "# Compilation du modèle\n",
    "model1.compile(optimizer='adam', \n",
    "              loss='sparse_categorical_crossentropy', \n",
    "              metrics=['accuracy'])"
   ]
  },
  {
   "cell_type": "code",
   "execution_count": 30,
   "id": "e8f859d7-191e-4e5b-bde7-2b80d153aa07",
   "metadata": {},
   "outputs": [],
   "source": [
    "# Early stopping pour éviter l'overfitting\n",
    "early_stopping = EarlyStopping(monitor='val_loss', patience=10, restore_best_weights=True)"
   ]
  },
  {
   "cell_type": "code",
   "execution_count": 32,
   "id": "526b3459-4fa4-433e-99a2-2046529981ee",
   "metadata": {},
   "outputs": [
    {
     "name": "stdout",
     "output_type": "stream",
     "text": [
      "Epoch 1/100\n",
      "\u001b[1m6250/6250\u001b[0m \u001b[32m━━━━━━━━━━━━━━━━━━━━\u001b[0m\u001b[37m\u001b[0m \u001b[1m15s\u001b[0m 2ms/step - accuracy: 0.3647 - loss: 1.2904 - val_accuracy: 0.3966 - val_loss: 1.2491\n",
      "Epoch 2/100\n",
      "\u001b[1m6250/6250\u001b[0m \u001b[32m━━━━━━━━━━━━━━━━━━━━\u001b[0m\u001b[37m\u001b[0m \u001b[1m15s\u001b[0m 2ms/step - accuracy: 0.3995 - loss: 1.2442 - val_accuracy: 0.4011 - val_loss: 1.2424\n",
      "Epoch 3/100\n",
      "\u001b[1m6250/6250\u001b[0m \u001b[32m━━━━━━━━━━━━━━━━━━━━\u001b[0m\u001b[37m\u001b[0m \u001b[1m13s\u001b[0m 2ms/step - accuracy: 0.4014 - loss: 1.2361 - val_accuracy: 0.3944 - val_loss: 1.2394\n",
      "Epoch 4/100\n",
      "\u001b[1m6250/6250\u001b[0m \u001b[32m━━━━━━━━━━━━━━━━━━━━\u001b[0m\u001b[37m\u001b[0m \u001b[1m13s\u001b[0m 2ms/step - accuracy: 0.4023 - loss: 1.2326 - val_accuracy: 0.4057 - val_loss: 1.2318\n",
      "Epoch 5/100\n",
      "\u001b[1m6250/6250\u001b[0m \u001b[32m━━━━━━━━━━━━━━━━━━━━\u001b[0m\u001b[37m\u001b[0m \u001b[1m13s\u001b[0m 2ms/step - accuracy: 0.4051 - loss: 1.2311 - val_accuracy: 0.4069 - val_loss: 1.2306\n",
      "Epoch 6/100\n",
      "\u001b[1m6250/6250\u001b[0m \u001b[32m━━━━━━━━━━━━━━━━━━━━\u001b[0m\u001b[37m\u001b[0m \u001b[1m13s\u001b[0m 2ms/step - accuracy: 0.4064 - loss: 1.2288 - val_accuracy: 0.4075 - val_loss: 1.2280\n",
      "Epoch 7/100\n",
      "\u001b[1m6250/6250\u001b[0m \u001b[32m━━━━━━━━━━━━━━━━━━━━\u001b[0m\u001b[37m\u001b[0m \u001b[1m13s\u001b[0m 2ms/step - accuracy: 0.4070 - loss: 1.2268 - val_accuracy: 0.4063 - val_loss: 1.2294\n",
      "Epoch 8/100\n",
      "\u001b[1m6250/6250\u001b[0m \u001b[32m━━━━━━━━━━━━━━━━━━━━\u001b[0m\u001b[37m\u001b[0m \u001b[1m13s\u001b[0m 2ms/step - accuracy: 0.4083 - loss: 1.2258 - val_accuracy: 0.4076 - val_loss: 1.2289\n",
      "Epoch 9/100\n",
      "\u001b[1m6250/6250\u001b[0m \u001b[32m━━━━━━━━━━━━━━━━━━━━\u001b[0m\u001b[37m\u001b[0m \u001b[1m14s\u001b[0m 2ms/step - accuracy: 0.4093 - loss: 1.2240 - val_accuracy: 0.4082 - val_loss: 1.2276\n",
      "Epoch 10/100\n",
      "\u001b[1m6250/6250\u001b[0m \u001b[32m━━━━━━━━━━━━━━━━━━━━\u001b[0m\u001b[37m\u001b[0m \u001b[1m14s\u001b[0m 2ms/step - accuracy: 0.4103 - loss: 1.2217 - val_accuracy: 0.4067 - val_loss: 1.2285\n",
      "Epoch 11/100\n",
      "\u001b[1m6250/6250\u001b[0m \u001b[32m━━━━━━━━━━━━━━━━━━━━\u001b[0m\u001b[37m\u001b[0m \u001b[1m14s\u001b[0m 2ms/step - accuracy: 0.4123 - loss: 1.2212 - val_accuracy: 0.4096 - val_loss: 1.2271\n",
      "Epoch 12/100\n",
      "\u001b[1m6250/6250\u001b[0m \u001b[32m━━━━━━━━━━━━━━━━━━━━\u001b[0m\u001b[37m\u001b[0m \u001b[1m13s\u001b[0m 2ms/step - accuracy: 0.4105 - loss: 1.2210 - val_accuracy: 0.4086 - val_loss: 1.2282\n",
      "Epoch 13/100\n",
      "\u001b[1m6250/6250\u001b[0m \u001b[32m━━━━━━━━━━━━━━━━━━━━\u001b[0m\u001b[37m\u001b[0m \u001b[1m13s\u001b[0m 2ms/step - accuracy: 0.4109 - loss: 1.2210 - val_accuracy: 0.4091 - val_loss: 1.2256\n",
      "Epoch 14/100\n",
      "\u001b[1m6250/6250\u001b[0m \u001b[32m━━━━━━━━━━━━━━━━━━━━\u001b[0m\u001b[37m\u001b[0m \u001b[1m13s\u001b[0m 2ms/step - accuracy: 0.4109 - loss: 1.2207 - val_accuracy: 0.4096 - val_loss: 1.2250\n",
      "Epoch 15/100\n",
      "\u001b[1m6250/6250\u001b[0m \u001b[32m━━━━━━━━━━━━━━━━━━━━\u001b[0m\u001b[37m\u001b[0m \u001b[1m14s\u001b[0m 2ms/step - accuracy: 0.4114 - loss: 1.2204 - val_accuracy: 0.4093 - val_loss: 1.2247\n",
      "Epoch 16/100\n",
      "\u001b[1m6250/6250\u001b[0m \u001b[32m━━━━━━━━━━━━━━━━━━━━\u001b[0m\u001b[37m\u001b[0m \u001b[1m15s\u001b[0m 2ms/step - accuracy: 0.4123 - loss: 1.2190 - val_accuracy: 0.4100 - val_loss: 1.2258\n",
      "Epoch 17/100\n",
      "\u001b[1m6250/6250\u001b[0m \u001b[32m━━━━━━━━━━━━━━━━━━━━\u001b[0m\u001b[37m\u001b[0m \u001b[1m13s\u001b[0m 2ms/step - accuracy: 0.4132 - loss: 1.2184 - val_accuracy: 0.4098 - val_loss: 1.2248\n",
      "Epoch 18/100\n",
      "\u001b[1m6250/6250\u001b[0m \u001b[32m━━━━━━━━━━━━━━━━━━━━\u001b[0m\u001b[37m\u001b[0m \u001b[1m14s\u001b[0m 2ms/step - accuracy: 0.4143 - loss: 1.2168 - val_accuracy: 0.4097 - val_loss: 1.2254\n",
      "Epoch 19/100\n",
      "\u001b[1m6250/6250\u001b[0m \u001b[32m━━━━━━━━━━━━━━━━━━━━\u001b[0m\u001b[37m\u001b[0m \u001b[1m13s\u001b[0m 2ms/step - accuracy: 0.4121 - loss: 1.2176 - val_accuracy: 0.4104 - val_loss: 1.2245\n",
      "Epoch 20/100\n",
      "\u001b[1m6250/6250\u001b[0m \u001b[32m━━━━━━━━━━━━━━━━━━━━\u001b[0m\u001b[37m\u001b[0m \u001b[1m14s\u001b[0m 2ms/step - accuracy: 0.4135 - loss: 1.2171 - val_accuracy: 0.4084 - val_loss: 1.2258\n",
      "Epoch 21/100\n",
      "\u001b[1m6250/6250\u001b[0m \u001b[32m━━━━━━━━━━━━━━━━━━━━\u001b[0m\u001b[37m\u001b[0m \u001b[1m13s\u001b[0m 2ms/step - accuracy: 0.4129 - loss: 1.2153 - val_accuracy: 0.4083 - val_loss: 1.2264\n",
      "Epoch 22/100\n",
      "\u001b[1m6250/6250\u001b[0m \u001b[32m━━━━━━━━━━━━━━━━━━━━\u001b[0m\u001b[37m\u001b[0m \u001b[1m13s\u001b[0m 2ms/step - accuracy: 0.4149 - loss: 1.2160 - val_accuracy: 0.4105 - val_loss: 1.2257\n",
      "Epoch 23/100\n",
      "\u001b[1m6250/6250\u001b[0m \u001b[32m━━━━━━━━━━━━━━━━━━━━\u001b[0m\u001b[37m\u001b[0m \u001b[1m13s\u001b[0m 2ms/step - accuracy: 0.4148 - loss: 1.2134 - val_accuracy: 0.4073 - val_loss: 1.2269\n",
      "Epoch 24/100\n",
      "\u001b[1m6250/6250\u001b[0m \u001b[32m━━━━━━━━━━━━━━━━━━━━\u001b[0m\u001b[37m\u001b[0m \u001b[1m13s\u001b[0m 2ms/step - accuracy: 0.4126 - loss: 1.2159 - val_accuracy: 0.4098 - val_loss: 1.2248\n",
      "Epoch 25/100\n",
      "\u001b[1m6250/6250\u001b[0m \u001b[32m━━━━━━━━━━━━━━━━━━━━\u001b[0m\u001b[37m\u001b[0m \u001b[1m13s\u001b[0m 2ms/step - accuracy: 0.4129 - loss: 1.2153 - val_accuracy: 0.4097 - val_loss: 1.2260\n",
      "Epoch 26/100\n",
      "\u001b[1m6250/6250\u001b[0m \u001b[32m━━━━━━━━━━━━━━━━━━━━\u001b[0m\u001b[37m\u001b[0m \u001b[1m13s\u001b[0m 2ms/step - accuracy: 0.4146 - loss: 1.2146 - val_accuracy: 0.4099 - val_loss: 1.2264\n",
      "Epoch 27/100\n",
      "\u001b[1m6250/6250\u001b[0m \u001b[32m━━━━━━━━━━━━━━━━━━━━\u001b[0m\u001b[37m\u001b[0m \u001b[1m14s\u001b[0m 2ms/step - accuracy: 0.4133 - loss: 1.2145 - val_accuracy: 0.4100 - val_loss: 1.2268\n",
      "Epoch 28/100\n",
      "\u001b[1m6250/6250\u001b[0m \u001b[32m━━━━━━━━━━━━━━━━━━━━\u001b[0m\u001b[37m\u001b[0m \u001b[1m14s\u001b[0m 2ms/step - accuracy: 0.4142 - loss: 1.2141 - val_accuracy: 0.4082 - val_loss: 1.2266\n",
      "Epoch 29/100\n",
      "\u001b[1m6250/6250\u001b[0m \u001b[32m━━━━━━━━━━━━━━━━━━━━\u001b[0m\u001b[37m\u001b[0m \u001b[1m14s\u001b[0m 2ms/step - accuracy: 0.4161 - loss: 1.2118 - val_accuracy: 0.4089 - val_loss: 1.2259\n"
     ]
    }
   ],
   "source": [
    "# Entraînement du modèle\n",
    "training_history = model1.fit(X_train, y_train,\n",
    "                             validation_data = (X_test, y_test),\n",
    "                             epochs = 100, \n",
    "                             batch_size = 32,\n",
    "                             validation_split = 0.2,\n",
    "                             #class_weight = class_weights_dict,\n",
    "                             callbacks=[early_stopping])"
   ]
  },
  {
   "cell_type": "code",
   "execution_count": 33,
   "id": "a8ab9ef0-169f-4cbd-8122-ba46be42f4ba",
   "metadata": {},
   "outputs": [
    {
     "data": {
      "text/html": [
       "<pre style=\"white-space:pre;overflow-x:auto;line-height:normal;font-family:Menlo,'DejaVu Sans Mono',consolas,'Courier New',monospace\"><span style=\"font-weight: bold\">Model: \"functional\"</span>\n",
       "</pre>\n"
      ],
      "text/plain": [
       "\u001b[1mModel: \"functional\"\u001b[0m\n"
      ]
     },
     "metadata": {},
     "output_type": "display_data"
    },
    {
     "data": {
      "text/html": [
       "<pre style=\"white-space:pre;overflow-x:auto;line-height:normal;font-family:Menlo,'DejaVu Sans Mono',consolas,'Courier New',monospace\">┏━━━━━━━━━━━━━━━━━━━━━━━━━━━━━━━━━┳━━━━━━━━━━━━━━━━━━━━━━━━┳━━━━━━━━━━━━━━━┓\n",
       "┃<span style=\"font-weight: bold\"> Layer (type)                    </span>┃<span style=\"font-weight: bold\"> Output Shape           </span>┃<span style=\"font-weight: bold\">       Param # </span>┃\n",
       "┡━━━━━━━━━━━━━━━━━━━━━━━━━━━━━━━━━╇━━━━━━━━━━━━━━━━━━━━━━━━╇━━━━━━━━━━━━━━━┩\n",
       "│ Input (<span style=\"color: #0087ff; text-decoration-color: #0087ff\">InputLayer</span>)              │ (<span style=\"color: #00d7ff; text-decoration-color: #00d7ff\">None</span>, <span style=\"color: #00af00; text-decoration-color: #00af00\">72</span>)             │             <span style=\"color: #00af00; text-decoration-color: #00af00\">0</span> │\n",
       "├─────────────────────────────────┼────────────────────────┼───────────────┤\n",
       "│ dense_1 (<span style=\"color: #0087ff; text-decoration-color: #0087ff\">Dense</span>)                 │ (<span style=\"color: #00d7ff; text-decoration-color: #00d7ff\">None</span>, <span style=\"color: #00af00; text-decoration-color: #00af00\">32</span>)             │         <span style=\"color: #00af00; text-decoration-color: #00af00\">2,336</span> │\n",
       "├─────────────────────────────────┼────────────────────────┼───────────────┤\n",
       "│ dense_2 (<span style=\"color: #0087ff; text-decoration-color: #0087ff\">Dense</span>)                 │ (<span style=\"color: #00d7ff; text-decoration-color: #00d7ff\">None</span>, <span style=\"color: #00af00; text-decoration-color: #00af00\">16</span>)             │           <span style=\"color: #00af00; text-decoration-color: #00af00\">528</span> │\n",
       "├─────────────────────────────────┼────────────────────────┼───────────────┤\n",
       "│ dense_3 (<span style=\"color: #0087ff; text-decoration-color: #0087ff\">Dense</span>)                 │ (<span style=\"color: #00d7ff; text-decoration-color: #00d7ff\">None</span>, <span style=\"color: #00af00; text-decoration-color: #00af00\">8</span>)              │           <span style=\"color: #00af00; text-decoration-color: #00af00\">136</span> │\n",
       "├─────────────────────────────────┼────────────────────────┼───────────────┤\n",
       "│ dense_4 (<span style=\"color: #0087ff; text-decoration-color: #0087ff\">Dense</span>)                 │ (<span style=\"color: #00d7ff; text-decoration-color: #00d7ff\">None</span>, <span style=\"color: #00af00; text-decoration-color: #00af00\">4</span>)              │            <span style=\"color: #00af00; text-decoration-color: #00af00\">36</span> │\n",
       "└─────────────────────────────────┴────────────────────────┴───────────────┘\n",
       "</pre>\n"
      ],
      "text/plain": [
       "┏━━━━━━━━━━━━━━━━━━━━━━━━━━━━━━━━━┳━━━━━━━━━━━━━━━━━━━━━━━━┳━━━━━━━━━━━━━━━┓\n",
       "┃\u001b[1m \u001b[0m\u001b[1mLayer (type)                   \u001b[0m\u001b[1m \u001b[0m┃\u001b[1m \u001b[0m\u001b[1mOutput Shape          \u001b[0m\u001b[1m \u001b[0m┃\u001b[1m \u001b[0m\u001b[1m      Param #\u001b[0m\u001b[1m \u001b[0m┃\n",
       "┡━━━━━━━━━━━━━━━━━━━━━━━━━━━━━━━━━╇━━━━━━━━━━━━━━━━━━━━━━━━╇━━━━━━━━━━━━━━━┩\n",
       "│ Input (\u001b[38;5;33mInputLayer\u001b[0m)              │ (\u001b[38;5;45mNone\u001b[0m, \u001b[38;5;34m72\u001b[0m)             │             \u001b[38;5;34m0\u001b[0m │\n",
       "├─────────────────────────────────┼────────────────────────┼───────────────┤\n",
       "│ dense_1 (\u001b[38;5;33mDense\u001b[0m)                 │ (\u001b[38;5;45mNone\u001b[0m, \u001b[38;5;34m32\u001b[0m)             │         \u001b[38;5;34m2,336\u001b[0m │\n",
       "├─────────────────────────────────┼────────────────────────┼───────────────┤\n",
       "│ dense_2 (\u001b[38;5;33mDense\u001b[0m)                 │ (\u001b[38;5;45mNone\u001b[0m, \u001b[38;5;34m16\u001b[0m)             │           \u001b[38;5;34m528\u001b[0m │\n",
       "├─────────────────────────────────┼────────────────────────┼───────────────┤\n",
       "│ dense_3 (\u001b[38;5;33mDense\u001b[0m)                 │ (\u001b[38;5;45mNone\u001b[0m, \u001b[38;5;34m8\u001b[0m)              │           \u001b[38;5;34m136\u001b[0m │\n",
       "├─────────────────────────────────┼────────────────────────┼───────────────┤\n",
       "│ dense_4 (\u001b[38;5;33mDense\u001b[0m)                 │ (\u001b[38;5;45mNone\u001b[0m, \u001b[38;5;34m4\u001b[0m)              │            \u001b[38;5;34m36\u001b[0m │\n",
       "└─────────────────────────────────┴────────────────────────┴───────────────┘\n"
      ]
     },
     "metadata": {},
     "output_type": "display_data"
    },
    {
     "data": {
      "text/html": [
       "<pre style=\"white-space:pre;overflow-x:auto;line-height:normal;font-family:Menlo,'DejaVu Sans Mono',consolas,'Courier New',monospace\"><span style=\"font-weight: bold\"> Total params: </span><span style=\"color: #00af00; text-decoration-color: #00af00\">9,110</span> (35.59 KB)\n",
       "</pre>\n"
      ],
      "text/plain": [
       "\u001b[1m Total params: \u001b[0m\u001b[38;5;34m9,110\u001b[0m (35.59 KB)\n"
      ]
     },
     "metadata": {},
     "output_type": "display_data"
    },
    {
     "data": {
      "text/html": [
       "<pre style=\"white-space:pre;overflow-x:auto;line-height:normal;font-family:Menlo,'DejaVu Sans Mono',consolas,'Courier New',monospace\"><span style=\"font-weight: bold\"> Trainable params: </span><span style=\"color: #00af00; text-decoration-color: #00af00\">3,036</span> (11.86 KB)\n",
       "</pre>\n"
      ],
      "text/plain": [
       "\u001b[1m Trainable params: \u001b[0m\u001b[38;5;34m3,036\u001b[0m (11.86 KB)\n"
      ]
     },
     "metadata": {},
     "output_type": "display_data"
    },
    {
     "data": {
      "text/html": [
       "<pre style=\"white-space:pre;overflow-x:auto;line-height:normal;font-family:Menlo,'DejaVu Sans Mono',consolas,'Courier New',monospace\"><span style=\"font-weight: bold\"> Non-trainable params: </span><span style=\"color: #00af00; text-decoration-color: #00af00\">0</span> (0.00 B)\n",
       "</pre>\n"
      ],
      "text/plain": [
       "\u001b[1m Non-trainable params: \u001b[0m\u001b[38;5;34m0\u001b[0m (0.00 B)\n"
      ]
     },
     "metadata": {},
     "output_type": "display_data"
    },
    {
     "data": {
      "text/html": [
       "<pre style=\"white-space:pre;overflow-x:auto;line-height:normal;font-family:Menlo,'DejaVu Sans Mono',consolas,'Courier New',monospace\"><span style=\"font-weight: bold\"> Optimizer params: </span><span style=\"color: #00af00; text-decoration-color: #00af00\">6,074</span> (23.73 KB)\n",
       "</pre>\n"
      ],
      "text/plain": [
       "\u001b[1m Optimizer params: \u001b[0m\u001b[38;5;34m6,074\u001b[0m (23.73 KB)\n"
      ]
     },
     "metadata": {},
     "output_type": "display_data"
    }
   ],
   "source": [
    "model1.summary()"
   ]
  },
  {
   "cell_type": "code",
   "execution_count": 38,
   "id": "36e85de4-0ed9-436c-9bd0-8face34de19b",
   "metadata": {},
   "outputs": [
    {
     "name": "stdout",
     "output_type": "stream",
     "text": [
      "\u001b[1m14772/14772\u001b[0m \u001b[32m━━━━━━━━━━━━━━━━━━━━\u001b[0m\u001b[37m\u001b[0m \u001b[1m10s\u001b[0m 649us/step - accuracy: 0.4108 - loss: 1.2238\n",
      "Validation Loss: 1.2244564294815063\n",
      "Validation Accuracy: 0.4104272723197937\n"
     ]
    }
   ],
   "source": [
    "# Évaluation du modèle\n",
    "loss, accuracy = model1.evaluate(X_test, y_test)\n",
    "print(f'Validation Loss: {loss}')\n",
    "print(f'Validation Accuracy: {accuracy}')"
   ]
  },
  {
   "cell_type": "code",
   "execution_count": 39,
   "id": "7aaf0e57-4cef-4131-81f1-7fd8d8929bd3",
   "metadata": {},
   "outputs": [
    {
     "name": "stdout",
     "output_type": "stream",
     "text": [
      "\u001b[1m14772/14772\u001b[0m \u001b[32m━━━━━━━━━━━━━━━━━━━━\u001b[0m\u001b[37m\u001b[0m \u001b[1m9s\u001b[0m 640us/step\n",
      "[[79005 16488 12970 11238]\n",
      " [55972 20759 22347 18035]\n",
      " [37185 16375 29169 35854]\n",
      " [22102  8701 21414 65069]]\n",
      "              precision    recall  f1-score   support\n",
      "\n",
      "           0       0.66      0.41      0.50    194264\n",
      "           1       0.18      0.33      0.23     62323\n",
      "           2       0.25      0.34      0.29     85900\n",
      "           3       0.55      0.50      0.53    130196\n",
      "\n",
      "    accuracy                           0.41    472683\n",
      "   macro avg       0.41      0.39      0.39    472683\n",
      "weighted avg       0.49      0.41      0.43    472683\n",
      "\n"
     ]
    }
   ],
   "source": [
    "test_pred = model1.predict(X_test)\n",
    "test_pred_class = test_pred.argmax(axis=1)\n",
    "y_test_class = y_test\n",
    "cnf_matrix = confusion_matrix(y_test_class, test_pred_class)\n",
    "\n",
    "print(cnf_matrix)\n",
    "print(classification_report(test_pred_class,y_test_class))"
   ]
  },
  {
   "cell_type": "markdown",
   "id": "4d3a957f-c70a-471e-a041-2d596d435759",
   "metadata": {},
   "source": [
    "### Modèle 2"
   ]
  },
  {
   "cell_type": "code",
   "execution_count": 51,
   "id": "67bef58d-3a94-45d1-a60b-c1eb488b7162",
   "metadata": {},
   "outputs": [],
   "source": [
    "y_train_one_hot = to_categorical(y_train, num_classes=4)\n",
    "y_test_one_hot = to_categorical(y_test, num_classes=4)"
   ]
  },
  {
   "cell_type": "code",
   "execution_count": 48,
   "id": "6fe1703b-660b-4a2a-adcf-adbd62f970f0",
   "metadata": {},
   "outputs": [],
   "source": [
    "# Modèle 2 : Réseau de Neurones Dense (Fully Connected Network)\n",
    "\n",
    "model2 = Sequential()\n",
    "model2.add(Input(shape = (num_features,)))\n",
    "model2.add(Dense(64, activation='relu'))\n",
    "model2.add(Dropout(0.5))\n",
    "model2.add(Dense(32, activation='relu'))\n",
    "model2.add(Dropout(0.5))\n",
    "model2.add(Dense(units = num_classes, activation = \"softmax\"))\n",
    "\n",
    "# Compiler le modèle\n",
    "model2.compile(optimizer=Adam(), loss=CategoricalCrossentropy(), metrics=['accuracy'])"
   ]
  },
  {
   "cell_type": "code",
   "execution_count": 52,
   "id": "e2b083a5-4a19-4c2f-b3eb-c336d9a25bc0",
   "metadata": {},
   "outputs": [
    {
     "name": "stdout",
     "output_type": "stream",
     "text": [
      "Epoch 1/100\n"
     ]
    },
    {
     "ename": "ValueError",
     "evalue": "Creating variables on a non-first call to a function decorated with tf.function.",
     "output_type": "error",
     "traceback": [
      "\u001b[0;31m---------------------------------------------------------------------------\u001b[0m",
      "\u001b[0;31mValueError\u001b[0m                                Traceback (most recent call last)",
      "Cell \u001b[0;32mIn[52], line 5\u001b[0m\n\u001b[1;32m      2\u001b[0m early_stopping \u001b[38;5;241m=\u001b[39m EarlyStopping(monitor\u001b[38;5;241m=\u001b[39m\u001b[38;5;124m'\u001b[39m\u001b[38;5;124mval_loss\u001b[39m\u001b[38;5;124m'\u001b[39m, patience\u001b[38;5;241m=\u001b[39m\u001b[38;5;241m10\u001b[39m, restore_best_weights\u001b[38;5;241m=\u001b[39m\u001b[38;5;28;01mTrue\u001b[39;00m)\n\u001b[1;32m      4\u001b[0m \u001b[38;5;66;03m# Entraînement du modèle\u001b[39;00m\n\u001b[0;32m----> 5\u001b[0m training_history \u001b[38;5;241m=\u001b[39m model2\u001b[38;5;241m.\u001b[39mfit(X_train, y_train_one_hot,\n\u001b[1;32m      6\u001b[0m                              validation_data \u001b[38;5;241m=\u001b[39m (X_test, y_test_one_hot),\n\u001b[1;32m      7\u001b[0m                              epochs \u001b[38;5;241m=\u001b[39m \u001b[38;5;241m100\u001b[39m, \n\u001b[1;32m      8\u001b[0m                              batch_size \u001b[38;5;241m=\u001b[39m \u001b[38;5;241m32\u001b[39m,\n\u001b[1;32m      9\u001b[0m                              validation_split \u001b[38;5;241m=\u001b[39m \u001b[38;5;241m0.2\u001b[39m,\n\u001b[1;32m     10\u001b[0m                              callbacks\u001b[38;5;241m=\u001b[39m[early_stopping])\n",
      "File \u001b[0;32m/opt/anaconda3/lib/python3.11/site-packages/keras/src/utils/traceback_utils.py:122\u001b[0m, in \u001b[0;36mfilter_traceback.<locals>.error_handler\u001b[0;34m(*args, **kwargs)\u001b[0m\n\u001b[1;32m    119\u001b[0m     filtered_tb \u001b[38;5;241m=\u001b[39m _process_traceback_frames(e\u001b[38;5;241m.\u001b[39m__traceback__)\n\u001b[1;32m    120\u001b[0m     \u001b[38;5;66;03m# To get the full stack trace, call:\u001b[39;00m\n\u001b[1;32m    121\u001b[0m     \u001b[38;5;66;03m# `keras.config.disable_traceback_filtering()`\u001b[39;00m\n\u001b[0;32m--> 122\u001b[0m     \u001b[38;5;28;01mraise\u001b[39;00m e\u001b[38;5;241m.\u001b[39mwith_traceback(filtered_tb) \u001b[38;5;28;01mfrom\u001b[39;00m \u001b[38;5;28;01mNone\u001b[39;00m\n\u001b[1;32m    123\u001b[0m \u001b[38;5;28;01mfinally\u001b[39;00m:\n\u001b[1;32m    124\u001b[0m     \u001b[38;5;28;01mdel\u001b[39;00m filtered_tb\n",
      "File \u001b[0;32m/opt/anaconda3/lib/python3.11/site-packages/keras/src/backend/tensorflow/trainer.py:121\u001b[0m, in \u001b[0;36mTensorFlowTrainer.make_train_function.<locals>.one_step_on_iterator\u001b[0;34m(iterator)\u001b[0m\n\u001b[1;32m    119\u001b[0m \u001b[38;5;250m\u001b[39m\u001b[38;5;124;03m\"\"\"Runs a single training step given a Dataset iterator.\"\"\"\u001b[39;00m\n\u001b[1;32m    120\u001b[0m data \u001b[38;5;241m=\u001b[39m \u001b[38;5;28mnext\u001b[39m(iterator)\n\u001b[0;32m--> 121\u001b[0m outputs \u001b[38;5;241m=\u001b[39m \u001b[38;5;28mself\u001b[39m\u001b[38;5;241m.\u001b[39mdistribute_strategy\u001b[38;5;241m.\u001b[39mrun(\n\u001b[1;32m    122\u001b[0m     one_step_on_data, args\u001b[38;5;241m=\u001b[39m(data,)\n\u001b[1;32m    123\u001b[0m )\n\u001b[1;32m    124\u001b[0m outputs \u001b[38;5;241m=\u001b[39m reduce_per_replica(\n\u001b[1;32m    125\u001b[0m     outputs,\n\u001b[1;32m    126\u001b[0m     \u001b[38;5;28mself\u001b[39m\u001b[38;5;241m.\u001b[39mdistribute_strategy,\n\u001b[1;32m    127\u001b[0m     reduction\u001b[38;5;241m=\u001b[39m\u001b[38;5;124m\"\u001b[39m\u001b[38;5;124mauto\u001b[39m\u001b[38;5;124m\"\u001b[39m,\n\u001b[1;32m    128\u001b[0m )\n\u001b[1;32m    129\u001b[0m \u001b[38;5;28;01mreturn\u001b[39;00m outputs\n",
      "\u001b[0;31mValueError\u001b[0m: Creating variables on a non-first call to a function decorated with tf.function."
     ]
    }
   ],
   "source": [
    "# Early stopping pour éviter l'overfitting\n",
    "early_stopping = EarlyStopping(monitor='val_loss', patience=10, restore_best_weights=True)\n",
    "\n",
    "# Entraînement du modèle\n",
    "training_history = model2.fit(X_train, y_train_one_hot,\n",
    "                             validation_data = (X_test, y_test_one_hot),\n",
    "                             epochs = 100, \n",
    "                             batch_size = 32,\n",
    "                             validation_split = 0.2,\n",
    "                             callbacks=[early_stopping])"
   ]
  },
  {
   "cell_type": "code",
   "execution_count": 44,
   "id": "00fd073b-dbfd-409b-9aba-4a14dd8a7978",
   "metadata": {},
   "outputs": [
    {
     "ename": "ValueError",
     "evalue": "Arguments `target` and `output` must have the same shape. Received: target.shape=(None, 1), output.shape=(None, 4)",
     "output_type": "error",
     "traceback": [
      "\u001b[0;31m---------------------------------------------------------------------------\u001b[0m",
      "\u001b[0;31mValueError\u001b[0m                                Traceback (most recent call last)",
      "Cell \u001b[0;32mIn[44], line 2\u001b[0m\n\u001b[1;32m      1\u001b[0m \u001b[38;5;66;03m# Évaluation du modèle\u001b[39;00m\n\u001b[0;32m----> 2\u001b[0m loss, accuracy \u001b[38;5;241m=\u001b[39m model2\u001b[38;5;241m.\u001b[39mevaluate(X_test, y_test)\n\u001b[1;32m      3\u001b[0m \u001b[38;5;28mprint\u001b[39m(\u001b[38;5;124mf\u001b[39m\u001b[38;5;124m'\u001b[39m\u001b[38;5;124mValidation Loss: \u001b[39m\u001b[38;5;132;01m{\u001b[39;00mloss\u001b[38;5;132;01m}\u001b[39;00m\u001b[38;5;124m'\u001b[39m)\n\u001b[1;32m      4\u001b[0m \u001b[38;5;28mprint\u001b[39m(\u001b[38;5;124mf\u001b[39m\u001b[38;5;124m'\u001b[39m\u001b[38;5;124mValidation Accuracy: \u001b[39m\u001b[38;5;132;01m{\u001b[39;00maccuracy\u001b[38;5;132;01m}\u001b[39;00m\u001b[38;5;124m'\u001b[39m)\n",
      "File \u001b[0;32m/opt/anaconda3/lib/python3.11/site-packages/keras/src/utils/traceback_utils.py:122\u001b[0m, in \u001b[0;36mfilter_traceback.<locals>.error_handler\u001b[0;34m(*args, **kwargs)\u001b[0m\n\u001b[1;32m    119\u001b[0m     filtered_tb \u001b[38;5;241m=\u001b[39m _process_traceback_frames(e\u001b[38;5;241m.\u001b[39m__traceback__)\n\u001b[1;32m    120\u001b[0m     \u001b[38;5;66;03m# To get the full stack trace, call:\u001b[39;00m\n\u001b[1;32m    121\u001b[0m     \u001b[38;5;66;03m# `keras.config.disable_traceback_filtering()`\u001b[39;00m\n\u001b[0;32m--> 122\u001b[0m     \u001b[38;5;28;01mraise\u001b[39;00m e\u001b[38;5;241m.\u001b[39mwith_traceback(filtered_tb) \u001b[38;5;28;01mfrom\u001b[39;00m \u001b[38;5;28;01mNone\u001b[39;00m\n\u001b[1;32m    123\u001b[0m \u001b[38;5;28;01mfinally\u001b[39;00m:\n\u001b[1;32m    124\u001b[0m     \u001b[38;5;28;01mdel\u001b[39;00m filtered_tb\n",
      "File \u001b[0;32m/opt/anaconda3/lib/python3.11/site-packages/keras/src/backend/tensorflow/nn.py:561\u001b[0m, in \u001b[0;36mcategorical_crossentropy\u001b[0;34m(target, output, from_logits, axis)\u001b[0m\n\u001b[1;32m    559\u001b[0m \u001b[38;5;28;01mfor\u001b[39;00m e1, e2 \u001b[38;5;129;01min\u001b[39;00m \u001b[38;5;28mzip\u001b[39m(target\u001b[38;5;241m.\u001b[39mshape, output\u001b[38;5;241m.\u001b[39mshape):\n\u001b[1;32m    560\u001b[0m     \u001b[38;5;28;01mif\u001b[39;00m e1 \u001b[38;5;129;01mis\u001b[39;00m \u001b[38;5;129;01mnot\u001b[39;00m \u001b[38;5;28;01mNone\u001b[39;00m \u001b[38;5;129;01mand\u001b[39;00m e2 \u001b[38;5;129;01mis\u001b[39;00m \u001b[38;5;129;01mnot\u001b[39;00m \u001b[38;5;28;01mNone\u001b[39;00m \u001b[38;5;129;01mand\u001b[39;00m e1 \u001b[38;5;241m!=\u001b[39m e2:\n\u001b[0;32m--> 561\u001b[0m         \u001b[38;5;28;01mraise\u001b[39;00m \u001b[38;5;167;01mValueError\u001b[39;00m(\n\u001b[1;32m    562\u001b[0m             \u001b[38;5;124m\"\u001b[39m\u001b[38;5;124mArguments `target` and `output` must have the same shape. \u001b[39m\u001b[38;5;124m\"\u001b[39m\n\u001b[1;32m    563\u001b[0m             \u001b[38;5;124m\"\u001b[39m\u001b[38;5;124mReceived: \u001b[39m\u001b[38;5;124m\"\u001b[39m\n\u001b[1;32m    564\u001b[0m             \u001b[38;5;124mf\u001b[39m\u001b[38;5;124m\"\u001b[39m\u001b[38;5;124mtarget.shape=\u001b[39m\u001b[38;5;132;01m{\u001b[39;00mtarget\u001b[38;5;241m.\u001b[39mshape\u001b[38;5;132;01m}\u001b[39;00m\u001b[38;5;124m, output.shape=\u001b[39m\u001b[38;5;132;01m{\u001b[39;00moutput\u001b[38;5;241m.\u001b[39mshape\u001b[38;5;132;01m}\u001b[39;00m\u001b[38;5;124m\"\u001b[39m\n\u001b[1;32m    565\u001b[0m         )\n\u001b[1;32m    567\u001b[0m output, from_logits \u001b[38;5;241m=\u001b[39m _get_logits(\n\u001b[1;32m    568\u001b[0m     output, from_logits, \u001b[38;5;124m\"\u001b[39m\u001b[38;5;124mSoftmax\u001b[39m\u001b[38;5;124m\"\u001b[39m, \u001b[38;5;124m\"\u001b[39m\u001b[38;5;124mcategorical_crossentropy\u001b[39m\u001b[38;5;124m\"\u001b[39m\n\u001b[1;32m    569\u001b[0m )\n\u001b[1;32m    570\u001b[0m \u001b[38;5;28;01mif\u001b[39;00m from_logits:\n",
      "\u001b[0;31mValueError\u001b[0m: Arguments `target` and `output` must have the same shape. Received: target.shape=(None, 1), output.shape=(None, 4)"
     ]
    }
   ],
   "source": [
    "# Évaluation du modèle\n",
    "loss, accuracy = model2.evaluate(X_test, y_test)\n",
    "print(f'Validation Loss: {loss}')\n",
    "print(f'Validation Accuracy: {accuracy}')"
   ]
  },
  {
   "cell_type": "code",
   "execution_count": null,
   "id": "192590bf-5096-4c20-a10e-53cfd51f27d1",
   "metadata": {},
   "outputs": [],
   "source": [
    "test_pred = model2.predict(X_test)\n",
    "test_pred_class = test_pred.argmax(axis=1)\n",
    "y_test_class = y_test\n",
    "cnf_matrix = confusion_matrix(y_test_class, test_pred_class)\n",
    "\n",
    "print(cnf_matrix)\n",
    "print(classification_report(test_pred_class,y_test_class))"
   ]
  },
  {
   "cell_type": "code",
   "execution_count": null,
   "id": "f879d546-6cd3-4aa2-936a-397048880a92",
   "metadata": {},
   "outputs": [],
   "source": []
  }
 ],
 "metadata": {
  "kernelspec": {
   "display_name": "Python 3 (ipykernel)",
   "language": "python",
   "name": "python3"
  },
  "language_info": {
   "codemirror_mode": {
    "name": "ipython",
    "version": 3
   },
   "file_extension": ".py",
   "mimetype": "text/x-python",
   "name": "python",
   "nbconvert_exporter": "python",
   "pygments_lexer": "ipython3",
   "version": "3.11.7"
  }
 },
 "nbformat": 4,
 "nbformat_minor": 5
}
