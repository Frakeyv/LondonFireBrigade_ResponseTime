{
 "cells": [
  {
   "cell_type": "markdown",
   "id": "d0411083-7330-4d0e-b380-074ef03ebf18",
   "metadata": {},
   "source": [
    "Notebook to load any model that has been saved and use it to make predictions"
   ]
  },
  {
   "cell_type": "code",
   "execution_count": 1,
   "id": "76a9696d-60ee-444b-a4ee-5a0c1f06f5a0",
   "metadata": {},
   "outputs": [
    {
     "name": "stderr",
     "output_type": "stream",
     "text": [
      "2024-07-25 17:44:14.943631: I tensorflow/core/platform/cpu_feature_guard.cc:210] This TensorFlow binary is optimized to use available CPU instructions in performance-critical operations.\n",
      "To enable the following instructions: AVX2 FMA, in other operations, rebuild TensorFlow with the appropriate compiler flags.\n"
     ]
    }
   ],
   "source": [
    "import pandas as pd\n",
    "import numpy as np\n",
    "import matplotlib.pyplot as plt\n",
    "import seaborn as sns\n",
    "\n",
    "# Divers\n",
    "from utils import dataframe_info, racine_projet, save_model, load_model\n",
    "from preprocessing import prepross_reg, prepross_class\n",
    "from regression import regression_lineaire, ridge_model, lasso_model, elasticnet_model, xgb_model, xgb_gridsearch\n",
    "from classification import knn_class, decision_tree_class, random_forest_class, xgb_class, random_forest_gridsearch, xgb_class_gridsearch\n",
    "from deep_learning import deep_learning_dense, deep_learning_improved"
   ]
  },
  {
   "cell_type": "markdown",
   "id": "9676b855-15e2-45bd-9b95-e2c653d70ff0",
   "metadata": {},
   "source": [
    "### Regression model"
   ]
  },
  {
   "cell_type": "code",
   "execution_count": 2,
   "id": "be722001-5096-4ddb-962e-e2ca7b51a0b1",
   "metadata": {},
   "outputs": [],
   "source": [
    "X_train, y_train, X_test, y_test = prepross_reg()"
   ]
  },
  {
   "cell_type": "code",
   "execution_count": 3,
   "id": "32ceccff-3940-43a8-98c8-eef03be7fe38",
   "metadata": {},
   "outputs": [],
   "source": [
    "model = load_model('xgb_regressor_model')"
   ]
  },
  {
   "cell_type": "code",
   "execution_count": 4,
   "id": "87825026-65a2-4815-a1ae-a80dc0c66df1",
   "metadata": {},
   "outputs": [],
   "source": [
    "y_pred = model.predict(X_test)"
   ]
  },
  {
   "cell_type": "markdown",
   "id": "f197387a-fbe5-4b5f-b731-f86c4b42ec7a",
   "metadata": {},
   "source": [
    "### Classification (or Deep Learning) model"
   ]
  },
  {
   "cell_type": "code",
   "execution_count": 5,
   "id": "4d700eee-dbb5-43fb-b006-41d52b4eafb5",
   "metadata": {},
   "outputs": [],
   "source": [
    "X_train, y_train, X_test, y_test = prepross_class()"
   ]
  },
  {
   "cell_type": "code",
   "execution_count": 6,
   "id": "f7c254a7-b67b-43d9-a961-e207f648876f",
   "metadata": {},
   "outputs": [],
   "source": [
    "model = load_model('xgb_classifier_model')"
   ]
  },
  {
   "cell_type": "code",
   "execution_count": 7,
   "id": "ba4949fe-bae9-46dc-8dea-14355fe8df15",
   "metadata": {},
   "outputs": [],
   "source": [
    "y_pred = model.predict(X_test)"
   ]
  }
 ],
 "metadata": {
  "kernelspec": {
   "display_name": "Python 3 (ipykernel)",
   "language": "python",
   "name": "python3"
  },
  "language_info": {
   "codemirror_mode": {
    "name": "ipython",
    "version": 3
   },
   "file_extension": ".py",
   "mimetype": "text/x-python",
   "name": "python",
   "nbconvert_exporter": "python",
   "pygments_lexer": "ipython3",
   "version": "3.11.9"
  }
 },
 "nbformat": 4,
 "nbformat_minor": 5
}
