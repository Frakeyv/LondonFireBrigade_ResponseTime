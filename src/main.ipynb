{
 "cells": [
  {
   "cell_type": "markdown",
   "id": "5954b5d6-22db-4b35-86a1-8c7fb8b62e80",
   "metadata": {},
   "source": [
    "## Introduction\n",
    "Avant de faire tourner le code suivant, il est nécessaire d'avoir fait tourner de manière indépendante les notebooks suivants :\n",
    "- 01_importation_fusion\n",
    "- 02_weather\n",
    "- 03_featuring\n",
    "\n",
    "Il est ensuite possible de :\n",
    "- Utiliser les notebooks \"exploration\" ou \"dataviz\" présent dans le dossier NOTEBOOKS pour l'exploration ou afficher les graphes utiliser dans le rapport\n",
    "- Utiliser les notebooks 04_regression, 05_classification ou 06_deep_learning pour réaliser l'entraînement des modèles agrémenté de graphiques et d'affichages de tableau pour le suivi du raisonnement.\n",
    "\n",
    "Il est également possible de :\n",
    "- Faire tourner les modèles à l'aide du main (ce notebook) en choissisant ainsi les modèles que l'on souhaite faire tourner.\n",
    "- Pour modifier le preprocessing => aller dans les fonctions dfinies dans le notebook \"preprocessing\"\n",
    "- Pour modifier les paramètres des modèles => aller dans les fonctions définies dans les notebooks \"regression\", \"classification\" ou \"deep_learning\""
   ]
  },
  {
   "cell_type": "markdown",
   "id": "c0880dab-0035-4ab1-a026-45277fad74df",
   "metadata": {},
   "source": [
    "## Importation des librairies"
   ]
  },
  {
   "cell_type": "code",
   "execution_count": 1,
   "id": "cd8b286e-0ec5-4f0a-ac93-f7150876110c",
   "metadata": {},
   "outputs": [
    {
     "name": "stderr",
     "output_type": "stream",
     "text": [
      "2024-07-25 06:46:32.489614: I tensorflow/core/platform/cpu_feature_guard.cc:210] This TensorFlow binary is optimized to use available CPU instructions in performance-critical operations.\n",
      "To enable the following instructions: AVX2 FMA, in other operations, rebuild TensorFlow with the appropriate compiler flags.\n"
     ]
    }
   ],
   "source": [
    "import pandas as pd\n",
    "import numpy as np\n",
    "import matplotlib.pyplot as plt\n",
    "import seaborn as sns\n",
    "\n",
    "# Standardisation et évaluation\n",
    "from sklearn.preprocessing import MinMaxScaler, StandardScaler, LabelEncoder\n",
    "from sklearn.model_selection import train_test_split, cross_val_score\n",
    "\n",
    "# Réduction de dimension\n",
    "from sklearn.feature_selection import VarianceThreshold, SelectFromModel\n",
    "from sklearn.model_selection import train_test_split, KFold, GridSearchCV\n",
    "from sklearn.linear_model import LinearRegression, Lasso\n",
    "from sklearn.decomposition import PCA\n",
    "from sklearn.discriminant_analysis import LinearDiscriminantAnalysis as LDA\n",
    "\n",
    "# Undersampling\n",
    "from imblearn.under_sampling import RandomUnderSampler\n",
    "\n",
    "# Evaludation des modèles\n",
    "from sklearn.metrics import mean_absolute_error, root_mean_squared_error, r2_score # modèle régression\n",
    "from sklearn.metrics import accuracy_score, classification_report, confusion_matrix # modèle classification\n",
    "\n",
    "# Divers\n",
    "from utils import dataframe_info, racine_projet\n",
    "from preprocessing import prepross_reg, prepross_class\n",
    "from regression import regression_lineaire, ridge_model, lasso_model, elasticnet_model, xgb_model, xgb_gridsearch\n",
    "from classification import knn_class, decision_tree_class, random_forest_class, xgb_class, random_forest_gridsearch, xgb_class_gridsearch\n",
    "from deep_learning import deep_learning_dense, deep_learning_improved\n"
   ]
  },
  {
   "cell_type": "markdown",
   "id": "6579c497-e814-4c65-98d1-9816d86fdea2",
   "metadata": {},
   "source": [
    "## Régression"
   ]
  },
  {
   "cell_type": "code",
   "execution_count": 3,
   "id": "8cf650c3-8335-4870-aa8a-be9721c16cb0",
   "metadata": {},
   "outputs": [],
   "source": [
    "X_train, y_train, X_test, y_test = prepross_reg()"
   ]
  },
  {
   "cell_type": "code",
   "execution_count": 4,
   "id": "7378ee24-a1d0-4654-9e8f-dfdc989ec303",
   "metadata": {},
   "outputs": [
    {
     "data": {
      "text/html": [
       "<div>\n",
       "<style scoped>\n",
       "    .dataframe tbody tr th:only-of-type {\n",
       "        vertical-align: middle;\n",
       "    }\n",
       "\n",
       "    .dataframe tbody tr th {\n",
       "        vertical-align: top;\n",
       "    }\n",
       "\n",
       "    .dataframe thead th {\n",
       "        text-align: right;\n",
       "    }\n",
       "</style>\n",
       "<table border=\"1\" class=\"dataframe\">\n",
       "  <thead>\n",
       "    <tr style=\"text-align: right;\">\n",
       "      <th></th>\n",
       "      <th>Column</th>\n",
       "      <th>Non-Null Count</th>\n",
       "      <th>NaN Count</th>\n",
       "      <th>NaN Percentage</th>\n",
       "      <th>Dtype</th>\n",
       "      <th>Example Value</th>\n",
       "    </tr>\n",
       "  </thead>\n",
       "  <tbody>\n",
       "    <tr>\n",
       "      <th>0</th>\n",
       "      <td>0</td>\n",
       "      <td>1890728</td>\n",
       "      <td>0</td>\n",
       "      <td>0.0</td>\n",
       "      <td>float64</td>\n",
       "      <td>0.000000</td>\n",
       "    </tr>\n",
       "    <tr>\n",
       "      <th>1</th>\n",
       "      <td>1</td>\n",
       "      <td>1890728</td>\n",
       "      <td>0</td>\n",
       "      <td>0.0</td>\n",
       "      <td>float64</td>\n",
       "      <td>-0.594006</td>\n",
       "    </tr>\n",
       "    <tr>\n",
       "      <th>2</th>\n",
       "      <td>2</td>\n",
       "      <td>1890728</td>\n",
       "      <td>0</td>\n",
       "      <td>0.0</td>\n",
       "      <td>float64</td>\n",
       "      <td>0.278521</td>\n",
       "    </tr>\n",
       "    <tr>\n",
       "      <th>3</th>\n",
       "      <td>3</td>\n",
       "      <td>1890728</td>\n",
       "      <td>0</td>\n",
       "      <td>0.0</td>\n",
       "      <td>float64</td>\n",
       "      <td>-0.333663</td>\n",
       "    </tr>\n",
       "    <tr>\n",
       "      <th>4</th>\n",
       "      <td>4</td>\n",
       "      <td>1890728</td>\n",
       "      <td>0</td>\n",
       "      <td>0.0</td>\n",
       "      <td>float64</td>\n",
       "      <td>0.352111</td>\n",
       "    </tr>\n",
       "    <tr>\n",
       "      <th>5</th>\n",
       "      <td>5</td>\n",
       "      <td>1890728</td>\n",
       "      <td>0</td>\n",
       "      <td>0.0</td>\n",
       "      <td>float64</td>\n",
       "      <td>0.925126</td>\n",
       "    </tr>\n",
       "    <tr>\n",
       "      <th>6</th>\n",
       "      <td>6</td>\n",
       "      <td>1890728</td>\n",
       "      <td>0</td>\n",
       "      <td>0.0</td>\n",
       "      <td>float64</td>\n",
       "      <td>-0.207481</td>\n",
       "    </tr>\n",
       "    <tr>\n",
       "      <th>7</th>\n",
       "      <td>7</td>\n",
       "      <td>1890728</td>\n",
       "      <td>0</td>\n",
       "      <td>0.0</td>\n",
       "      <td>float64</td>\n",
       "      <td>-0.253338</td>\n",
       "    </tr>\n",
       "    <tr>\n",
       "      <th>8</th>\n",
       "      <td>8</td>\n",
       "      <td>1890728</td>\n",
       "      <td>0</td>\n",
       "      <td>0.0</td>\n",
       "      <td>float64</td>\n",
       "      <td>-0.470705</td>\n",
       "    </tr>\n",
       "    <tr>\n",
       "      <th>9</th>\n",
       "      <td>9</td>\n",
       "      <td>1890728</td>\n",
       "      <td>0</td>\n",
       "      <td>0.0</td>\n",
       "      <td>float64</td>\n",
       "      <td>-1.596613</td>\n",
       "    </tr>\n",
       "    <tr>\n",
       "      <th>10</th>\n",
       "      <td>10</td>\n",
       "      <td>1890728</td>\n",
       "      <td>0</td>\n",
       "      <td>0.0</td>\n",
       "      <td>float64</td>\n",
       "      <td>-0.500000</td>\n",
       "    </tr>\n",
       "    <tr>\n",
       "      <th>11</th>\n",
       "      <td>11</td>\n",
       "      <td>1890728</td>\n",
       "      <td>0</td>\n",
       "      <td>0.0</td>\n",
       "      <td>float64</td>\n",
       "      <td>0.433884</td>\n",
       "    </tr>\n",
       "    <tr>\n",
       "      <th>12</th>\n",
       "      <td>12</td>\n",
       "      <td>1890728</td>\n",
       "      <td>0</td>\n",
       "      <td>0.0</td>\n",
       "      <td>float64</td>\n",
       "      <td>-0.900969</td>\n",
       "    </tr>\n",
       "    <tr>\n",
       "      <th>13</th>\n",
       "      <td>13</td>\n",
       "      <td>1890728</td>\n",
       "      <td>0</td>\n",
       "      <td>0.0</td>\n",
       "      <td>float64</td>\n",
       "      <td>-0.500000</td>\n",
       "    </tr>\n",
       "    <tr>\n",
       "      <th>14</th>\n",
       "      <td>14</td>\n",
       "      <td>1890728</td>\n",
       "      <td>0</td>\n",
       "      <td>0.0</td>\n",
       "      <td>float64</td>\n",
       "      <td>-0.866025</td>\n",
       "    </tr>\n",
       "    <tr>\n",
       "      <th>15</th>\n",
       "      <td>15</td>\n",
       "      <td>1890728</td>\n",
       "      <td>0</td>\n",
       "      <td>0.0</td>\n",
       "      <td>float64</td>\n",
       "      <td>0.000000</td>\n",
       "    </tr>\n",
       "    <tr>\n",
       "      <th>16</th>\n",
       "      <td>16</td>\n",
       "      <td>1890728</td>\n",
       "      <td>0</td>\n",
       "      <td>0.0</td>\n",
       "      <td>float64</td>\n",
       "      <td>0.000000</td>\n",
       "    </tr>\n",
       "    <tr>\n",
       "      <th>17</th>\n",
       "      <td>17</td>\n",
       "      <td>1890728</td>\n",
       "      <td>0</td>\n",
       "      <td>0.0</td>\n",
       "      <td>float64</td>\n",
       "      <td>0.000000</td>\n",
       "    </tr>\n",
       "    <tr>\n",
       "      <th>18</th>\n",
       "      <td>18</td>\n",
       "      <td>1890728</td>\n",
       "      <td>0</td>\n",
       "      <td>0.0</td>\n",
       "      <td>float64</td>\n",
       "      <td>0.000000</td>\n",
       "    </tr>\n",
       "    <tr>\n",
       "      <th>19</th>\n",
       "      <td>19</td>\n",
       "      <td>1890728</td>\n",
       "      <td>0</td>\n",
       "      <td>0.0</td>\n",
       "      <td>float64</td>\n",
       "      <td>1.000000</td>\n",
       "    </tr>\n",
       "    <tr>\n",
       "      <th>20</th>\n",
       "      <td>20</td>\n",
       "      <td>1890728</td>\n",
       "      <td>0</td>\n",
       "      <td>0.0</td>\n",
       "      <td>float64</td>\n",
       "      <td>0.000000</td>\n",
       "    </tr>\n",
       "    <tr>\n",
       "      <th>21</th>\n",
       "      <td>21</td>\n",
       "      <td>1890728</td>\n",
       "      <td>0</td>\n",
       "      <td>0.0</td>\n",
       "      <td>float64</td>\n",
       "      <td>0.000000</td>\n",
       "    </tr>\n",
       "    <tr>\n",
       "      <th>22</th>\n",
       "      <td>22</td>\n",
       "      <td>1890728</td>\n",
       "      <td>0</td>\n",
       "      <td>0.0</td>\n",
       "      <td>float64</td>\n",
       "      <td>1.000000</td>\n",
       "    </tr>\n",
       "    <tr>\n",
       "      <th>23</th>\n",
       "      <td>23</td>\n",
       "      <td>1890728</td>\n",
       "      <td>0</td>\n",
       "      <td>0.0</td>\n",
       "      <td>float64</td>\n",
       "      <td>0.000000</td>\n",
       "    </tr>\n",
       "  </tbody>\n",
       "</table>\n",
       "</div>"
      ],
      "text/plain": [
       "    Column  Non-Null Count  NaN Count  NaN Percentage    Dtype  Example Value\n",
       "0        0         1890728          0             0.0  float64       0.000000\n",
       "1        1         1890728          0             0.0  float64      -0.594006\n",
       "2        2         1890728          0             0.0  float64       0.278521\n",
       "3        3         1890728          0             0.0  float64      -0.333663\n",
       "4        4         1890728          0             0.0  float64       0.352111\n",
       "5        5         1890728          0             0.0  float64       0.925126\n",
       "6        6         1890728          0             0.0  float64      -0.207481\n",
       "7        7         1890728          0             0.0  float64      -0.253338\n",
       "8        8         1890728          0             0.0  float64      -0.470705\n",
       "9        9         1890728          0             0.0  float64      -1.596613\n",
       "10      10         1890728          0             0.0  float64      -0.500000\n",
       "11      11         1890728          0             0.0  float64       0.433884\n",
       "12      12         1890728          0             0.0  float64      -0.900969\n",
       "13      13         1890728          0             0.0  float64      -0.500000\n",
       "14      14         1890728          0             0.0  float64      -0.866025\n",
       "15      15         1890728          0             0.0  float64       0.000000\n",
       "16      16         1890728          0             0.0  float64       0.000000\n",
       "17      17         1890728          0             0.0  float64       0.000000\n",
       "18      18         1890728          0             0.0  float64       0.000000\n",
       "19      19         1890728          0             0.0  float64       1.000000\n",
       "20      20         1890728          0             0.0  float64       0.000000\n",
       "21      21         1890728          0             0.0  float64       0.000000\n",
       "22      22         1890728          0             0.0  float64       1.000000\n",
       "23      23         1890728          0             0.0  float64       0.000000"
      ]
     },
     "execution_count": 4,
     "metadata": {},
     "output_type": "execute_result"
    }
   ],
   "source": [
    "dataframe_info(pd.DataFrame(X_train))"
   ]
  },
  {
   "cell_type": "code",
   "execution_count": 5,
   "id": "0e111b73-6cb3-4310-88ac-101ff16220b9",
   "metadata": {},
   "outputs": [
    {
     "name": "stdout",
     "output_type": "stream",
     "text": [
      "r^2: 0.16339186525241034\n",
      "Root Mean Squared Error (RMSE): 140.1886675972663\n",
      "Mean Absolute Error (MAE): 101.43856528846408\n"
     ]
    }
   ],
   "source": [
    "# Entraînement modèle de Régression linéaire\n",
    "lr,r2_lr,rmse_lr,mae_lr = regression_lineaire(X_train, y_train, X_test, y_test)"
   ]
  },
  {
   "cell_type": "code",
   "execution_count": 6,
   "id": "f7eba1da-f3ac-49c6-8652-ae3581caa219",
   "metadata": {},
   "outputs": [
    {
     "name": "stdout",
     "output_type": "stream",
     "text": [
      "Ridge r^2: 0.16339185038426218\n",
      "Ridge Root Mean Squared Error (RMSE): 140.18866884297847\n",
      "Ridge Mean Absolute Error (MAE): 101.43856343659506\n"
     ]
    }
   ],
   "source": [
    "# Entraînement modèle Ridge\n",
    "ridge,r2_ridge,rmse_ridge,mae_ridge = ridge_model(X_train, y_train, X_test, y_test)"
   ]
  },
  {
   "cell_type": "code",
   "execution_count": 7,
   "id": "d874189d-2676-4e61-a83b-94be4a63bc42",
   "metadata": {},
   "outputs": [
    {
     "name": "stdout",
     "output_type": "stream",
     "text": [
      "Lasso r^2: 0.15595092553241696\n",
      "Lasso Root Mean Squared Error (RMSE): 140.8107188194601\n",
      "Lasso Mean Absolute Error (MAE): 101.76065437022264\n"
     ]
    }
   ],
   "source": [
    "# Entraînement modèle Lasso\n",
    "lasso,r2_lasso,rmse_lasso,mae_lasso = lasso_model(X_train, y_train, X_test, y_test)"
   ]
  },
  {
   "cell_type": "code",
   "execution_count": 8,
   "id": "1db26d7e-9125-4f16-b158-627624a2ecdf",
   "metadata": {},
   "outputs": [
    {
     "name": "stdout",
     "output_type": "stream",
     "text": [
      "r^2: 0.11936812613980696\n",
      "Root Mean Squared Error (RMSE): 143.82986297706728\n",
      "Mean Absolute Error (MAE): 104.20704609731379\n"
     ]
    }
   ],
   "source": [
    "# Entraînement modèle ElasticNet\n",
    "elastic_net,r2_en,rmse_en,mae_en = elasticnet_model(X_train, y_train, X_test, y_test)"
   ]
  },
  {
   "cell_type": "code",
   "execution_count": 9,
   "id": "272c4b55-65f8-4f86-ab3e-09beb0548101",
   "metadata": {},
   "outputs": [
    {
     "name": "stdout",
     "output_type": "stream",
     "text": [
      "r^2: 0.329063355922699\n",
      "Root Mean Squared Error (RMSE): 125.54303161587222\n",
      "Mean Absolute Error (MAE): 86.95122787852921\n"
     ]
    }
   ],
   "source": [
    "# Entraînement modèle XGB Regressor\n",
    "xgb,r2_xgb,rmse_xgb,mae_xgb = xgb_model(X_train, y_train, X_test, y_test)"
   ]
  },
  {
   "cell_type": "code",
   "execution_count": null,
   "id": "4b45a177-0b4c-4929-9166-6d04de6d360e",
   "metadata": {},
   "outputs": [],
   "source": [
    "# Entraînement modèle Gridsearch XGB\n",
    "best_xgb, best_params, r2_bestxgb, rmse_bestxgb, mae_bestxgb = xgb_model(X_train, y_train, X_test, y_test)"
   ]
  },
  {
   "cell_type": "markdown",
   "id": "2174b459-6e7f-4e87-ba8a-c8ef53781ca4",
   "metadata": {
    "jp-MarkdownHeadingCollapsed": true
   },
   "source": [
    "## Classification"
   ]
  },
  {
   "cell_type": "code",
   "execution_count": 11,
   "id": "4f1edf46-d454-4575-b33a-0abbc670979d",
   "metadata": {},
   "outputs": [],
   "source": [
    "X_train, y_train, X_test, y_test = prepross_class()"
   ]
  },
  {
   "cell_type": "code",
   "execution_count": 16,
   "id": "055a28ce-0c83-4919-afdc-68891bddd76a",
   "metadata": {},
   "outputs": [
    {
     "data": {
      "text/html": [
       "<div>\n",
       "<style scoped>\n",
       "    .dataframe tbody tr th:only-of-type {\n",
       "        vertical-align: middle;\n",
       "    }\n",
       "\n",
       "    .dataframe tbody tr th {\n",
       "        vertical-align: top;\n",
       "    }\n",
       "\n",
       "    .dataframe thead th {\n",
       "        text-align: right;\n",
       "    }\n",
       "</style>\n",
       "<table border=\"1\" class=\"dataframe\">\n",
       "  <thead>\n",
       "    <tr style=\"text-align: right;\">\n",
       "      <th></th>\n",
       "      <th>Column</th>\n",
       "      <th>Non-Null Count</th>\n",
       "      <th>NaN Count</th>\n",
       "      <th>NaN Percentage</th>\n",
       "      <th>Dtype</th>\n",
       "      <th>Example Value</th>\n",
       "    </tr>\n",
       "  </thead>\n",
       "  <tbody>\n",
       "    <tr>\n",
       "      <th>0</th>\n",
       "      <td>DeployedFromLocation</td>\n",
       "      <td>200000</td>\n",
       "      <td>0</td>\n",
       "      <td>0.0</td>\n",
       "      <td>int64</td>\n",
       "      <td>0</td>\n",
       "    </tr>\n",
       "    <tr>\n",
       "      <th>1</th>\n",
       "      <td>PumpOrder</td>\n",
       "      <td>200000</td>\n",
       "      <td>0</td>\n",
       "      <td>0.0</td>\n",
       "      <td>float64</td>\n",
       "      <td>-0.595599</td>\n",
       "    </tr>\n",
       "    <tr>\n",
       "      <th>2</th>\n",
       "      <td>Easting_rounded</td>\n",
       "      <td>200000</td>\n",
       "      <td>0</td>\n",
       "      <td>0.0</td>\n",
       "      <td>float64</td>\n",
       "      <td>-1.887522</td>\n",
       "    </tr>\n",
       "    <tr>\n",
       "      <th>3</th>\n",
       "      <td>Northing_rounded</td>\n",
       "      <td>200000</td>\n",
       "      <td>0</td>\n",
       "      <td>0.0</td>\n",
       "      <td>float64</td>\n",
       "      <td>1.175974</td>\n",
       "    </tr>\n",
       "    <tr>\n",
       "      <th>4</th>\n",
       "      <td>NumStationsWithPumpsAttending</td>\n",
       "      <td>200000</td>\n",
       "      <td>0</td>\n",
       "      <td>0.0</td>\n",
       "      <td>float64</td>\n",
       "      <td>0.349341</td>\n",
       "    </tr>\n",
       "    <tr>\n",
       "      <th>...</th>\n",
       "      <td>...</td>\n",
       "      <td>...</td>\n",
       "      <td>...</td>\n",
       "      <td>...</td>\n",
       "      <td>...</td>\n",
       "      <td>...</td>\n",
       "    </tr>\n",
       "    <tr>\n",
       "      <th>67</th>\n",
       "      <td>IncidentType_Spills and Leaks (not RTC)</td>\n",
       "      <td>200000</td>\n",
       "      <td>0</td>\n",
       "      <td>0.0</td>\n",
       "      <td>bool</td>\n",
       "      <td>False</td>\n",
       "    </tr>\n",
       "    <tr>\n",
       "      <th>68</th>\n",
       "      <td>IncidentType_Stand By</td>\n",
       "      <td>200000</td>\n",
       "      <td>0</td>\n",
       "      <td>0.0</td>\n",
       "      <td>bool</td>\n",
       "      <td>False</td>\n",
       "    </tr>\n",
       "    <tr>\n",
       "      <th>69</th>\n",
       "      <td>IncidentType_Suicide/attempts</td>\n",
       "      <td>200000</td>\n",
       "      <td>0</td>\n",
       "      <td>0.0</td>\n",
       "      <td>bool</td>\n",
       "      <td>False</td>\n",
       "    </tr>\n",
       "    <tr>\n",
       "      <th>70</th>\n",
       "      <td>IncidentType_Use of Special Operations Room</td>\n",
       "      <td>200000</td>\n",
       "      <td>0</td>\n",
       "      <td>0.0</td>\n",
       "      <td>bool</td>\n",
       "      <td>False</td>\n",
       "    </tr>\n",
       "    <tr>\n",
       "      <th>71</th>\n",
       "      <td>IncidentType_Water provision</td>\n",
       "      <td>200000</td>\n",
       "      <td>0</td>\n",
       "      <td>0.0</td>\n",
       "      <td>bool</td>\n",
       "      <td>False</td>\n",
       "    </tr>\n",
       "  </tbody>\n",
       "</table>\n",
       "<p>72 rows × 6 columns</p>\n",
       "</div>"
      ],
      "text/plain": [
       "                                         Column  Non-Null Count  NaN Count  \\\n",
       "0                          DeployedFromLocation          200000          0   \n",
       "1                                     PumpOrder          200000          0   \n",
       "2                               Easting_rounded          200000          0   \n",
       "3                              Northing_rounded          200000          0   \n",
       "4                 NumStationsWithPumpsAttending          200000          0   \n",
       "..                                          ...             ...        ...   \n",
       "67      IncidentType_Spills and Leaks (not RTC)          200000          0   \n",
       "68                        IncidentType_Stand By          200000          0   \n",
       "69                IncidentType_Suicide/attempts          200000          0   \n",
       "70  IncidentType_Use of Special Operations Room          200000          0   \n",
       "71                 IncidentType_Water provision          200000          0   \n",
       "\n",
       "    NaN Percentage    Dtype Example Value  \n",
       "0              0.0    int64             0  \n",
       "1              0.0  float64     -0.595599  \n",
       "2              0.0  float64     -1.887522  \n",
       "3              0.0  float64      1.175974  \n",
       "4              0.0  float64      0.349341  \n",
       "..             ...      ...           ...  \n",
       "67             0.0     bool         False  \n",
       "68             0.0     bool         False  \n",
       "69             0.0     bool         False  \n",
       "70             0.0     bool         False  \n",
       "71             0.0     bool         False  \n",
       "\n",
       "[72 rows x 6 columns]"
      ]
     },
     "execution_count": 16,
     "metadata": {},
     "output_type": "execute_result"
    }
   ],
   "source": [
    "dataframe_info(pd.DataFrame(X_train))"
   ]
  },
  {
   "cell_type": "code",
   "execution_count": 12,
   "id": "383ad917-5b3f-4936-abf3-6d8b079e6bb0",
   "metadata": {},
   "outputs": [
    {
     "name": "stdout",
     "output_type": "stream",
     "text": [
      "Accuracy: 0.33918080404837914\n",
      "              precision    recall  f1-score   support\n",
      "\n",
      "           0       0.35      0.51      0.42    119701\n",
      "           1       0.28      0.30      0.29    117113\n",
      "           2       0.30      0.24      0.27    118583\n",
      "           3       0.48      0.30      0.37    117286\n",
      "\n",
      "    accuracy                           0.34    472683\n",
      "   macro avg       0.35      0.34      0.33    472683\n",
      "weighted avg       0.35      0.34      0.33    472683\n",
      "\n",
      "\n",
      "Confusion Matrix:\n",
      "[[61066 33884 16607  8144]\n",
      " [48631 35648 21439 11395]\n",
      " [37905 33090 28617 18971]\n",
      " [26421 26134 29737 34994]]\n"
     ]
    }
   ],
   "source": [
    "# Entraînement modèle KNN\n",
    "knn, accuracy_knn, cl_rep_knn, cm_knn = knn_class(X_train, y_train, X_test, y_test)"
   ]
  },
  {
   "cell_type": "code",
   "execution_count": 13,
   "id": "c55e21fd-f64c-439e-9f56-5ea21feba126",
   "metadata": {},
   "outputs": [
    {
     "name": "stdout",
     "output_type": "stream",
     "text": [
      "Accuracy: 0.39032501697755156\n",
      "              precision    recall  f1-score   support\n",
      "\n",
      "           0       0.48      0.47      0.48    119701\n",
      "           1       0.32      0.33      0.33    117113\n",
      "           2       0.32      0.33      0.32    118583\n",
      "           3       0.43      0.43      0.43    117286\n",
      "\n",
      "    accuracy                           0.39    472683\n",
      "   macro avg       0.39      0.39      0.39    472683\n",
      "weighted avg       0.39      0.39      0.39    472683\n",
      "\n",
      "\n",
      "Confusion Matrix:\n",
      "[[56681 31029 18189 13802]\n",
      " [29485 38548 29382 19698]\n",
      " [17638 29949 38601 32395]\n",
      " [13115 20363 33138 50670]]\n"
     ]
    }
   ],
   "source": [
    "# Entraînement modèle DecisionTree\n",
    "dt, accuracy_dt, cl_rep_dt, cm_dt = decision_tree_class(X_train, y_train, X_test, y_test)"
   ]
  },
  {
   "cell_type": "code",
   "execution_count": 14,
   "id": "034241b9-fbb8-4616-a237-1a3a5dbb85ef",
   "metadata": {},
   "outputs": [
    {
     "name": "stdout",
     "output_type": "stream",
     "text": [
      "Accuracy: 0.41147238212501824\n",
      "              precision    recall  f1-score   support\n",
      "\n",
      "           0       0.43      0.60      0.50    119701\n",
      "           1       0.33      0.28      0.30    117113\n",
      "           2       0.34      0.25      0.29    118583\n",
      "           3       0.51      0.52      0.52    117286\n",
      "\n",
      "    accuracy                           0.41    472683\n",
      "   macro avg       0.40      0.41      0.40    472683\n",
      "weighted avg       0.40      0.41      0.40    472683\n",
      "\n",
      "\n",
      "Confusion Matrix:\n",
      "[[71400 26859 12965  8477]\n",
      " [46530 32593 22211 15779]\n",
      " [30336 25468 29868 32911]\n",
      " [18930 15345 22376 60635]]\n"
     ]
    }
   ],
   "source": [
    "# Entraînement modèle Random Forest\n",
    "rf, accuracy_rf, cl_rep_rf, cm_rf = random_forest_class(X_train, y_train, X_test, y_test)"
   ]
  },
  {
   "cell_type": "code",
   "execution_count": 15,
   "id": "23dab00f-779c-4f9d-81a4-cc0290447e1c",
   "metadata": {},
   "outputs": [
    {
     "name": "stdout",
     "output_type": "stream",
     "text": [
      "Accuracy: 0.41194204149504\n",
      "              precision    recall  f1-score   support\n",
      "\n",
      "           0       0.40      0.72      0.52    119701\n",
      "           1       0.33      0.17      0.22    117113\n",
      "           2       0.35      0.22      0.27    118583\n",
      "           3       0.51      0.54      0.52    117286\n",
      "\n",
      "    accuracy                           0.41    472683\n",
      "   macro avg       0.40      0.41      0.38    472683\n",
      "weighted avg       0.40      0.41      0.38    472683\n",
      "\n",
      "\n",
      "Confusion Matrix:\n",
      "[[86212 14063 10233  9193]\n",
      " [60778 19405 20341 16589]\n",
      " [41170 16315 26094 35004]\n",
      " [26171  9802 18306 63007]]\n"
     ]
    }
   ],
   "source": [
    "# Entraînement modèle XGBoost\n",
    "xgb_class, accuracy_xgb_class, cl_rep_xgb_class, cm_xgb_class = xgb_class(X_train, y_train, X_test, y_test)"
   ]
  },
  {
   "cell_type": "code",
   "execution_count": null,
   "id": "b7a66c41-5afe-4fcb-b968-791217a3daf1",
   "metadata": {},
   "outputs": [],
   "source": [
    "# Entraînement modèle RandomForest GridSearch\n",
    "rf, best_params_rf, accuracy_rf, cl_rep_rf, cm_rf  = random_forest_gridsearch(X_train, y_train, X_test, y_test)"
   ]
  },
  {
   "cell_type": "code",
   "execution_count": null,
   "id": "e4c7b5fd-ab92-405b-8a09-1034635cf7db",
   "metadata": {},
   "outputs": [],
   "source": [
    "# Entraînement modèle XGBoost GridSearch\n",
    "xgb_class_gs, best_params_xgb_class_gs, accuracy_xgb_class_gs, cl_rep_xgb_class_gs, cm_xgb_class_gs = xgb_class(X_train, y_train, X_test, y_test)"
   ]
  },
  {
   "cell_type": "markdown",
   "id": "1d303bac-6cb2-4273-991c-49b22d780f7f",
   "metadata": {
    "jp-MarkdownHeadingCollapsed": true
   },
   "source": [
    "## Deep Learning"
   ]
  },
  {
   "cell_type": "code",
   "execution_count": 18,
   "id": "e18ade72-b62e-45e7-81a4-adc2a7eaabcf",
   "metadata": {},
   "outputs": [],
   "source": [
    "X_train, y_train, X_test, y_test = prepross_class()"
   ]
  },
  {
   "cell_type": "code",
   "execution_count": 19,
   "id": "53bf813e-d01b-4558-ab80-4b3854847549",
   "metadata": {},
   "outputs": [
    {
     "data": {
      "text/html": [
       "<pre style=\"white-space:pre;overflow-x:auto;line-height:normal;font-family:Menlo,'DejaVu Sans Mono',consolas,'Courier New',monospace\"><span style=\"font-weight: bold\">Model: \"functional\"</span>\n",
       "</pre>\n"
      ],
      "text/plain": [
       "\u001b[1mModel: \"functional\"\u001b[0m\n"
      ]
     },
     "metadata": {},
     "output_type": "display_data"
    },
    {
     "data": {
      "text/html": [
       "<pre style=\"white-space:pre;overflow-x:auto;line-height:normal;font-family:Menlo,'DejaVu Sans Mono',consolas,'Courier New',monospace\">┏━━━━━━━━━━━━━━━━━━━━━━━━━━━━━━━━━┳━━━━━━━━━━━━━━━━━━━━━━━━┳━━━━━━━━━━━━━━━┓\n",
       "┃<span style=\"font-weight: bold\"> Layer (type)                    </span>┃<span style=\"font-weight: bold\"> Output Shape           </span>┃<span style=\"font-weight: bold\">       Param # </span>┃\n",
       "┡━━━━━━━━━━━━━━━━━━━━━━━━━━━━━━━━━╇━━━━━━━━━━━━━━━━━━━━━━━━╇━━━━━━━━━━━━━━━┩\n",
       "│ Input (<span style=\"color: #0087ff; text-decoration-color: #0087ff\">InputLayer</span>)              │ (<span style=\"color: #00d7ff; text-decoration-color: #00d7ff\">None</span>, <span style=\"color: #00af00; text-decoration-color: #00af00\">72</span>)             │             <span style=\"color: #00af00; text-decoration-color: #00af00\">0</span> │\n",
       "├─────────────────────────────────┼────────────────────────┼───────────────┤\n",
       "│ dense_1 (<span style=\"color: #0087ff; text-decoration-color: #0087ff\">Dense</span>)                 │ (<span style=\"color: #00d7ff; text-decoration-color: #00d7ff\">None</span>, <span style=\"color: #00af00; text-decoration-color: #00af00\">32</span>)             │         <span style=\"color: #00af00; text-decoration-color: #00af00\">2,336</span> │\n",
       "├─────────────────────────────────┼────────────────────────┼───────────────┤\n",
       "│ dense_2 (<span style=\"color: #0087ff; text-decoration-color: #0087ff\">Dense</span>)                 │ (<span style=\"color: #00d7ff; text-decoration-color: #00d7ff\">None</span>, <span style=\"color: #00af00; text-decoration-color: #00af00\">16</span>)             │           <span style=\"color: #00af00; text-decoration-color: #00af00\">528</span> │\n",
       "├─────────────────────────────────┼────────────────────────┼───────────────┤\n",
       "│ dense_3 (<span style=\"color: #0087ff; text-decoration-color: #0087ff\">Dense</span>)                 │ (<span style=\"color: #00d7ff; text-decoration-color: #00d7ff\">None</span>, <span style=\"color: #00af00; text-decoration-color: #00af00\">8</span>)              │           <span style=\"color: #00af00; text-decoration-color: #00af00\">136</span> │\n",
       "├─────────────────────────────────┼────────────────────────┼───────────────┤\n",
       "│ dense_4 (<span style=\"color: #0087ff; text-decoration-color: #0087ff\">Dense</span>)                 │ (<span style=\"color: #00d7ff; text-decoration-color: #00d7ff\">None</span>, <span style=\"color: #00af00; text-decoration-color: #00af00\">4</span>)              │            <span style=\"color: #00af00; text-decoration-color: #00af00\">36</span> │\n",
       "└─────────────────────────────────┴────────────────────────┴───────────────┘\n",
       "</pre>\n"
      ],
      "text/plain": [
       "┏━━━━━━━━━━━━━━━━━━━━━━━━━━━━━━━━━┳━━━━━━━━━━━━━━━━━━━━━━━━┳━━━━━━━━━━━━━━━┓\n",
       "┃\u001b[1m \u001b[0m\u001b[1mLayer (type)                   \u001b[0m\u001b[1m \u001b[0m┃\u001b[1m \u001b[0m\u001b[1mOutput Shape          \u001b[0m\u001b[1m \u001b[0m┃\u001b[1m \u001b[0m\u001b[1m      Param #\u001b[0m\u001b[1m \u001b[0m┃\n",
       "┡━━━━━━━━━━━━━━━━━━━━━━━━━━━━━━━━━╇━━━━━━━━━━━━━━━━━━━━━━━━╇━━━━━━━━━━━━━━━┩\n",
       "│ Input (\u001b[38;5;33mInputLayer\u001b[0m)              │ (\u001b[38;5;45mNone\u001b[0m, \u001b[38;5;34m72\u001b[0m)             │             \u001b[38;5;34m0\u001b[0m │\n",
       "├─────────────────────────────────┼────────────────────────┼───────────────┤\n",
       "│ dense_1 (\u001b[38;5;33mDense\u001b[0m)                 │ (\u001b[38;5;45mNone\u001b[0m, \u001b[38;5;34m32\u001b[0m)             │         \u001b[38;5;34m2,336\u001b[0m │\n",
       "├─────────────────────────────────┼────────────────────────┼───────────────┤\n",
       "│ dense_2 (\u001b[38;5;33mDense\u001b[0m)                 │ (\u001b[38;5;45mNone\u001b[0m, \u001b[38;5;34m16\u001b[0m)             │           \u001b[38;5;34m528\u001b[0m │\n",
       "├─────────────────────────────────┼────────────────────────┼───────────────┤\n",
       "│ dense_3 (\u001b[38;5;33mDense\u001b[0m)                 │ (\u001b[38;5;45mNone\u001b[0m, \u001b[38;5;34m8\u001b[0m)              │           \u001b[38;5;34m136\u001b[0m │\n",
       "├─────────────────────────────────┼────────────────────────┼───────────────┤\n",
       "│ dense_4 (\u001b[38;5;33mDense\u001b[0m)                 │ (\u001b[38;5;45mNone\u001b[0m, \u001b[38;5;34m4\u001b[0m)              │            \u001b[38;5;34m36\u001b[0m │\n",
       "└─────────────────────────────────┴────────────────────────┴───────────────┘\n"
      ]
     },
     "metadata": {},
     "output_type": "display_data"
    },
    {
     "data": {
      "text/html": [
       "<pre style=\"white-space:pre;overflow-x:auto;line-height:normal;font-family:Menlo,'DejaVu Sans Mono',consolas,'Courier New',monospace\"><span style=\"font-weight: bold\"> Total params: </span><span style=\"color: #00af00; text-decoration-color: #00af00\">3,036</span> (11.86 KB)\n",
       "</pre>\n"
      ],
      "text/plain": [
       "\u001b[1m Total params: \u001b[0m\u001b[38;5;34m3,036\u001b[0m (11.86 KB)\n"
      ]
     },
     "metadata": {},
     "output_type": "display_data"
    },
    {
     "data": {
      "text/html": [
       "<pre style=\"white-space:pre;overflow-x:auto;line-height:normal;font-family:Menlo,'DejaVu Sans Mono',consolas,'Courier New',monospace\"><span style=\"font-weight: bold\"> Trainable params: </span><span style=\"color: #00af00; text-decoration-color: #00af00\">3,036</span> (11.86 KB)\n",
       "</pre>\n"
      ],
      "text/plain": [
       "\u001b[1m Trainable params: \u001b[0m\u001b[38;5;34m3,036\u001b[0m (11.86 KB)\n"
      ]
     },
     "metadata": {},
     "output_type": "display_data"
    },
    {
     "data": {
      "text/html": [
       "<pre style=\"white-space:pre;overflow-x:auto;line-height:normal;font-family:Menlo,'DejaVu Sans Mono',consolas,'Courier New',monospace\"><span style=\"font-weight: bold\"> Non-trainable params: </span><span style=\"color: #00af00; text-decoration-color: #00af00\">0</span> (0.00 B)\n",
       "</pre>\n"
      ],
      "text/plain": [
       "\u001b[1m Non-trainable params: \u001b[0m\u001b[38;5;34m0\u001b[0m (0.00 B)\n"
      ]
     },
     "metadata": {},
     "output_type": "display_data"
    },
    {
     "name": "stdout",
     "output_type": "stream",
     "text": [
      "Epoch 1/100\n",
      "\u001b[1m6250/6250\u001b[0m \u001b[32m━━━━━━━━━━━━━━━━━━━━\u001b[0m\u001b[37m\u001b[0m \u001b[1m14s\u001b[0m 2ms/step - accuracy: 0.3687 - loss: 1.2903 - val_accuracy: 0.3994 - val_loss: 1.2456\n",
      "Epoch 2/100\n",
      "\u001b[1m6250/6250\u001b[0m \u001b[32m━━━━━━━━━━━━━━━━━━━━\u001b[0m\u001b[37m\u001b[0m \u001b[1m13s\u001b[0m 2ms/step - accuracy: 0.3957 - loss: 1.2459 - val_accuracy: 0.3993 - val_loss: 1.2402\n",
      "Epoch 3/100\n",
      "\u001b[1m6250/6250\u001b[0m \u001b[32m━━━━━━━━━━━━━━━━━━━━\u001b[0m\u001b[37m\u001b[0m \u001b[1m12s\u001b[0m 2ms/step - accuracy: 0.4012 - loss: 1.2374 - val_accuracy: 0.4053 - val_loss: 1.2340\n",
      "Epoch 4/100\n",
      "\u001b[1m6250/6250\u001b[0m \u001b[32m━━━━━━━━━━━━━━━━━━━━\u001b[0m\u001b[37m\u001b[0m \u001b[1m13s\u001b[0m 2ms/step - accuracy: 0.4041 - loss: 1.2329 - val_accuracy: 0.4066 - val_loss: 1.2308\n",
      "Epoch 5/100\n",
      "\u001b[1m6250/6250\u001b[0m \u001b[32m━━━━━━━━━━━━━━━━━━━━\u001b[0m\u001b[37m\u001b[0m \u001b[1m13s\u001b[0m 2ms/step - accuracy: 0.4076 - loss: 1.2279 - val_accuracy: 0.4073 - val_loss: 1.2298\n",
      "Epoch 6/100\n",
      "\u001b[1m6250/6250\u001b[0m \u001b[32m━━━━━━━━━━━━━━━━━━━━\u001b[0m\u001b[37m\u001b[0m \u001b[1m13s\u001b[0m 2ms/step - accuracy: 0.4101 - loss: 1.2248 - val_accuracy: 0.4075 - val_loss: 1.2284\n",
      "Epoch 7/100\n",
      "\u001b[1m6250/6250\u001b[0m \u001b[32m━━━━━━━━━━━━━━━━━━━━\u001b[0m\u001b[37m\u001b[0m \u001b[1m13s\u001b[0m 2ms/step - accuracy: 0.4091 - loss: 1.2252 - val_accuracy: 0.4072 - val_loss: 1.2282\n",
      "Epoch 8/100\n",
      "\u001b[1m6250/6250\u001b[0m \u001b[32m━━━━━━━━━━━━━━━━━━━━\u001b[0m\u001b[37m\u001b[0m \u001b[1m14s\u001b[0m 2ms/step - accuracy: 0.4091 - loss: 1.2238 - val_accuracy: 0.4055 - val_loss: 1.2334\n",
      "Epoch 9/100\n",
      "\u001b[1m6250/6250\u001b[0m \u001b[32m━━━━━━━━━━━━━━━━━━━━\u001b[0m\u001b[37m\u001b[0m \u001b[1m13s\u001b[0m 2ms/step - accuracy: 0.4123 - loss: 1.2194 - val_accuracy: 0.4107 - val_loss: 1.2252\n",
      "Epoch 10/100\n",
      "\u001b[1m6250/6250\u001b[0m \u001b[32m━━━━━━━━━━━━━━━━━━━━\u001b[0m\u001b[37m\u001b[0m \u001b[1m13s\u001b[0m 2ms/step - accuracy: 0.4124 - loss: 1.2194 - val_accuracy: 0.4088 - val_loss: 1.2256\n",
      "Epoch 11/100\n",
      "\u001b[1m6250/6250\u001b[0m \u001b[32m━━━━━━━━━━━━━━━━━━━━\u001b[0m\u001b[37m\u001b[0m \u001b[1m13s\u001b[0m 2ms/step - accuracy: 0.4154 - loss: 1.2156 - val_accuracy: 0.4102 - val_loss: 1.2267\n",
      "Epoch 12/100\n",
      "\u001b[1m6250/6250\u001b[0m \u001b[32m━━━━━━━━━━━━━━━━━━━━\u001b[0m\u001b[37m\u001b[0m \u001b[1m13s\u001b[0m 2ms/step - accuracy: 0.4107 - loss: 1.2191 - val_accuracy: 0.4102 - val_loss: 1.2250\n",
      "Epoch 13/100\n",
      "\u001b[1m6250/6250\u001b[0m \u001b[32m━━━━━━━━━━━━━━━━━━━━\u001b[0m\u001b[37m\u001b[0m \u001b[1m13s\u001b[0m 2ms/step - accuracy: 0.4120 - loss: 1.2191 - val_accuracy: 0.4108 - val_loss: 1.2246\n",
      "Epoch 14/100\n",
      "\u001b[1m6250/6250\u001b[0m \u001b[32m━━━━━━━━━━━━━━━━━━━━\u001b[0m\u001b[37m\u001b[0m \u001b[1m14s\u001b[0m 2ms/step - accuracy: 0.4138 - loss: 1.2182 - val_accuracy: 0.4102 - val_loss: 1.2251\n",
      "Epoch 15/100\n",
      "\u001b[1m6250/6250\u001b[0m \u001b[32m━━━━━━━━━━━━━━━━━━━━\u001b[0m\u001b[37m\u001b[0m \u001b[1m14s\u001b[0m 2ms/step - accuracy: 0.4163 - loss: 1.2155 - val_accuracy: 0.4105 - val_loss: 1.2273\n",
      "Epoch 16/100\n",
      "\u001b[1m6250/6250\u001b[0m \u001b[32m━━━━━━━━━━━━━━━━━━━━\u001b[0m\u001b[37m\u001b[0m \u001b[1m15s\u001b[0m 2ms/step - accuracy: 0.4144 - loss: 1.2167 - val_accuracy: 0.4097 - val_loss: 1.2292\n",
      "Epoch 17/100\n",
      "\u001b[1m6250/6250\u001b[0m \u001b[32m━━━━━━━━━━━━━━━━━━━━\u001b[0m\u001b[37m\u001b[0m \u001b[1m13s\u001b[0m 2ms/step - accuracy: 0.4166 - loss: 1.2161 - val_accuracy: 0.4115 - val_loss: 1.2244\n",
      "Epoch 18/100\n",
      "\u001b[1m6250/6250\u001b[0m \u001b[32m━━━━━━━━━━━━━━━━━━━━\u001b[0m\u001b[37m\u001b[0m \u001b[1m15s\u001b[0m 2ms/step - accuracy: 0.4171 - loss: 1.2151 - val_accuracy: 0.4108 - val_loss: 1.2251\n",
      "Epoch 19/100\n",
      "\u001b[1m6250/6250\u001b[0m \u001b[32m━━━━━━━━━━━━━━━━━━━━\u001b[0m\u001b[37m\u001b[0m \u001b[1m14s\u001b[0m 2ms/step - accuracy: 0.4167 - loss: 1.2154 - val_accuracy: 0.4071 - val_loss: 1.2260\n",
      "Epoch 20/100\n",
      "\u001b[1m6250/6250\u001b[0m \u001b[32m━━━━━━━━━━━━━━━━━━━━\u001b[0m\u001b[37m\u001b[0m \u001b[1m14s\u001b[0m 2ms/step - accuracy: 0.4139 - loss: 1.2164 - val_accuracy: 0.4103 - val_loss: 1.2281\n",
      "Epoch 21/100\n",
      "\u001b[1m6250/6250\u001b[0m \u001b[32m━━━━━━━━━━━━━━━━━━━━\u001b[0m\u001b[37m\u001b[0m \u001b[1m13s\u001b[0m 2ms/step - accuracy: 0.4156 - loss: 1.2162 - val_accuracy: 0.4084 - val_loss: 1.2258\n",
      "Epoch 22/100\n",
      "\u001b[1m6250/6250\u001b[0m \u001b[32m━━━━━━━━━━━━━━━━━━━━\u001b[0m\u001b[37m\u001b[0m \u001b[1m13s\u001b[0m 2ms/step - accuracy: 0.4163 - loss: 1.2149 - val_accuracy: 0.4090 - val_loss: 1.2279\n",
      "Epoch 23/100\n",
      "\u001b[1m6250/6250\u001b[0m \u001b[32m━━━━━━━━━━━━━━━━━━━━\u001b[0m\u001b[37m\u001b[0m \u001b[1m14s\u001b[0m 2ms/step - accuracy: 0.4160 - loss: 1.2145 - val_accuracy: 0.4121 - val_loss: 1.2237\n",
      "Epoch 24/100\n",
      "\u001b[1m6250/6250\u001b[0m \u001b[32m━━━━━━━━━━━━━━━━━━━━\u001b[0m\u001b[37m\u001b[0m \u001b[1m13s\u001b[0m 2ms/step - accuracy: 0.4175 - loss: 1.2128 - val_accuracy: 0.4115 - val_loss: 1.2240\n",
      "Epoch 25/100\n",
      "\u001b[1m6250/6250\u001b[0m \u001b[32m━━━━━━━━━━━━━━━━━━━━\u001b[0m\u001b[37m\u001b[0m \u001b[1m13s\u001b[0m 2ms/step - accuracy: 0.4167 - loss: 1.2140 - val_accuracy: 0.4103 - val_loss: 1.2249\n",
      "Epoch 26/100\n",
      "\u001b[1m6250/6250\u001b[0m \u001b[32m━━━━━━━━━━━━━━━━━━━━\u001b[0m\u001b[37m\u001b[0m \u001b[1m14s\u001b[0m 2ms/step - accuracy: 0.4172 - loss: 1.2133 - val_accuracy: 0.4116 - val_loss: 1.2253\n",
      "Epoch 27/100\n",
      "\u001b[1m6250/6250\u001b[0m \u001b[32m━━━━━━━━━━━━━━━━━━━━\u001b[0m\u001b[37m\u001b[0m \u001b[1m14s\u001b[0m 2ms/step - accuracy: 0.4151 - loss: 1.2136 - val_accuracy: 0.4124 - val_loss: 1.2245\n",
      "Epoch 28/100\n",
      "\u001b[1m6250/6250\u001b[0m \u001b[32m━━━━━━━━━━━━━━━━━━━━\u001b[0m\u001b[37m\u001b[0m \u001b[1m15s\u001b[0m 2ms/step - accuracy: 0.4160 - loss: 1.2146 - val_accuracy: 0.4105 - val_loss: 1.2255\n",
      "Epoch 29/100\n",
      "\u001b[1m6250/6250\u001b[0m \u001b[32m━━━━━━━━━━━━━━━━━━━━\u001b[0m\u001b[37m\u001b[0m \u001b[1m14s\u001b[0m 2ms/step - accuracy: 0.4181 - loss: 1.2120 - val_accuracy: 0.4104 - val_loss: 1.2259\n",
      "Epoch 30/100\n",
      "\u001b[1m6250/6250\u001b[0m \u001b[32m━━━━━━━━━━━━━━━━━━━━\u001b[0m\u001b[37m\u001b[0m \u001b[1m14s\u001b[0m 2ms/step - accuracy: 0.4179 - loss: 1.2125 - val_accuracy: 0.4083 - val_loss: 1.2264\n",
      "Epoch 31/100\n",
      "\u001b[1m6250/6250\u001b[0m \u001b[32m━━━━━━━━━━━━━━━━━━━━\u001b[0m\u001b[37m\u001b[0m \u001b[1m13s\u001b[0m 2ms/step - accuracy: 0.4192 - loss: 1.2115 - val_accuracy: 0.4106 - val_loss: 1.2262\n",
      "Epoch 32/100\n",
      "\u001b[1m6250/6250\u001b[0m \u001b[32m━━━━━━━━━━━━━━━━━━━━\u001b[0m\u001b[37m\u001b[0m \u001b[1m13s\u001b[0m 2ms/step - accuracy: 0.4188 - loss: 1.2101 - val_accuracy: 0.4107 - val_loss: 1.2252\n",
      "Epoch 33/100\n",
      "\u001b[1m6250/6250\u001b[0m \u001b[32m━━━━━━━━━━━━━━━━━━━━\u001b[0m\u001b[37m\u001b[0m \u001b[1m13s\u001b[0m 2ms/step - accuracy: 0.4210 - loss: 1.2100 - val_accuracy: 0.4109 - val_loss: 1.2251\n",
      "\u001b[1m14772/14772\u001b[0m \u001b[32m━━━━━━━━━━━━━━━━━━━━\u001b[0m\u001b[37m\u001b[0m \u001b[1m8s\u001b[0m 573us/step - accuracy: 0.4120 - loss: 1.2230\n",
      "Validation Loss: 1.2236932516098022\n",
      "Validation Accuracy: 0.4121091663837433\n",
      "\u001b[1m14772/14772\u001b[0m \u001b[32m━━━━━━━━━━━━━━━━━━━━\u001b[0m\u001b[37m\u001b[0m \u001b[1m8s\u001b[0m 545us/step\n",
      "[[81496 14897 11793 11515]\n",
      " [58021 19711 21964 17417]\n",
      " [38336 16023 30409 33815]\n",
      " [22934  8411 22760 63181]]\n",
      "              precision    recall  f1-score   support\n",
      "\n",
      "           0       0.68      0.41      0.51    200787\n",
      "           1       0.17      0.33      0.22     59042\n",
      "           2       0.26      0.35      0.30     86926\n",
      "           3       0.54      0.50      0.52    125928\n",
      "\n",
      "    accuracy                           0.41    472683\n",
      "   macro avg       0.41      0.40      0.39    472683\n",
      "weighted avg       0.50      0.41      0.44    472683\n",
      "\n"
     ]
    }
   ],
   "source": [
    "# Entraînement d'un modèle fully connected de deep learning\n",
    "dense1, dense1_history, dense1_loss, dense1_accuracy, dense1_cnf_matrix = deep_learning_dense(X_train, y_train, X_test, y_test)"
   ]
  },
  {
   "cell_type": "code",
   "execution_count": null,
   "id": "62a2d999-0948-48ae-961a-fa8531a91439",
   "metadata": {},
   "outputs": [],
   "source": [
    "# Entraînement d'un modèle dense amélioré avec des dropout et du batching normalization\n",
    "dense2, dense2_history, dense2_loss, dense2_accuracy, dense2_cnf_matrix = deep_learning_improved(X_train, y_train, X_test, y_test)"
   ]
  }
 ],
 "metadata": {
  "kernelspec": {
   "display_name": "Python 3 (ipykernel)",
   "language": "python",
   "name": "python3"
  },
  "language_info": {
   "codemirror_mode": {
    "name": "ipython",
    "version": 3
   },
   "file_extension": ".py",
   "mimetype": "text/x-python",
   "name": "python",
   "nbconvert_exporter": "python",
   "pygments_lexer": "ipython3",
   "version": "3.11.9"
  }
 },
 "nbformat": 4,
 "nbformat_minor": 5
}
