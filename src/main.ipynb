{
 "cells": [
  {
   "cell_type": "markdown",
   "id": "5954b5d6-22db-4b35-86a1-8c7fb8b62e80",
   "metadata": {},
   "source": [
    "## Introduction\n",
    "Avant de faire tourner le code suivant, il est nécessaire d'avoir fait tourner de manière indépendante les notebooks suivants :\n",
    "- 01_importation_fusion\n",
    "- 02_weather\n",
    "- 03_featuring\n",
    "\n",
    "Il est ensuite possible de :\n",
    "- Utiliser les notebooks \"exploration\" ou \"dataviz\" présent dans le dossier NOTEBOOKS pour l'exploration ou afficher les graphes utiliser dans le rapport\n",
    "- Utiliser les notebooks 04_regression, 05_classification ou 06_deep_learning pour réaliser l'entraînement des modèles agrémenté de graphiques et d'affichages de tableau pour le suivi du raisonnement.\n",
    "\n",
    "Il est également possible de :\n",
    "- Faire tourner les modèles à l'aide du main (ce notebook) en choissisant ainsi les modèles que l'on souhaite faire tourner.\n",
    "- Pour modifier le preprocessing => aller dans les fonctions dfinies dans le notebook \"preprocessing\"\n",
    "- Pour modifier les paramètres des modèles => aller dans les fonctions définies dans les notebooks \"regression\", \"classification\" ou \"deep_learning\""
   ]
  },
  {
   "cell_type": "markdown",
   "id": "c0880dab-0035-4ab1-a026-45277fad74df",
   "metadata": {},
   "source": [
    "## Importation des librairies"
   ]
  },
  {
   "cell_type": "code",
   "execution_count": 10,
   "id": "cd8b286e-0ec5-4f0a-ac93-f7150876110c",
   "metadata": {},
   "outputs": [],
   "source": [
    "import pandas as pd\n",
    "import numpy as np\n",
    "import matplotlib.pyplot as plt\n",
    "import seaborn as sns\n",
    "\n",
    "# Standardisation et évaluation\n",
    "from sklearn.preprocessing import MinMaxScaler, StandardScaler, LabelEncoder\n",
    "from sklearn.model_selection import train_test_split, cross_val_score\n",
    "\n",
    "# Réduction de dimension\n",
    "from sklearn.feature_selection import VarianceThreshold, SelectFromModel\n",
    "from sklearn.model_selection import train_test_split, KFold, GridSearchCV\n",
    "from sklearn.linear_model import LinearRegression, Lasso\n",
    "from sklearn.decomposition import PCA\n",
    "from sklearn.discriminant_analysis import LinearDiscriminantAnalysis as LDA\n",
    "\n",
    "# Undersampling\n",
    "from imblearn.under_sampling import RandomUnderSampler\n",
    "\n",
    "# Evaludation des modèles\n",
    "from sklearn.metrics import mean_absolute_error, root_mean_squared_error, r2_score # modèle régression\n",
    "from sklearn.metrics import accuracy_score, classification_report, confusion_matrix # modèle classification\n",
    "\n",
    "# Divers\n",
    "from utils import dataframe_info, racine_projet, save_model, load_model\n",
    "from preprocessing import prepross_reg, prepross_class\n",
    "from regression import regression_lineaire, ridge_model, lasso_model, elasticnet_model, xgb_model, xgb_gridsearch\n",
    "from classification import knn_class, decision_tree_class, random_forest_class, xgb_class, random_forest_gridsearch, xgb_class_gridsearch\n",
    "from deep_learning import deep_learning_dense, deep_learning_improved\n"
   ]
  },
  {
   "cell_type": "markdown",
   "id": "6579c497-e814-4c65-98d1-9816d86fdea2",
   "metadata": {},
   "source": [
    "## Régression"
   ]
  },
  {
   "cell_type": "code",
   "execution_count": 2,
   "id": "8cf650c3-8335-4870-aa8a-be9721c16cb0",
   "metadata": {},
   "outputs": [],
   "source": [
    "X_train, y_train, X_test, y_test = prepross_reg()"
   ]
  },
  {
   "cell_type": "code",
   "execution_count": 3,
   "id": "7378ee24-a1d0-4654-9e8f-dfdc989ec303",
   "metadata": {},
   "outputs": [],
   "source": [
    "#dataframe_info(pd.DataFrame(X_train))"
   ]
  },
  {
   "cell_type": "code",
   "execution_count": 4,
   "id": "0e111b73-6cb3-4310-88ac-101ff16220b9",
   "metadata": {},
   "outputs": [
    {
     "name": "stdout",
     "output_type": "stream",
     "text": [
      "r^2: 0.16339186525241034\n",
      "Root Mean Squared Error (RMSE): 140.1886675972663\n",
      "Mean Absolute Error (MAE): 101.43856528846408\n"
     ]
    }
   ],
   "source": [
    "# Entraînement modèle de Régression linéaire\n",
    "lr,r2_lr,rmse_lr,mae_lr = regression_lineaire(X_train, y_train, X_test, y_test)\n",
    "save_model(lr, 'lr_model')"
   ]
  },
  {
   "cell_type": "code",
   "execution_count": 5,
   "id": "f7eba1da-f3ac-49c6-8652-ae3581caa219",
   "metadata": {},
   "outputs": [
    {
     "name": "stdout",
     "output_type": "stream",
     "text": [
      "Ridge r^2: 0.16339185038426218\n",
      "Ridge Root Mean Squared Error (RMSE): 140.18866884297847\n",
      "Ridge Mean Absolute Error (MAE): 101.43856343659506\n"
     ]
    }
   ],
   "source": [
    "# Entraînement modèle Ridge\n",
    "ridge,r2_ridge,rmse_ridge,mae_ridge = ridge_model(X_train, y_train, X_test, y_test)\n",
    "save_model(ridge, 'ridge_model')"
   ]
  },
  {
   "cell_type": "code",
   "execution_count": 6,
   "id": "d874189d-2676-4e61-a83b-94be4a63bc42",
   "metadata": {},
   "outputs": [
    {
     "name": "stdout",
     "output_type": "stream",
     "text": [
      "Lasso r^2: 0.15595092553241696\n",
      "Lasso Root Mean Squared Error (RMSE): 140.8107188194601\n",
      "Lasso Mean Absolute Error (MAE): 101.76065437022264\n"
     ]
    }
   ],
   "source": [
    "# Entraînement modèle Lasso\n",
    "lasso,r2_lasso,rmse_lasso,mae_lasso = lasso_model(X_train, y_train, X_test, y_test)\n",
    "save_model(lasso, 'lasso_model')"
   ]
  },
  {
   "cell_type": "code",
   "execution_count": 7,
   "id": "1db26d7e-9125-4f16-b158-627624a2ecdf",
   "metadata": {},
   "outputs": [
    {
     "name": "stdout",
     "output_type": "stream",
     "text": [
      "r^2: 0.11936812613980696\n",
      "Root Mean Squared Error (RMSE): 143.82986297706728\n",
      "Mean Absolute Error (MAE): 104.20704609731379\n"
     ]
    }
   ],
   "source": [
    "# Entraînement modèle ElasticNet\n",
    "elastic_net,r2_en,rmse_en,mae_en = elasticnet_model(X_train, y_train, X_test, y_test)\n",
    "save_model(elastic_net, 'elasticnet_model')"
   ]
  },
  {
   "cell_type": "code",
   "execution_count": 12,
   "id": "272c4b55-65f8-4f86-ab3e-09beb0548101",
   "metadata": {},
   "outputs": [
    {
     "name": "stdout",
     "output_type": "stream",
     "text": [
      "r^2: 0.329063355922699\n",
      "Root Mean Squared Error (RMSE): 125.54303161587222\n",
      "Mean Absolute Error (MAE): 86.95122787852921\n"
     ]
    }
   ],
   "source": [
    "# Entraînement modèle XGB Regressor\n",
    "xgb,r2_xgb,rmse_xgb, mae_xgb = xgb_model(X_train, y_train, X_test, y_test)\n",
    "save_model(xgb, 'xgb_regressor_model')"
   ]
  },
  {
   "cell_type": "code",
   "execution_count": 14,
   "id": "4b45a177-0b4c-4929-9166-6d04de6d360e",
   "metadata": {},
   "outputs": [
    {
     "name": "stdout",
     "output_type": "stream",
     "text": [
      "Fitting 5 folds for each of 64 candidates, totalling 320 fits\n",
      "Best parameters found: {'colsample_bytree': 1.0, 'gamma': 0, 'learning_rate': 0.1, 'max_depth': 5, 'n_estimators': 100, 'subsample': 0.8}\n",
      "Best score: -17231.57588368211\n",
      "r^2: 0.2656537890434265\n",
      "Root Mean Squared Error (RMSE): 131.34159848536203\n",
      "Mean Absolute Error (MAE): 92.89037579193193\n"
     ]
    }
   ],
   "source": [
    "# Entraînement modèle Gridsearch XGB\n",
    "best_xgb, best_params, r2_bestxgb, rmse_bestxgb, mae_bestxgb = xgb_gridsearch(X_train, y_train, X_test, y_test)\n",
    "save_model(best_xgb, 'gridsearch_xgb_regressor_model')"
   ]
  },
  {
   "cell_type": "markdown",
   "id": "2174b459-6e7f-4e87-ba8a-c8ef53781ca4",
   "metadata": {},
   "source": [
    "## Classification"
   ]
  },
  {
   "cell_type": "code",
   "execution_count": 15,
   "id": "4f1edf46-d454-4575-b33a-0abbc670979d",
   "metadata": {},
   "outputs": [],
   "source": [
    "X_train, y_train, X_test, y_test = prepross_class()"
   ]
  },
  {
   "cell_type": "code",
   "execution_count": 16,
   "id": "055a28ce-0c83-4919-afdc-68891bddd76a",
   "metadata": {},
   "outputs": [],
   "source": [
    "#dataframe_info(pd.DataFrame(X_train))"
   ]
  },
  {
   "cell_type": "code",
   "execution_count": 17,
   "id": "383ad917-5b3f-4936-abf3-6d8b079e6bb0",
   "metadata": {},
   "outputs": [
    {
     "name": "stdout",
     "output_type": "stream",
     "text": [
      "Accuracy: 0.33918080404837914\n",
      "              precision    recall  f1-score   support\n",
      "\n",
      "           0       0.35      0.51      0.42    119701\n",
      "           1       0.28      0.30      0.29    117113\n",
      "           2       0.30      0.24      0.27    118583\n",
      "           3       0.48      0.30      0.37    117286\n",
      "\n",
      "    accuracy                           0.34    472683\n",
      "   macro avg       0.35      0.34      0.33    472683\n",
      "weighted avg       0.35      0.34      0.33    472683\n",
      "\n",
      "\n",
      "Confusion Matrix:\n",
      "[[61066 33884 16607  8144]\n",
      " [48631 35648 21439 11395]\n",
      " [37905 33090 28617 18971]\n",
      " [26421 26134 29737 34994]]\n"
     ]
    }
   ],
   "source": [
    "# Entraînement modèle KNN\n",
    "knn, accuracy_knn, cl_rep_knn, cm_knn = knn_class(X_train, y_train, X_test, y_test)\n",
    "save_model(knn, 'knn_model')"
   ]
  },
  {
   "cell_type": "code",
   "execution_count": 18,
   "id": "c55e21fd-f64c-439e-9f56-5ea21feba126",
   "metadata": {},
   "outputs": [
    {
     "name": "stdout",
     "output_type": "stream",
     "text": [
      "Accuracy: 0.39044348961143094\n",
      "              precision    recall  f1-score   support\n",
      "\n",
      "           0       0.49      0.47      0.48    119701\n",
      "           1       0.32      0.33      0.33    117113\n",
      "           2       0.32      0.33      0.33    118583\n",
      "           3       0.43      0.43      0.43    117286\n",
      "\n",
      "    accuracy                           0.39    472683\n",
      "   macro avg       0.39      0.39      0.39    472683\n",
      "weighted avg       0.39      0.39      0.39    472683\n",
      "\n",
      "\n",
      "Confusion Matrix:\n",
      "[[56635 30984 18258 13824]\n",
      " [29414 38617 29408 19674]\n",
      " [17588 29946 38716 32333]\n",
      " [13075 20434 33189 50588]]\n"
     ]
    }
   ],
   "source": [
    "# Entraînement modèle DecisionTree\n",
    "dt, accuracy_dt, cl_rep_dt, cm_dt = decision_tree_class(X_train, y_train, X_test, y_test)\n",
    "save_model(dt, 'decisiontree_model')"
   ]
  },
  {
   "cell_type": "code",
   "execution_count": 19,
   "id": "034241b9-fbb8-4616-a237-1a3a5dbb85ef",
   "metadata": {},
   "outputs": [
    {
     "name": "stdout",
     "output_type": "stream",
     "text": [
      "Accuracy: 0.41273326944273436\n",
      "              precision    recall  f1-score   support\n",
      "\n",
      "           0       0.43      0.60      0.50    119701\n",
      "           1       0.33      0.28      0.30    117113\n",
      "           2       0.34      0.25      0.29    118583\n",
      "           3       0.52      0.52      0.52    117286\n",
      "\n",
      "    accuracy                           0.41    472683\n",
      "   macro avg       0.40      0.41      0.40    472683\n",
      "weighted avg       0.40      0.41      0.40    472683\n",
      "\n",
      "\n",
      "Confusion Matrix:\n",
      "[[71236 27293 12799  8373]\n",
      " [46051 33111 22267 15684]\n",
      " [30382 25320 30164 32717]\n",
      " [18896 15476 22333 60581]]\n"
     ]
    }
   ],
   "source": [
    "# Entraînement modèle Random Forest\n",
    "rf, accuracy_rf, cl_rep_rf, cm_rf = random_forest_class(X_train, y_train, X_test, y_test)\n",
    "save_model(rf, 'randomforest_model')"
   ]
  },
  {
   "cell_type": "code",
   "execution_count": 20,
   "id": "23dab00f-779c-4f9d-81a4-cc0290447e1c",
   "metadata": {},
   "outputs": [
    {
     "name": "stdout",
     "output_type": "stream",
     "text": [
      "Accuracy: 0.41194204149504\n",
      "              precision    recall  f1-score   support\n",
      "\n",
      "           0       0.40      0.72      0.52    119701\n",
      "           1       0.33      0.17      0.22    117113\n",
      "           2       0.35      0.22      0.27    118583\n",
      "           3       0.51      0.54      0.52    117286\n",
      "\n",
      "    accuracy                           0.41    472683\n",
      "   macro avg       0.40      0.41      0.38    472683\n",
      "weighted avg       0.40      0.41      0.38    472683\n",
      "\n",
      "\n",
      "Confusion Matrix:\n",
      "[[86212 14063 10233  9193]\n",
      " [60778 19405 20341 16589]\n",
      " [41170 16315 26094 35004]\n",
      " [26171  9802 18306 63007]]\n"
     ]
    }
   ],
   "source": [
    "# Entraînement modèle XGBoost\n",
    "xgb_class, accuracy_xgb_class, cl_rep_xgb_class, cm_xgb_class = xgb_class(X_train, y_train, X_test, y_test)\n",
    "save_model(xgb_class, 'xgb_classifier_model')"
   ]
  },
  {
   "cell_type": "code",
   "execution_count": 21,
   "id": "b7a66c41-5afe-4fcb-b968-791217a3daf1",
   "metadata": {},
   "outputs": [
    {
     "name": "stdout",
     "output_type": "stream",
     "text": [
      "Fitting 5 folds for each of 72 candidates, totalling 360 fits\n",
      "Best parameters found:  {'bootstrap': False, 'max_depth': 30, 'min_samples_split': 10, 'n_estimators': 200}\n",
      "Accuracy: 0.4245551458376967\n",
      "              precision    recall  f1-score   support\n",
      "\n",
      "           0       0.44      0.64      0.52    119701\n",
      "           1       0.34      0.26      0.30    117113\n",
      "           2       0.35      0.25      0.30    118583\n",
      "           3       0.52      0.54      0.53    117286\n",
      "\n",
      "    accuracy                           0.42    472683\n",
      "   macro avg       0.41      0.42      0.41    472683\n",
      "weighted avg       0.41      0.42      0.41    472683\n",
      "\n",
      "\n",
      "Confusion Matrix:\n",
      "[[76333 23386 11481  8501]\n",
      " [48276 30838 22002 15997]\n",
      " [31127 23249 30084 34123]\n",
      " [18942 13665 21254 63425]]\n"
     ]
    }
   ],
   "source": [
    "# Entraînement modèle RandomForest GridSearch\n",
    "rfgs, best_params_rf, accuracy_rf, cl_rep_rf, cm_rf  = random_forest_gridsearch(X_train, y_train, X_test, y_test)\n",
    "save_model(rfgs, 'gridsearch_randomforest_model')"
   ]
  },
  {
   "cell_type": "code",
   "execution_count": 22,
   "id": "e4c7b5fd-ab92-405b-8a09-1034635cf7db",
   "metadata": {},
   "outputs": [
    {
     "name": "stdout",
     "output_type": "stream",
     "text": [
      "Fitting 5 folds for each of 432 candidates, totalling 2160 fits\n",
      "Meilleurs paramètres trouvés :  {'colsample_bytree': 1.0, 'gamma': 0.1, 'learning_rate': 0.2, 'max_depth': 6, 'n_estimators': 200, 'subsample': 0.8}\n",
      "Accuracy: 0.4841341871825304\n",
      "              precision    recall  f1-score   support\n",
      "\n",
      "           0       0.52      0.74      0.61    119701\n",
      "           1       0.40      0.33      0.36    117113\n",
      "           2       0.41      0.33      0.37    118583\n",
      "           3       0.56      0.54      0.55    117286\n",
      "\n",
      "    accuracy                           0.48    472683\n",
      "   macro avg       0.47      0.48      0.47    472683\n",
      "weighted avg       0.47      0.48      0.47    472683\n",
      "\n",
      "\n",
      "Confusion Matrix:\n",
      "[[88001 18700  7387  5613]\n",
      " [42303 38387 23934 12489]\n",
      " [21989 26677 39484 30433]\n",
      " [15403 13110 25803 62970]]\n"
     ]
    }
   ],
   "source": [
    "# Entraînement modèle XGBoost GridSearch\n",
    "xgb_class_gs, best_params_xgb_class_gs, accuracy_xgb_class_gs, cl_rep_xgb_class_gs, cm_xgb_class_gs = xgb_class_gridsearch(X_train, y_train, X_test, y_test)\n",
    "save_model(xgb_class_gs, 'gridsearch_xgb_classifier_model')"
   ]
  },
  {
   "cell_type": "markdown",
   "id": "1d303bac-6cb2-4273-991c-49b22d780f7f",
   "metadata": {},
   "source": [
    "## Deep Learning"
   ]
  },
  {
   "cell_type": "code",
   "execution_count": 23,
   "id": "e18ade72-b62e-45e7-81a4-adc2a7eaabcf",
   "metadata": {},
   "outputs": [],
   "source": [
    "X_train, y_train, X_test, y_test = prepross_class()"
   ]
  },
  {
   "cell_type": "code",
   "execution_count": 24,
   "id": "53bf813e-d01b-4558-ab80-4b3854847549",
   "metadata": {},
   "outputs": [
    {
     "data": {
      "text/html": [
       "<pre style=\"white-space:pre;overflow-x:auto;line-height:normal;font-family:Menlo,'DejaVu Sans Mono',consolas,'Courier New',monospace\"><span style=\"font-weight: bold\">Model: \"functional\"</span>\n",
       "</pre>\n"
      ],
      "text/plain": [
       "\u001b[1mModel: \"functional\"\u001b[0m\n"
      ]
     },
     "metadata": {},
     "output_type": "display_data"
    },
    {
     "data": {
      "text/html": [
       "<pre style=\"white-space:pre;overflow-x:auto;line-height:normal;font-family:Menlo,'DejaVu Sans Mono',consolas,'Courier New',monospace\">┏━━━━━━━━━━━━━━━━━━━━━━━━━━━━━━━━━┳━━━━━━━━━━━━━━━━━━━━━━━━┳━━━━━━━━━━━━━━━┓\n",
       "┃<span style=\"font-weight: bold\"> Layer (type)                    </span>┃<span style=\"font-weight: bold\"> Output Shape           </span>┃<span style=\"font-weight: bold\">       Param # </span>┃\n",
       "┡━━━━━━━━━━━━━━━━━━━━━━━━━━━━━━━━━╇━━━━━━━━━━━━━━━━━━━━━━━━╇━━━━━━━━━━━━━━━┩\n",
       "│ Input (<span style=\"color: #0087ff; text-decoration-color: #0087ff\">InputLayer</span>)              │ (<span style=\"color: #00d7ff; text-decoration-color: #00d7ff\">None</span>, <span style=\"color: #00af00; text-decoration-color: #00af00\">72</span>)             │             <span style=\"color: #00af00; text-decoration-color: #00af00\">0</span> │\n",
       "├─────────────────────────────────┼────────────────────────┼───────────────┤\n",
       "│ dense_1 (<span style=\"color: #0087ff; text-decoration-color: #0087ff\">Dense</span>)                 │ (<span style=\"color: #00d7ff; text-decoration-color: #00d7ff\">None</span>, <span style=\"color: #00af00; text-decoration-color: #00af00\">32</span>)             │         <span style=\"color: #00af00; text-decoration-color: #00af00\">2,336</span> │\n",
       "├─────────────────────────────────┼────────────────────────┼───────────────┤\n",
       "│ dense_2 (<span style=\"color: #0087ff; text-decoration-color: #0087ff\">Dense</span>)                 │ (<span style=\"color: #00d7ff; text-decoration-color: #00d7ff\">None</span>, <span style=\"color: #00af00; text-decoration-color: #00af00\">16</span>)             │           <span style=\"color: #00af00; text-decoration-color: #00af00\">528</span> │\n",
       "├─────────────────────────────────┼────────────────────────┼───────────────┤\n",
       "│ dense_3 (<span style=\"color: #0087ff; text-decoration-color: #0087ff\">Dense</span>)                 │ (<span style=\"color: #00d7ff; text-decoration-color: #00d7ff\">None</span>, <span style=\"color: #00af00; text-decoration-color: #00af00\">8</span>)              │           <span style=\"color: #00af00; text-decoration-color: #00af00\">136</span> │\n",
       "├─────────────────────────────────┼────────────────────────┼───────────────┤\n",
       "│ dense_4 (<span style=\"color: #0087ff; text-decoration-color: #0087ff\">Dense</span>)                 │ (<span style=\"color: #00d7ff; text-decoration-color: #00d7ff\">None</span>, <span style=\"color: #00af00; text-decoration-color: #00af00\">4</span>)              │            <span style=\"color: #00af00; text-decoration-color: #00af00\">36</span> │\n",
       "└─────────────────────────────────┴────────────────────────┴───────────────┘\n",
       "</pre>\n"
      ],
      "text/plain": [
       "┏━━━━━━━━━━━━━━━━━━━━━━━━━━━━━━━━━┳━━━━━━━━━━━━━━━━━━━━━━━━┳━━━━━━━━━━━━━━━┓\n",
       "┃\u001b[1m \u001b[0m\u001b[1mLayer (type)                   \u001b[0m\u001b[1m \u001b[0m┃\u001b[1m \u001b[0m\u001b[1mOutput Shape          \u001b[0m\u001b[1m \u001b[0m┃\u001b[1m \u001b[0m\u001b[1m      Param #\u001b[0m\u001b[1m \u001b[0m┃\n",
       "┡━━━━━━━━━━━━━━━━━━━━━━━━━━━━━━━━━╇━━━━━━━━━━━━━━━━━━━━━━━━╇━━━━━━━━━━━━━━━┩\n",
       "│ Input (\u001b[38;5;33mInputLayer\u001b[0m)              │ (\u001b[38;5;45mNone\u001b[0m, \u001b[38;5;34m72\u001b[0m)             │             \u001b[38;5;34m0\u001b[0m │\n",
       "├─────────────────────────────────┼────────────────────────┼───────────────┤\n",
       "│ dense_1 (\u001b[38;5;33mDense\u001b[0m)                 │ (\u001b[38;5;45mNone\u001b[0m, \u001b[38;5;34m32\u001b[0m)             │         \u001b[38;5;34m2,336\u001b[0m │\n",
       "├─────────────────────────────────┼────────────────────────┼───────────────┤\n",
       "│ dense_2 (\u001b[38;5;33mDense\u001b[0m)                 │ (\u001b[38;5;45mNone\u001b[0m, \u001b[38;5;34m16\u001b[0m)             │           \u001b[38;5;34m528\u001b[0m │\n",
       "├─────────────────────────────────┼────────────────────────┼───────────────┤\n",
       "│ dense_3 (\u001b[38;5;33mDense\u001b[0m)                 │ (\u001b[38;5;45mNone\u001b[0m, \u001b[38;5;34m8\u001b[0m)              │           \u001b[38;5;34m136\u001b[0m │\n",
       "├─────────────────────────────────┼────────────────────────┼───────────────┤\n",
       "│ dense_4 (\u001b[38;5;33mDense\u001b[0m)                 │ (\u001b[38;5;45mNone\u001b[0m, \u001b[38;5;34m4\u001b[0m)              │            \u001b[38;5;34m36\u001b[0m │\n",
       "└─────────────────────────────────┴────────────────────────┴───────────────┘\n"
      ]
     },
     "metadata": {},
     "output_type": "display_data"
    },
    {
     "data": {
      "text/html": [
       "<pre style=\"white-space:pre;overflow-x:auto;line-height:normal;font-family:Menlo,'DejaVu Sans Mono',consolas,'Courier New',monospace\"><span style=\"font-weight: bold\"> Total params: </span><span style=\"color: #00af00; text-decoration-color: #00af00\">3,036</span> (11.86 KB)\n",
       "</pre>\n"
      ],
      "text/plain": [
       "\u001b[1m Total params: \u001b[0m\u001b[38;5;34m3,036\u001b[0m (11.86 KB)\n"
      ]
     },
     "metadata": {},
     "output_type": "display_data"
    },
    {
     "data": {
      "text/html": [
       "<pre style=\"white-space:pre;overflow-x:auto;line-height:normal;font-family:Menlo,'DejaVu Sans Mono',consolas,'Courier New',monospace\"><span style=\"font-weight: bold\"> Trainable params: </span><span style=\"color: #00af00; text-decoration-color: #00af00\">3,036</span> (11.86 KB)\n",
       "</pre>\n"
      ],
      "text/plain": [
       "\u001b[1m Trainable params: \u001b[0m\u001b[38;5;34m3,036\u001b[0m (11.86 KB)\n"
      ]
     },
     "metadata": {},
     "output_type": "display_data"
    },
    {
     "data": {
      "text/html": [
       "<pre style=\"white-space:pre;overflow-x:auto;line-height:normal;font-family:Menlo,'DejaVu Sans Mono',consolas,'Courier New',monospace\"><span style=\"font-weight: bold\"> Non-trainable params: </span><span style=\"color: #00af00; text-decoration-color: #00af00\">0</span> (0.00 B)\n",
       "</pre>\n"
      ],
      "text/plain": [
       "\u001b[1m Non-trainable params: \u001b[0m\u001b[38;5;34m0\u001b[0m (0.00 B)\n"
      ]
     },
     "metadata": {},
     "output_type": "display_data"
    },
    {
     "name": "stdout",
     "output_type": "stream",
     "text": [
      "Epoch 1/100\n",
      "\u001b[1m6250/6250\u001b[0m \u001b[32m━━━━━━━━━━━━━━━━━━━━\u001b[0m\u001b[37m\u001b[0m \u001b[1m14s\u001b[0m 2ms/step - accuracy: 0.3693 - loss: 1.2891 - val_accuracy: 0.3970 - val_loss: 1.2479\n",
      "Epoch 2/100\n",
      "\u001b[1m6250/6250\u001b[0m \u001b[32m━━━━━━━━━━━━━━━━━━━━\u001b[0m\u001b[37m\u001b[0m \u001b[1m12s\u001b[0m 2ms/step - accuracy: 0.3996 - loss: 1.2445 - val_accuracy: 0.4040 - val_loss: 1.2356\n",
      "Epoch 3/100\n",
      "\u001b[1m6250/6250\u001b[0m \u001b[32m━━━━━━━━━━━━━━━━━━━━\u001b[0m\u001b[37m\u001b[0m \u001b[1m13s\u001b[0m 2ms/step - accuracy: 0.4039 - loss: 1.2370 - val_accuracy: 0.4058 - val_loss: 1.2337\n",
      "Epoch 4/100\n",
      "\u001b[1m6250/6250\u001b[0m \u001b[32m━━━━━━━━━━━━━━━━━━━━\u001b[0m\u001b[37m\u001b[0m \u001b[1m13s\u001b[0m 2ms/step - accuracy: 0.4040 - loss: 1.2314 - val_accuracy: 0.4063 - val_loss: 1.2303\n",
      "Epoch 5/100\n",
      "\u001b[1m6250/6250\u001b[0m \u001b[32m━━━━━━━━━━━━━━━━━━━━\u001b[0m\u001b[37m\u001b[0m \u001b[1m13s\u001b[0m 2ms/step - accuracy: 0.4066 - loss: 1.2280 - val_accuracy: 0.4050 - val_loss: 1.2322\n",
      "Epoch 6/100\n",
      "\u001b[1m6250/6250\u001b[0m \u001b[32m━━━━━━━━━━━━━━━━━━━━\u001b[0m\u001b[37m\u001b[0m \u001b[1m12s\u001b[0m 2ms/step - accuracy: 0.4065 - loss: 1.2269 - val_accuracy: 0.4080 - val_loss: 1.2287\n",
      "Epoch 7/100\n",
      "\u001b[1m6250/6250\u001b[0m \u001b[32m━━━━━━━━━━━━━━━━━━━━\u001b[0m\u001b[37m\u001b[0m \u001b[1m12s\u001b[0m 2ms/step - accuracy: 0.4082 - loss: 1.2264 - val_accuracy: 0.4085 - val_loss: 1.2265\n",
      "Epoch 8/100\n",
      "\u001b[1m6250/6250\u001b[0m \u001b[32m━━━━━━━━━━━━━━━━━━━━\u001b[0m\u001b[37m\u001b[0m \u001b[1m12s\u001b[0m 2ms/step - accuracy: 0.4093 - loss: 1.2236 - val_accuracy: 0.4085 - val_loss: 1.2279\n",
      "Epoch 9/100\n",
      "\u001b[1m6250/6250\u001b[0m \u001b[32m━━━━━━━━━━━━━━━━━━━━\u001b[0m\u001b[37m\u001b[0m \u001b[1m13s\u001b[0m 2ms/step - accuracy: 0.4099 - loss: 1.2232 - val_accuracy: 0.4084 - val_loss: 1.2272\n",
      "Epoch 10/100\n",
      "\u001b[1m6250/6250\u001b[0m \u001b[32m━━━━━━━━━━━━━━━━━━━━\u001b[0m\u001b[37m\u001b[0m \u001b[1m12s\u001b[0m 2ms/step - accuracy: 0.4110 - loss: 1.2240 - val_accuracy: 0.4092 - val_loss: 1.2259\n",
      "Epoch 11/100\n",
      "\u001b[1m6250/6250\u001b[0m \u001b[32m━━━━━━━━━━━━━━━━━━━━\u001b[0m\u001b[37m\u001b[0m \u001b[1m13s\u001b[0m 2ms/step - accuracy: 0.4103 - loss: 1.2203 - val_accuracy: 0.4097 - val_loss: 1.2253\n",
      "Epoch 12/100\n",
      "\u001b[1m6250/6250\u001b[0m \u001b[32m━━━━━━━━━━━━━━━━━━━━\u001b[0m\u001b[37m\u001b[0m \u001b[1m12s\u001b[0m 2ms/step - accuracy: 0.4130 - loss: 1.2197 - val_accuracy: 0.4103 - val_loss: 1.2245\n",
      "Epoch 13/100\n",
      "\u001b[1m6250/6250\u001b[0m \u001b[32m━━━━━━━━━━━━━━━━━━━━\u001b[0m\u001b[37m\u001b[0m \u001b[1m12s\u001b[0m 2ms/step - accuracy: 0.4147 - loss: 1.2189 - val_accuracy: 0.4109 - val_loss: 1.2238\n",
      "Epoch 14/100\n",
      "\u001b[1m6250/6250\u001b[0m \u001b[32m━━━━━━━━━━━━━━━━━━━━\u001b[0m\u001b[37m\u001b[0m \u001b[1m13s\u001b[0m 2ms/step - accuracy: 0.4150 - loss: 1.2163 - val_accuracy: 0.4114 - val_loss: 1.2236\n",
      "Epoch 15/100\n",
      "\u001b[1m6250/6250\u001b[0m \u001b[32m━━━━━━━━━━━━━━━━━━━━\u001b[0m\u001b[37m\u001b[0m \u001b[1m13s\u001b[0m 2ms/step - accuracy: 0.4147 - loss: 1.2173 - val_accuracy: 0.4103 - val_loss: 1.2242\n",
      "Epoch 16/100\n",
      "\u001b[1m6250/6250\u001b[0m \u001b[32m━━━━━━━━━━━━━━━━━━━━\u001b[0m\u001b[37m\u001b[0m \u001b[1m12s\u001b[0m 2ms/step - accuracy: 0.4156 - loss: 1.2143 - val_accuracy: 0.4100 - val_loss: 1.2249\n",
      "Epoch 17/100\n",
      "\u001b[1m6250/6250\u001b[0m \u001b[32m━━━━━━━━━━━━━━━━━━━━\u001b[0m\u001b[37m\u001b[0m \u001b[1m12s\u001b[0m 2ms/step - accuracy: 0.4131 - loss: 1.2172 - val_accuracy: 0.4109 - val_loss: 1.2247\n",
      "Epoch 18/100\n",
      "\u001b[1m6250/6250\u001b[0m \u001b[32m━━━━━━━━━━━━━━━━━━━━\u001b[0m\u001b[37m\u001b[0m \u001b[1m12s\u001b[0m 2ms/step - accuracy: 0.4144 - loss: 1.2154 - val_accuracy: 0.4113 - val_loss: 1.2229\n",
      "Epoch 19/100\n",
      "\u001b[1m6250/6250\u001b[0m \u001b[32m━━━━━━━━━━━━━━━━━━━━\u001b[0m\u001b[37m\u001b[0m \u001b[1m12s\u001b[0m 2ms/step - accuracy: 0.4187 - loss: 1.2138 - val_accuracy: 0.4111 - val_loss: 1.2241\n",
      "Epoch 20/100\n",
      "\u001b[1m6250/6250\u001b[0m \u001b[32m━━━━━━━━━━━━━━━━━━━━\u001b[0m\u001b[37m\u001b[0m \u001b[1m12s\u001b[0m 2ms/step - accuracy: 0.4170 - loss: 1.2130 - val_accuracy: 0.4123 - val_loss: 1.2238\n",
      "Epoch 21/100\n",
      "\u001b[1m6250/6250\u001b[0m \u001b[32m━━━━━━━━━━━━━━━━━━━━\u001b[0m\u001b[37m\u001b[0m \u001b[1m12s\u001b[0m 2ms/step - accuracy: 0.4164 - loss: 1.2135 - val_accuracy: 0.4107 - val_loss: 1.2247\n",
      "Epoch 22/100\n",
      "\u001b[1m6250/6250\u001b[0m \u001b[32m━━━━━━━━━━━━━━━━━━━━\u001b[0m\u001b[37m\u001b[0m \u001b[1m13s\u001b[0m 2ms/step - accuracy: 0.4175 - loss: 1.2139 - val_accuracy: 0.4093 - val_loss: 1.2267\n",
      "Epoch 23/100\n",
      "\u001b[1m6250/6250\u001b[0m \u001b[32m━━━━━━━━━━━━━━━━━━━━\u001b[0m\u001b[37m\u001b[0m \u001b[1m12s\u001b[0m 2ms/step - accuracy: 0.4184 - loss: 1.2120 - val_accuracy: 0.4111 - val_loss: 1.2237\n",
      "Epoch 24/100\n",
      "\u001b[1m6250/6250\u001b[0m \u001b[32m━━━━━━━━━━━━━━━━━━━━\u001b[0m\u001b[37m\u001b[0m \u001b[1m12s\u001b[0m 2ms/step - accuracy: 0.4170 - loss: 1.2137 - val_accuracy: 0.4118 - val_loss: 1.2239\n",
      "Epoch 25/100\n",
      "\u001b[1m6250/6250\u001b[0m \u001b[32m━━━━━━━━━━━━━━━━━━━━\u001b[0m\u001b[37m\u001b[0m \u001b[1m13s\u001b[0m 2ms/step - accuracy: 0.4188 - loss: 1.2125 - val_accuracy: 0.4109 - val_loss: 1.2245\n",
      "Epoch 26/100\n",
      "\u001b[1m6250/6250\u001b[0m \u001b[32m━━━━━━━━━━━━━━━━━━━━\u001b[0m\u001b[37m\u001b[0m \u001b[1m12s\u001b[0m 2ms/step - accuracy: 0.4174 - loss: 1.2133 - val_accuracy: 0.4121 - val_loss: 1.2233\n",
      "Epoch 27/100\n",
      "\u001b[1m6250/6250\u001b[0m \u001b[32m━━━━━━━━━━━━━━━━━━━━\u001b[0m\u001b[37m\u001b[0m \u001b[1m12s\u001b[0m 2ms/step - accuracy: 0.4181 - loss: 1.2116 - val_accuracy: 0.4092 - val_loss: 1.2258\n",
      "Epoch 28/100\n",
      "\u001b[1m6250/6250\u001b[0m \u001b[32m━━━━━━━━━━━━━━━━━━━━\u001b[0m\u001b[37m\u001b[0m \u001b[1m12s\u001b[0m 2ms/step - accuracy: 0.4195 - loss: 1.2114 - val_accuracy: 0.4123 - val_loss: 1.2231\n",
      "\u001b[1m14772/14772\u001b[0m \u001b[32m━━━━━━━━━━━━━━━━━━━━\u001b[0m\u001b[37m\u001b[0m \u001b[1m8s\u001b[0m 573us/step - accuracy: 0.4117 - loss: 1.2225\n",
      "Validation Loss: 1.2229474782943726\n",
      "Validation Accuracy: 0.41132640838623047\n",
      "\u001b[1m14772/14772\u001b[0m \u001b[32m━━━━━━━━━━━━━━━━━━━━\u001b[0m\u001b[37m\u001b[0m \u001b[1m9s\u001b[0m 573us/step\n",
      "[[77864 15373 17596  8868]\n",
      " [54584 19501 29085 13943]\n",
      " [35624 14962 38080 29917]\n",
      " [21118  7484 29702 58982]]\n",
      "              precision    recall  f1-score   support\n",
      "\n",
      "           0       0.65      0.41      0.50    189190\n",
      "           1       0.17      0.34      0.22     57320\n",
      "           2       0.32      0.33      0.33    114463\n",
      "           3       0.50      0.53      0.52    111710\n",
      "\n",
      "    accuracy                           0.41    472683\n",
      "   macro avg       0.41      0.40      0.39    472683\n",
      "weighted avg       0.48      0.41      0.43    472683\n",
      "\n"
     ]
    }
   ],
   "source": [
    "# Entraînement d'un modèle fully connected de deep learning\n",
    "dense1, dense1_history, dense1_loss, dense1_accuracy, dense1_cnf_matrix = deep_learning_dense(X_train, y_train, X_test, y_test)\n",
    "save_model(dense1, 'dense_fullyconnected_model')"
   ]
  },
  {
   "cell_type": "code",
   "execution_count": null,
   "id": "62a2d999-0948-48ae-961a-fa8531a91439",
   "metadata": {},
   "outputs": [],
   "source": [
    "# Entraînement d'un modèle dense amélioré avec des dropout et du batching normalization\n",
    "dense2, dense2_history, dense2_loss, dense2_accuracy, dense2_cnf_matrix = deep_learning_improved(X_train, y_train, X_test, y_test)\n",
    "save_model(dense2, 'dense_improved_model')"
   ]
  }
 ],
 "metadata": {
  "kernelspec": {
   "display_name": "Python 3 (ipykernel)",
   "language": "python",
   "name": "python3"
  },
  "language_info": {
   "codemirror_mode": {
    "name": "ipython",
    "version": 3
   },
   "file_extension": ".py",
   "mimetype": "text/x-python",
   "name": "python",
   "nbconvert_exporter": "python",
   "pygments_lexer": "ipython3",
   "version": "3.11.9"
  }
 },
 "nbformat": 4,
 "nbformat_minor": 5
}
